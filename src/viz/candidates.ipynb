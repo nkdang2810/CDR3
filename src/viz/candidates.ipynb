{
 "cells": [
  {
   "cell_type": "code",
   "execution_count": 3,
   "metadata": {},
   "outputs": [],
   "source": [
    "import pandas as pd\n",
    "from pathlib import Path\n",
    "pd.options.display.max_colwidth = 100"
   ]
  },
  {
   "cell_type": "code",
   "execution_count": 4,
   "metadata": {},
   "outputs": [
    {
     "data": {
      "text/plain": [
       "CTRGSGRYEYW    17\n",
       "CTRGSGRFEYW    14\n",
       "CTRGSGRFEFW     5\n",
       "CTRGSGRYEFW     4\n",
       "CSRGSGRYEFW     1\n",
       "CTRGSGRYQYW     1\n",
       "CSRGSGRFEYW     1\n",
       "Name: junction_aa, dtype: int64"
      ]
     },
     "execution_count": 4,
     "metadata": {},
     "output_type": "execute_result"
    }
   ],
   "source": [
    "path=\"/rsrch4/home/mol_cgenesis/EMC_BIC_rsrch4/nkdang/CDR3/results/LUAD/heavy/clustering_convergence/clusters/28/IGHV3-49_IGHJ4_CTRGSGRFEYW.csv\"\n",
    "pd.read_csv(path)['junction_aa'].value_counts()"
   ]
  },
  {
   "cell_type": "code",
   "execution_count": 5,
   "metadata": {},
   "outputs": [
    {
     "data": {
      "text/plain": [
       "CTRGSGRYEYW    17\n",
       "CTRGSGRFEYW    14\n",
       "CTRGSGRFEFW     5\n",
       "CTRGSGRFEYR     4\n",
       "CARGSGRFEYW     2\n",
       "CTRGMGRFEYW     1\n",
       "CTTGSGRFEYW     1\n",
       "CTRRSGRFEYW     1\n",
       "CTRGSGRFEYG     1\n",
       "CTRGSGRFEYC     1\n",
       "CTRGSGRFESW     1\n",
       "CTRGSGHFEYW     1\n",
       "CTRGSDRFEYW     1\n",
       "CTRGRGRFEYW     1\n",
       "CPRGSGRFEYW     1\n",
       "CTRESGRFEYW     1\n",
       "CSRGSGRFEYW     1\n",
       "CNRGSGRFEYW     1\n",
       "CTRGSGRDEYW     1\n",
       "CTRGSGRFEVW     1\n",
       "CTRGSGRFEIW     1\n",
       "CTRGSGRFEAW     1\n",
       "CTRGSGCFEYW     1\n",
       "CTRGSGRFAYW     1\n",
       "FTRGSGRFEYW     1\n",
       "Name: junction_aa, dtype: int64"
      ]
     },
     "execution_count": 5,
     "metadata": {},
     "output_type": "execute_result"
    }
   ],
   "source": [
    "path=\"/rsrch4/home/mol_cgenesis/EMC_BIC_rsrch4/nkdang/CDR3/results/LUAD/heavy/clustering_similar/clusters/29/IGHV3-49_IGHJ4_CTRGSGRFEYW.csv\"\n",
    "pd.read_csv(path)['junction_aa'].value_counts()"
   ]
  },
  {
   "cell_type": "code",
   "execution_count": null,
   "metadata": {},
   "outputs": [],
   "source": []
  }
 ],
 "metadata": {
  "kernelspec": {
   "display_name": "Python 3.10.6 ('cdr3')",
   "language": "python",
   "name": "python3"
  },
  "language_info": {
   "codemirror_mode": {
    "name": "ipython",
    "version": 3
   },
   "file_extension": ".py",
   "mimetype": "text/x-python",
   "name": "python",
   "nbconvert_exporter": "python",
   "pygments_lexer": "ipython3",
   "version": "3.10.6 | packaged by conda-forge | (main, Aug 22 2022, 20:35:26) [GCC 10.4.0]"
  },
  "orig_nbformat": 4,
  "vscode": {
   "interpreter": {
    "hash": "da8c4c64fe05bdfb48ef624f0a5e2bd5495d0b6fce7fe20f8a46c3ed1fd61e3f"
   }
  }
 },
 "nbformat": 4,
 "nbformat_minor": 2
}
