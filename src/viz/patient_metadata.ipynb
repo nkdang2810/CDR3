{
 "cells": [
  {
   "cell_type": "code",
   "execution_count": 1,
   "metadata": {},
   "outputs": [],
   "source": [
    "import requests\n",
    "import pandas as pd\n",
    "from pathlib import Path\n",
    "import json\n",
    "import urllib.parse\n",
    "from datetime import date\n",
    "import numpy as np\n",
    "from collections import Counter"
   ]
  },
  {
   "cell_type": "code",
   "execution_count": 2,
   "metadata": {},
   "outputs": [
    {
     "data": {
      "text/html": [
       "<div>\n",
       "<style scoped>\n",
       "    .dataframe tbody tr th:only-of-type {\n",
       "        vertical-align: middle;\n",
       "    }\n",
       "\n",
       "    .dataframe tbody tr th {\n",
       "        vertical-align: top;\n",
       "    }\n",
       "\n",
       "    .dataframe thead th {\n",
       "        text-align: right;\n",
       "    }\n",
       "</style>\n",
       "<table border=\"1\" class=\"dataframe\">\n",
       "  <thead>\n",
       "    <tr style=\"text-align: right;\">\n",
       "      <th></th>\n",
       "      <th>case_id</th>\n",
       "      <th>case_submitter_id</th>\n",
       "      <th>project_id</th>\n",
       "      <th>age_at_index</th>\n",
       "      <th>days_to_death</th>\n",
       "      <th>ethnicity</th>\n",
       "      <th>gender</th>\n",
       "      <th>race</th>\n",
       "      <th>vital_status</th>\n",
       "    </tr>\n",
       "  </thead>\n",
       "  <tbody>\n",
       "    <tr>\n",
       "      <th>0</th>\n",
       "      <td>80e7742f-abbe-4f11-b4e4-c999dc1bd459</td>\n",
       "      <td>TCGA-DD-AAVQ</td>\n",
       "      <td>TCGA-LIHC</td>\n",
       "      <td>38</td>\n",
       "      <td>NaN</td>\n",
       "      <td>not hispanic or latino</td>\n",
       "      <td>male</td>\n",
       "      <td>asian</td>\n",
       "      <td>Alive</td>\n",
       "    </tr>\n",
       "    <tr>\n",
       "      <th>2</th>\n",
       "      <td>2e6f9985-6d13-4b08-8a40-5ea44e9553f0</td>\n",
       "      <td>TCGA-EB-A5FP</td>\n",
       "      <td>TCGA-SKCM</td>\n",
       "      <td>65</td>\n",
       "      <td>454</td>\n",
       "      <td>not hispanic or latino</td>\n",
       "      <td>female</td>\n",
       "      <td>white</td>\n",
       "      <td>Dead</td>\n",
       "    </tr>\n",
       "    <tr>\n",
       "      <th>4</th>\n",
       "      <td>18334157-aa38-4859-a786-99a920a1fbe3</td>\n",
       "      <td>TCGA-CX-A4AQ</td>\n",
       "      <td>TCGA-HNSC</td>\n",
       "      <td>56</td>\n",
       "      <td>NaN</td>\n",
       "      <td>not hispanic or latino</td>\n",
       "      <td>male</td>\n",
       "      <td>white</td>\n",
       "      <td>Alive</td>\n",
       "    </tr>\n",
       "    <tr>\n",
       "      <th>6</th>\n",
       "      <td>a53c919a-4e08-46f1-af3f-30b16b597c33</td>\n",
       "      <td>TCGA-IB-AAUU</td>\n",
       "      <td>TCGA-PAAD</td>\n",
       "      <td>35</td>\n",
       "      <td>NaN</td>\n",
       "      <td>not hispanic or latino</td>\n",
       "      <td>male</td>\n",
       "      <td>white</td>\n",
       "      <td>Alive</td>\n",
       "    </tr>\n",
       "    <tr>\n",
       "      <th>8</th>\n",
       "      <td>9ee64a87-7224-461c-94da-29710d73164f</td>\n",
       "      <td>TCGA-56-8504</td>\n",
       "      <td>TCGA-LUSC</td>\n",
       "      <td>74</td>\n",
       "      <td>NaN</td>\n",
       "      <td>not hispanic or latino</td>\n",
       "      <td>male</td>\n",
       "      <td>white</td>\n",
       "      <td>Alive</td>\n",
       "    </tr>\n",
       "    <tr>\n",
       "      <th>...</th>\n",
       "      <td>...</td>\n",
       "      <td>...</td>\n",
       "      <td>...</td>\n",
       "      <td>...</td>\n",
       "      <td>...</td>\n",
       "      <td>...</td>\n",
       "      <td>...</td>\n",
       "      <td>...</td>\n",
       "      <td>...</td>\n",
       "    </tr>\n",
       "    <tr>\n",
       "      <th>22324</th>\n",
       "      <td>a59a79fd-433d-44dc-9601-4c63d599ab28</td>\n",
       "      <td>TCGA-B5-A11O</td>\n",
       "      <td>TCGA-UCEC</td>\n",
       "      <td>62</td>\n",
       "      <td>NaN</td>\n",
       "      <td>not reported</td>\n",
       "      <td>female</td>\n",
       "      <td>white</td>\n",
       "      <td>Alive</td>\n",
       "    </tr>\n",
       "    <tr>\n",
       "      <th>22326</th>\n",
       "      <td>505dc15c-4f74-43de-8eaf-32b7d7515edb</td>\n",
       "      <td>TCGA-DX-A8BH</td>\n",
       "      <td>TCGA-SARC</td>\n",
       "      <td>86</td>\n",
       "      <td>439</td>\n",
       "      <td>not hispanic or latino</td>\n",
       "      <td>male</td>\n",
       "      <td>white</td>\n",
       "      <td>Dead</td>\n",
       "    </tr>\n",
       "    <tr>\n",
       "      <th>22328</th>\n",
       "      <td>f4e047a5-bdb2-4bc2-aff0-e0f45bcc9062</td>\n",
       "      <td>TCGA-CM-6165</td>\n",
       "      <td>TCGA-COAD</td>\n",
       "      <td>74</td>\n",
       "      <td>NaN</td>\n",
       "      <td>not hispanic or latino</td>\n",
       "      <td>male</td>\n",
       "      <td>white</td>\n",
       "      <td>Alive</td>\n",
       "    </tr>\n",
       "    <tr>\n",
       "      <th>22330</th>\n",
       "      <td>f6d64459-e639-4557-bf10-a9148263ee26</td>\n",
       "      <td>TCGA-32-1973</td>\n",
       "      <td>TCGA-GBM</td>\n",
       "      <td>21</td>\n",
       "      <td>641</td>\n",
       "      <td>hispanic or latino</td>\n",
       "      <td>male</td>\n",
       "      <td>white</td>\n",
       "      <td>Dead</td>\n",
       "    </tr>\n",
       "    <tr>\n",
       "      <th>22332</th>\n",
       "      <td>048ebea2-47ef-4359-9213-a1b7e4fdecf0</td>\n",
       "      <td>TCGA-Y8-A898</td>\n",
       "      <td>TCGA-KIRP</td>\n",
       "      <td>69</td>\n",
       "      <td>NaN</td>\n",
       "      <td>not hispanic or latino</td>\n",
       "      <td>male</td>\n",
       "      <td>white</td>\n",
       "      <td>Alive</td>\n",
       "    </tr>\n",
       "  </tbody>\n",
       "</table>\n",
       "<p>11167 rows × 9 columns</p>\n",
       "</div>"
      ],
      "text/plain": [
       "                                    case_id case_submitter_id project_id  \\\n",
       "0      80e7742f-abbe-4f11-b4e4-c999dc1bd459      TCGA-DD-AAVQ  TCGA-LIHC   \n",
       "2      2e6f9985-6d13-4b08-8a40-5ea44e9553f0      TCGA-EB-A5FP  TCGA-SKCM   \n",
       "4      18334157-aa38-4859-a786-99a920a1fbe3      TCGA-CX-A4AQ  TCGA-HNSC   \n",
       "6      a53c919a-4e08-46f1-af3f-30b16b597c33      TCGA-IB-AAUU  TCGA-PAAD   \n",
       "8      9ee64a87-7224-461c-94da-29710d73164f      TCGA-56-8504  TCGA-LUSC   \n",
       "...                                     ...               ...        ...   \n",
       "22324  a59a79fd-433d-44dc-9601-4c63d599ab28      TCGA-B5-A11O  TCGA-UCEC   \n",
       "22326  505dc15c-4f74-43de-8eaf-32b7d7515edb      TCGA-DX-A8BH  TCGA-SARC   \n",
       "22328  f4e047a5-bdb2-4bc2-aff0-e0f45bcc9062      TCGA-CM-6165  TCGA-COAD   \n",
       "22330  f6d64459-e639-4557-bf10-a9148263ee26      TCGA-32-1973   TCGA-GBM   \n",
       "22332  048ebea2-47ef-4359-9213-a1b7e4fdecf0      TCGA-Y8-A898  TCGA-KIRP   \n",
       "\n",
       "      age_at_index days_to_death               ethnicity  gender   race  \\\n",
       "0               38           NaN  not hispanic or latino    male  asian   \n",
       "2               65           454  not hispanic or latino  female  white   \n",
       "4               56           NaN  not hispanic or latino    male  white   \n",
       "6               35           NaN  not hispanic or latino    male  white   \n",
       "8               74           NaN  not hispanic or latino    male  white   \n",
       "...            ...           ...                     ...     ...    ...   \n",
       "22324           62           NaN            not reported  female  white   \n",
       "22326           86           439  not hispanic or latino    male  white   \n",
       "22328           74           NaN  not hispanic or latino    male  white   \n",
       "22330           21           641      hispanic or latino    male  white   \n",
       "22332           69           NaN  not hispanic or latino    male  white   \n",
       "\n",
       "      vital_status  \n",
       "0            Alive  \n",
       "2             Dead  \n",
       "4            Alive  \n",
       "6            Alive  \n",
       "8            Alive  \n",
       "...            ...  \n",
       "22324        Alive  \n",
       "22326         Dead  \n",
       "22328        Alive  \n",
       "22330         Dead  \n",
       "22332        Alive  \n",
       "\n",
       "[11167 rows x 9 columns]"
      ]
     },
     "execution_count": 2,
     "metadata": {},
     "output_type": "execute_result"
    }
   ],
   "source": [
    "df = pd.read_csv('/rsrch4/home/mol_cgenesis/EMC_BIC_rsrch4/nkdang/CDR3/clinical.tsv', sep='\\t').replace('\\'--', np.NaN)\n",
    "df = df[['case_id','case_submitter_id','project_id','age_at_index','days_to_death','ethnicity','gender','race','vital_status']].drop_duplicates()\n",
    "df.to_csv('/rsrch4/home/mol_cgenesis/EMC_BIC_rsrch4/nkdang/CDR3/clinical_clean.csv', index=False)\n",
    "df"
   ]
  },
  {
   "cell_type": "code",
   "execution_count": 3,
   "metadata": {},
   "outputs": [
    {
     "data": {
      "text/html": [
       "<div>\n",
       "<style scoped>\n",
       "    .dataframe tbody tr th:only-of-type {\n",
       "        vertical-align: middle;\n",
       "    }\n",
       "\n",
       "    .dataframe tbody tr th {\n",
       "        vertical-align: top;\n",
       "    }\n",
       "\n",
       "    .dataframe thead th {\n",
       "        text-align: right;\n",
       "    }\n",
       "</style>\n",
       "<table border=\"1\" class=\"dataframe\">\n",
       "  <thead>\n",
       "    <tr style=\"text-align: right;\">\n",
       "      <th></th>\n",
       "      <th>case_id</th>\n",
       "      <th>case_submitter_id</th>\n",
       "      <th>project_id</th>\n",
       "      <th>age_at_index</th>\n",
       "      <th>days_to_death</th>\n",
       "      <th>ethnicity</th>\n",
       "      <th>gender</th>\n",
       "      <th>race</th>\n",
       "      <th>vital_status</th>\n",
       "    </tr>\n",
       "  </thead>\n",
       "  <tbody>\n",
       "    <tr>\n",
       "      <th>382</th>\n",
       "      <td>1a93dd15-f404-484c-b67c-98169d5522c7</td>\n",
       "      <td>TCGA-AB-2915</td>\n",
       "      <td>TCGA-LAML</td>\n",
       "      <td>73</td>\n",
       "      <td>0</td>\n",
       "      <td>not hispanic or latino</td>\n",
       "      <td>female</td>\n",
       "      <td>white</td>\n",
       "      <td>Dead</td>\n",
       "    </tr>\n",
       "    <tr>\n",
       "      <th>920</th>\n",
       "      <td>5a0e4dc3-4ec6-4d27-bb7e-1d2221d06d33</td>\n",
       "      <td>TCGA-UY-A8OC</td>\n",
       "      <td>TCGA-BLCA</td>\n",
       "      <td>90</td>\n",
       "      <td>0</td>\n",
       "      <td>not hispanic or latino</td>\n",
       "      <td>male</td>\n",
       "      <td>white</td>\n",
       "      <td>Dead</td>\n",
       "    </tr>\n",
       "    <tr>\n",
       "      <th>2066</th>\n",
       "      <td>48f730a5-26c3-4716-964e-36fa9af26966</td>\n",
       "      <td>TCGA-AB-2910</td>\n",
       "      <td>TCGA-LAML</td>\n",
       "      <td>61</td>\n",
       "      <td>0</td>\n",
       "      <td>not hispanic or latino</td>\n",
       "      <td>female</td>\n",
       "      <td>white</td>\n",
       "      <td>Dead</td>\n",
       "    </tr>\n",
       "    <tr>\n",
       "      <th>2418</th>\n",
       "      <td>49f961af-1126-431d-93cd-18941c1738f3</td>\n",
       "      <td>TCGA-FR-A726</td>\n",
       "      <td>TCGA-SKCM</td>\n",
       "      <td>90</td>\n",
       "      <td>0</td>\n",
       "      <td>not hispanic or latino</td>\n",
       "      <td>male</td>\n",
       "      <td>white</td>\n",
       "      <td>Dead</td>\n",
       "    </tr>\n",
       "    <tr>\n",
       "      <th>2628</th>\n",
       "      <td>07083473-8835-4bf9-9f52-b15bba59d932</td>\n",
       "      <td>TCGA-77-A5GB</td>\n",
       "      <td>TCGA-LUSC</td>\n",
       "      <td>90</td>\n",
       "      <td>0</td>\n",
       "      <td>not reported</td>\n",
       "      <td>male</td>\n",
       "      <td>not reported</td>\n",
       "      <td>Dead</td>\n",
       "    </tr>\n",
       "    <tr>\n",
       "      <th>2716</th>\n",
       "      <td>af37d8f0-fea0-47f6-be0a-2fb55a5da5c4</td>\n",
       "      <td>TCGA-AP-A053</td>\n",
       "      <td>TCGA-UCEC</td>\n",
       "      <td>90</td>\n",
       "      <td>0</td>\n",
       "      <td>not hispanic or latino</td>\n",
       "      <td>female</td>\n",
       "      <td>white</td>\n",
       "      <td>Dead</td>\n",
       "    </tr>\n",
       "    <tr>\n",
       "      <th>3626</th>\n",
       "      <td>b804f7ae-da8f-4414-be11-f880f1859160</td>\n",
       "      <td>TCGA-B6-A0IC</td>\n",
       "      <td>TCGA-BRCA</td>\n",
       "      <td>90</td>\n",
       "      <td>0</td>\n",
       "      <td>not hispanic or latino</td>\n",
       "      <td>female</td>\n",
       "      <td>white</td>\n",
       "      <td>Dead</td>\n",
       "    </tr>\n",
       "    <tr>\n",
       "      <th>3962</th>\n",
       "      <td>2a971e32-b0e7-4a3f-8c40-62d69c0307d8</td>\n",
       "      <td>TCGA-AA-A03F</td>\n",
       "      <td>TCGA-COAD</td>\n",
       "      <td>90</td>\n",
       "      <td>0</td>\n",
       "      <td>not reported</td>\n",
       "      <td>female</td>\n",
       "      <td>not reported</td>\n",
       "      <td>Dead</td>\n",
       "    </tr>\n",
       "    <tr>\n",
       "      <th>5566</th>\n",
       "      <td>404dafe8-369c-4659-a088-c85dccb7ad3b</td>\n",
       "      <td>TCGA-AB-2941</td>\n",
       "      <td>TCGA-LAML</td>\n",
       "      <td>73</td>\n",
       "      <td>0</td>\n",
       "      <td>not hispanic or latino</td>\n",
       "      <td>male</td>\n",
       "      <td>white</td>\n",
       "      <td>Dead</td>\n",
       "    </tr>\n",
       "    <tr>\n",
       "      <th>5644</th>\n",
       "      <td>7dcf550c-90ce-4f63-aecd-0e46897e2a3e</td>\n",
       "      <td>TCGA-AC-A23H</td>\n",
       "      <td>TCGA-BRCA</td>\n",
       "      <td>90</td>\n",
       "      <td>0</td>\n",
       "      <td>not hispanic or latino</td>\n",
       "      <td>female</td>\n",
       "      <td>white</td>\n",
       "      <td>Dead</td>\n",
       "    </tr>\n",
       "    <tr>\n",
       "      <th>5956</th>\n",
       "      <td>21bdad0d-c6a2-428c-b2b4-0de282b34abc</td>\n",
       "      <td>TCGA-AA-3850</td>\n",
       "      <td>TCGA-COAD</td>\n",
       "      <td>74</td>\n",
       "      <td>0</td>\n",
       "      <td>not reported</td>\n",
       "      <td>male</td>\n",
       "      <td>not reported</td>\n",
       "      <td>Dead</td>\n",
       "    </tr>\n",
       "    <tr>\n",
       "      <th>6294</th>\n",
       "      <td>e865d40a-9989-436c-8426-88cc84c863e8</td>\n",
       "      <td>TCGA-CJ-5689</td>\n",
       "      <td>TCGA-KIRC</td>\n",
       "      <td>90</td>\n",
       "      <td>0</td>\n",
       "      <td>hispanic or latino</td>\n",
       "      <td>male</td>\n",
       "      <td>white</td>\n",
       "      <td>Dead</td>\n",
       "    </tr>\n",
       "    <tr>\n",
       "      <th>6596</th>\n",
       "      <td>02e4f2da-9977-4251-81da-9e9f3a2310de</td>\n",
       "      <td>TCGA-AB-2842</td>\n",
       "      <td>TCGA-LAML</td>\n",
       "      <td>65</td>\n",
       "      <td>0</td>\n",
       "      <td>not hispanic or latino</td>\n",
       "      <td>male</td>\n",
       "      <td>white</td>\n",
       "      <td>Dead</td>\n",
       "    </tr>\n",
       "    <tr>\n",
       "      <th>6720</th>\n",
       "      <td>6fc5e56a-1f5e-4ff1-948e-5ef636ebb48d</td>\n",
       "      <td>TCGA-AA-3852</td>\n",
       "      <td>TCGA-COAD</td>\n",
       "      <td>88</td>\n",
       "      <td>0</td>\n",
       "      <td>not reported</td>\n",
       "      <td>male</td>\n",
       "      <td>not reported</td>\n",
       "      <td>Dead</td>\n",
       "    </tr>\n",
       "    <tr>\n",
       "      <th>7860</th>\n",
       "      <td>a086aba1-0df5-497b-85e7-bc84aac1acec</td>\n",
       "      <td>TCGA-AB-2820</td>\n",
       "      <td>TCGA-LAML</td>\n",
       "      <td>76</td>\n",
       "      <td>0</td>\n",
       "      <td>not hispanic or latino</td>\n",
       "      <td>male</td>\n",
       "      <td>white</td>\n",
       "      <td>Dead</td>\n",
       "    </tr>\n",
       "    <tr>\n",
       "      <th>7984</th>\n",
       "      <td>209e2e16-cb88-4a8f-9cdb-10e152caa26c</td>\n",
       "      <td>TCGA-L5-A43J</td>\n",
       "      <td>TCGA-ESCA</td>\n",
       "      <td>90</td>\n",
       "      <td>0</td>\n",
       "      <td>not reported</td>\n",
       "      <td>male</td>\n",
       "      <td>white</td>\n",
       "      <td>Dead</td>\n",
       "    </tr>\n",
       "    <tr>\n",
       "      <th>8108</th>\n",
       "      <td>b55cf9ae-9e1a-4301-8f09-9acb7951ecd6</td>\n",
       "      <td>TCGA-AB-2903</td>\n",
       "      <td>TCGA-LAML</td>\n",
       "      <td>76</td>\n",
       "      <td>0</td>\n",
       "      <td>not hispanic or latino</td>\n",
       "      <td>female</td>\n",
       "      <td>white</td>\n",
       "      <td>Dead</td>\n",
       "    </tr>\n",
       "    <tr>\n",
       "      <th>8212</th>\n",
       "      <td>e9ea3687-0db3-47f3-8099-b4fc054397f1</td>\n",
       "      <td>TCGA-CG-4462</td>\n",
       "      <td>TCGA-STAD</td>\n",
       "      <td>72</td>\n",
       "      <td>0</td>\n",
       "      <td>not reported</td>\n",
       "      <td>female</td>\n",
       "      <td>not reported</td>\n",
       "      <td>Dead</td>\n",
       "    </tr>\n",
       "    <tr>\n",
       "      <th>8838</th>\n",
       "      <td>7144a65f-a63f-4b79-8fe2-cfe48696de03</td>\n",
       "      <td>TCGA-G4-6302</td>\n",
       "      <td>TCGA-COAD</td>\n",
       "      <td>90</td>\n",
       "      <td>0</td>\n",
       "      <td>not hispanic or latino</td>\n",
       "      <td>female</td>\n",
       "      <td>white</td>\n",
       "      <td>Dead</td>\n",
       "    </tr>\n",
       "    <tr>\n",
       "      <th>8876</th>\n",
       "      <td>ab9cc98a-86ae-4913-bcb2-cc3aeff8abb1</td>\n",
       "      <td>TCGA-G4-6298</td>\n",
       "      <td>TCGA-COAD</td>\n",
       "      <td>90</td>\n",
       "      <td>0</td>\n",
       "      <td>not hispanic or latino</td>\n",
       "      <td>male</td>\n",
       "      <td>black or african american</td>\n",
       "      <td>Dead</td>\n",
       "    </tr>\n",
       "    <tr>\n",
       "      <th>8960</th>\n",
       "      <td>3c25d91d-0e1b-46db-a842-06275c5db258</td>\n",
       "      <td>TCGA-AB-2890</td>\n",
       "      <td>TCGA-LAML</td>\n",
       "      <td>69</td>\n",
       "      <td>0</td>\n",
       "      <td>not hispanic or latino</td>\n",
       "      <td>male</td>\n",
       "      <td>white</td>\n",
       "      <td>Dead</td>\n",
       "    </tr>\n",
       "    <tr>\n",
       "      <th>9408</th>\n",
       "      <td>0622830d-cf64-4e62-9c7d-9919088d13c4</td>\n",
       "      <td>TCGA-AB-2922</td>\n",
       "      <td>TCGA-LAML</td>\n",
       "      <td>83</td>\n",
       "      <td>0</td>\n",
       "      <td>not hispanic or latino</td>\n",
       "      <td>male</td>\n",
       "      <td>white</td>\n",
       "      <td>Dead</td>\n",
       "    </tr>\n",
       "    <tr>\n",
       "      <th>11722</th>\n",
       "      <td>76e4538f-3383-46b0-884d-978d031ee182</td>\n",
       "      <td>TCGA-ND-A4WA</td>\n",
       "      <td>TCGA-UCS</td>\n",
       "      <td>90</td>\n",
       "      <td>0</td>\n",
       "      <td>not hispanic or latino</td>\n",
       "      <td>female</td>\n",
       "      <td>asian</td>\n",
       "      <td>Dead</td>\n",
       "    </tr>\n",
       "    <tr>\n",
       "      <th>12960</th>\n",
       "      <td>a05e93e6-ad8b-4893-b27d-c9cd329ad564</td>\n",
       "      <td>TCGA-AB-2823</td>\n",
       "      <td>TCGA-LAML</td>\n",
       "      <td>61</td>\n",
       "      <td>0</td>\n",
       "      <td>not hispanic or latino</td>\n",
       "      <td>female</td>\n",
       "      <td>white</td>\n",
       "      <td>Dead</td>\n",
       "    </tr>\n",
       "    <tr>\n",
       "      <th>13886</th>\n",
       "      <td>bc02f801-081b-489b-87cb-d275c70299d5</td>\n",
       "      <td>TCGA-AA-3845</td>\n",
       "      <td>TCGA-COAD</td>\n",
       "      <td>86</td>\n",
       "      <td>0</td>\n",
       "      <td>not reported</td>\n",
       "      <td>female</td>\n",
       "      <td>not reported</td>\n",
       "      <td>Dead</td>\n",
       "    </tr>\n",
       "    <tr>\n",
       "      <th>14458</th>\n",
       "      <td>bfb07784-693b-4c25-874e-4ad6e04a5d46</td>\n",
       "      <td>TCGA-AA-3529</td>\n",
       "      <td>TCGA-COAD</td>\n",
       "      <td>78</td>\n",
       "      <td>0</td>\n",
       "      <td>not reported</td>\n",
       "      <td>female</td>\n",
       "      <td>not reported</td>\n",
       "      <td>Dead</td>\n",
       "    </tr>\n",
       "    <tr>\n",
       "      <th>15428</th>\n",
       "      <td>fb3a387f-ebc6-4422-a782-5c19056f77f2</td>\n",
       "      <td>TCGA-B0-5104</td>\n",
       "      <td>TCGA-KIRC</td>\n",
       "      <td>90</td>\n",
       "      <td>0</td>\n",
       "      <td>not hispanic or latino</td>\n",
       "      <td>female</td>\n",
       "      <td>white</td>\n",
       "      <td>Dead</td>\n",
       "    </tr>\n",
       "    <tr>\n",
       "      <th>15658</th>\n",
       "      <td>92b67ca9-6c82-463e-9cc5-685a1d02ea3e</td>\n",
       "      <td>TCGA-P6-A5OH</td>\n",
       "      <td>TCGA-ACC</td>\n",
       "      <td>59</td>\n",
       "      <td>0</td>\n",
       "      <td>not hispanic or latino</td>\n",
       "      <td>female</td>\n",
       "      <td>white</td>\n",
       "      <td>Dead</td>\n",
       "    </tr>\n",
       "    <tr>\n",
       "      <th>16230</th>\n",
       "      <td>68449d03-6f2e-4b17-a2bf-c0494df32303</td>\n",
       "      <td>TCGA-AB-2861</td>\n",
       "      <td>TCGA-LAML</td>\n",
       "      <td>76</td>\n",
       "      <td>0</td>\n",
       "      <td>not hispanic or latino</td>\n",
       "      <td>male</td>\n",
       "      <td>white</td>\n",
       "      <td>Dead</td>\n",
       "    </tr>\n",
       "    <tr>\n",
       "      <th>17982</th>\n",
       "      <td>97007400-de05-402e-8ff7-96893ba02643</td>\n",
       "      <td>TCGA-AB-2837</td>\n",
       "      <td>TCGA-LAML</td>\n",
       "      <td>66</td>\n",
       "      <td>0</td>\n",
       "      <td>not hispanic or latino</td>\n",
       "      <td>female</td>\n",
       "      <td>white</td>\n",
       "      <td>Dead</td>\n",
       "    </tr>\n",
       "    <tr>\n",
       "      <th>18202</th>\n",
       "      <td>4bae9c20-74a4-4ad3-8cf3-76e41217f389</td>\n",
       "      <td>TCGA-VQ-A923</td>\n",
       "      <td>TCGA-STAD</td>\n",
       "      <td>90</td>\n",
       "      <td>0</td>\n",
       "      <td>not reported</td>\n",
       "      <td>male</td>\n",
       "      <td>white</td>\n",
       "      <td>Dead</td>\n",
       "    </tr>\n",
       "    <tr>\n",
       "      <th>18314</th>\n",
       "      <td>cfb6e5b0-34ed-4f8a-9057-c48de5e28645</td>\n",
       "      <td>TCGA-AB-2931</td>\n",
       "      <td>TCGA-LAML</td>\n",
       "      <td>75</td>\n",
       "      <td>0</td>\n",
       "      <td>not hispanic or latino</td>\n",
       "      <td>male</td>\n",
       "      <td>white</td>\n",
       "      <td>Dead</td>\n",
       "    </tr>\n",
       "    <tr>\n",
       "      <th>19518</th>\n",
       "      <td>762dea8a-5b41-4058-979a-b7876ed13d7e</td>\n",
       "      <td>TCGA-05-4395</td>\n",
       "      <td>TCGA-LUAD</td>\n",
       "      <td>76</td>\n",
       "      <td>0</td>\n",
       "      <td>not reported</td>\n",
       "      <td>male</td>\n",
       "      <td>not reported</td>\n",
       "      <td>Dead</td>\n",
       "    </tr>\n",
       "    <tr>\n",
       "      <th>19698</th>\n",
       "      <td>54c04bcc-ebd5-461e-bbd5-b4d791b00c95</td>\n",
       "      <td>TCGA-GC-A6I1</td>\n",
       "      <td>TCGA-BLCA</td>\n",
       "      <td>90</td>\n",
       "      <td>0</td>\n",
       "      <td>not hispanic or latino</td>\n",
       "      <td>female</td>\n",
       "      <td>white</td>\n",
       "      <td>Dead</td>\n",
       "    </tr>\n",
       "  </tbody>\n",
       "</table>\n",
       "</div>"
      ],
      "text/plain": [
       "                                    case_id case_submitter_id project_id  \\\n",
       "382    1a93dd15-f404-484c-b67c-98169d5522c7      TCGA-AB-2915  TCGA-LAML   \n",
       "920    5a0e4dc3-4ec6-4d27-bb7e-1d2221d06d33      TCGA-UY-A8OC  TCGA-BLCA   \n",
       "2066   48f730a5-26c3-4716-964e-36fa9af26966      TCGA-AB-2910  TCGA-LAML   \n",
       "2418   49f961af-1126-431d-93cd-18941c1738f3      TCGA-FR-A726  TCGA-SKCM   \n",
       "2628   07083473-8835-4bf9-9f52-b15bba59d932      TCGA-77-A5GB  TCGA-LUSC   \n",
       "2716   af37d8f0-fea0-47f6-be0a-2fb55a5da5c4      TCGA-AP-A053  TCGA-UCEC   \n",
       "3626   b804f7ae-da8f-4414-be11-f880f1859160      TCGA-B6-A0IC  TCGA-BRCA   \n",
       "3962   2a971e32-b0e7-4a3f-8c40-62d69c0307d8      TCGA-AA-A03F  TCGA-COAD   \n",
       "5566   404dafe8-369c-4659-a088-c85dccb7ad3b      TCGA-AB-2941  TCGA-LAML   \n",
       "5644   7dcf550c-90ce-4f63-aecd-0e46897e2a3e      TCGA-AC-A23H  TCGA-BRCA   \n",
       "5956   21bdad0d-c6a2-428c-b2b4-0de282b34abc      TCGA-AA-3850  TCGA-COAD   \n",
       "6294   e865d40a-9989-436c-8426-88cc84c863e8      TCGA-CJ-5689  TCGA-KIRC   \n",
       "6596   02e4f2da-9977-4251-81da-9e9f3a2310de      TCGA-AB-2842  TCGA-LAML   \n",
       "6720   6fc5e56a-1f5e-4ff1-948e-5ef636ebb48d      TCGA-AA-3852  TCGA-COAD   \n",
       "7860   a086aba1-0df5-497b-85e7-bc84aac1acec      TCGA-AB-2820  TCGA-LAML   \n",
       "7984   209e2e16-cb88-4a8f-9cdb-10e152caa26c      TCGA-L5-A43J  TCGA-ESCA   \n",
       "8108   b55cf9ae-9e1a-4301-8f09-9acb7951ecd6      TCGA-AB-2903  TCGA-LAML   \n",
       "8212   e9ea3687-0db3-47f3-8099-b4fc054397f1      TCGA-CG-4462  TCGA-STAD   \n",
       "8838   7144a65f-a63f-4b79-8fe2-cfe48696de03      TCGA-G4-6302  TCGA-COAD   \n",
       "8876   ab9cc98a-86ae-4913-bcb2-cc3aeff8abb1      TCGA-G4-6298  TCGA-COAD   \n",
       "8960   3c25d91d-0e1b-46db-a842-06275c5db258      TCGA-AB-2890  TCGA-LAML   \n",
       "9408   0622830d-cf64-4e62-9c7d-9919088d13c4      TCGA-AB-2922  TCGA-LAML   \n",
       "11722  76e4538f-3383-46b0-884d-978d031ee182      TCGA-ND-A4WA   TCGA-UCS   \n",
       "12960  a05e93e6-ad8b-4893-b27d-c9cd329ad564      TCGA-AB-2823  TCGA-LAML   \n",
       "13886  bc02f801-081b-489b-87cb-d275c70299d5      TCGA-AA-3845  TCGA-COAD   \n",
       "14458  bfb07784-693b-4c25-874e-4ad6e04a5d46      TCGA-AA-3529  TCGA-COAD   \n",
       "15428  fb3a387f-ebc6-4422-a782-5c19056f77f2      TCGA-B0-5104  TCGA-KIRC   \n",
       "15658  92b67ca9-6c82-463e-9cc5-685a1d02ea3e      TCGA-P6-A5OH   TCGA-ACC   \n",
       "16230  68449d03-6f2e-4b17-a2bf-c0494df32303      TCGA-AB-2861  TCGA-LAML   \n",
       "17982  97007400-de05-402e-8ff7-96893ba02643      TCGA-AB-2837  TCGA-LAML   \n",
       "18202  4bae9c20-74a4-4ad3-8cf3-76e41217f389      TCGA-VQ-A923  TCGA-STAD   \n",
       "18314  cfb6e5b0-34ed-4f8a-9057-c48de5e28645      TCGA-AB-2931  TCGA-LAML   \n",
       "19518  762dea8a-5b41-4058-979a-b7876ed13d7e      TCGA-05-4395  TCGA-LUAD   \n",
       "19698  54c04bcc-ebd5-461e-bbd5-b4d791b00c95      TCGA-GC-A6I1  TCGA-BLCA   \n",
       "\n",
       "      age_at_index days_to_death               ethnicity  gender  \\\n",
       "382             73             0  not hispanic or latino  female   \n",
       "920             90             0  not hispanic or latino    male   \n",
       "2066            61             0  not hispanic or latino  female   \n",
       "2418            90             0  not hispanic or latino    male   \n",
       "2628            90             0            not reported    male   \n",
       "2716            90             0  not hispanic or latino  female   \n",
       "3626            90             0  not hispanic or latino  female   \n",
       "3962            90             0            not reported  female   \n",
       "5566            73             0  not hispanic or latino    male   \n",
       "5644            90             0  not hispanic or latino  female   \n",
       "5956            74             0            not reported    male   \n",
       "6294            90             0      hispanic or latino    male   \n",
       "6596            65             0  not hispanic or latino    male   \n",
       "6720            88             0            not reported    male   \n",
       "7860            76             0  not hispanic or latino    male   \n",
       "7984            90             0            not reported    male   \n",
       "8108            76             0  not hispanic or latino  female   \n",
       "8212            72             0            not reported  female   \n",
       "8838            90             0  not hispanic or latino  female   \n",
       "8876            90             0  not hispanic or latino    male   \n",
       "8960            69             0  not hispanic or latino    male   \n",
       "9408            83             0  not hispanic or latino    male   \n",
       "11722           90             0  not hispanic or latino  female   \n",
       "12960           61             0  not hispanic or latino  female   \n",
       "13886           86             0            not reported  female   \n",
       "14458           78             0            not reported  female   \n",
       "15428           90             0  not hispanic or latino  female   \n",
       "15658           59             0  not hispanic or latino  female   \n",
       "16230           76             0  not hispanic or latino    male   \n",
       "17982           66             0  not hispanic or latino  female   \n",
       "18202           90             0            not reported    male   \n",
       "18314           75             0  not hispanic or latino    male   \n",
       "19518           76             0            not reported    male   \n",
       "19698           90             0  not hispanic or latino  female   \n",
       "\n",
       "                            race vital_status  \n",
       "382                        white         Dead  \n",
       "920                        white         Dead  \n",
       "2066                       white         Dead  \n",
       "2418                       white         Dead  \n",
       "2628                not reported         Dead  \n",
       "2716                       white         Dead  \n",
       "3626                       white         Dead  \n",
       "3962                not reported         Dead  \n",
       "5566                       white         Dead  \n",
       "5644                       white         Dead  \n",
       "5956                not reported         Dead  \n",
       "6294                       white         Dead  \n",
       "6596                       white         Dead  \n",
       "6720                not reported         Dead  \n",
       "7860                       white         Dead  \n",
       "7984                       white         Dead  \n",
       "8108                       white         Dead  \n",
       "8212                not reported         Dead  \n",
       "8838                       white         Dead  \n",
       "8876   black or african american         Dead  \n",
       "8960                       white         Dead  \n",
       "9408                       white         Dead  \n",
       "11722                      asian         Dead  \n",
       "12960                      white         Dead  \n",
       "13886               not reported         Dead  \n",
       "14458               not reported         Dead  \n",
       "15428                      white         Dead  \n",
       "15658                      white         Dead  \n",
       "16230                      white         Dead  \n",
       "17982                      white         Dead  \n",
       "18202                      white         Dead  \n",
       "18314                      white         Dead  \n",
       "19518               not reported         Dead  \n",
       "19698                      white         Dead  "
      ]
     },
     "execution_count": 3,
     "metadata": {},
     "output_type": "execute_result"
    }
   ],
   "source": [
    "df[df['days_to_death']=='0']"
   ]
  },
  {
   "cell_type": "code",
   "execution_count": 4,
   "metadata": {},
   "outputs": [
    {
     "data": {
      "text/html": [
       "<div>\n",
       "<style scoped>\n",
       "    .dataframe tbody tr th:only-of-type {\n",
       "        vertical-align: middle;\n",
       "    }\n",
       "\n",
       "    .dataframe tbody tr th {\n",
       "        vertical-align: top;\n",
       "    }\n",
       "\n",
       "    .dataframe thead th {\n",
       "        text-align: right;\n",
       "    }\n",
       "</style>\n",
       "<table border=\"1\" class=\"dataframe\">\n",
       "  <thead>\n",
       "    <tr style=\"text-align: right;\">\n",
       "      <th></th>\n",
       "      <th>case_submitter_id</th>\n",
       "      <th>days_to_death</th>\n",
       "    </tr>\n",
       "  </thead>\n",
       "  <tbody>\n",
       "    <tr>\n",
       "      <th>26</th>\n",
       "      <td>TCGA-50-6593</td>\n",
       "      <td>336</td>\n",
       "    </tr>\n",
       "    <tr>\n",
       "      <th>56</th>\n",
       "      <td>TCGA-64-1676</td>\n",
       "      <td>10000</td>\n",
       "    </tr>\n",
       "    <tr>\n",
       "      <th>78</th>\n",
       "      <td>TCGA-55-A494</td>\n",
       "      <td>10000</td>\n",
       "    </tr>\n",
       "    <tr>\n",
       "      <th>132</th>\n",
       "      <td>TCGA-NJ-A4YQ</td>\n",
       "      <td>10000</td>\n",
       "    </tr>\n",
       "    <tr>\n",
       "      <th>164</th>\n",
       "      <td>TCGA-05-4426</td>\n",
       "      <td>10000</td>\n",
       "    </tr>\n",
       "  </tbody>\n",
       "</table>\n",
       "</div>"
      ],
      "text/plain": [
       "    case_submitter_id  days_to_death\n",
       "26       TCGA-50-6593            336\n",
       "56       TCGA-64-1676          10000\n",
       "78       TCGA-55-A494          10000\n",
       "132      TCGA-NJ-A4YQ          10000\n",
       "164      TCGA-05-4426          10000"
      ]
     },
     "execution_count": 4,
     "metadata": {},
     "output_type": "execute_result"
    }
   ],
   "source": [
    "df_LUAD = df[df['project_id']=='TCGA-LUAD'][['case_submitter_id','days_to_death']]\n",
    "df_LUAD['days_to_death'] = df_LUAD['days_to_death'].fillna(10000).astype(int)\n",
    "df_LUAD.head()"
   ]
  },
  {
   "cell_type": "code",
   "execution_count": 5,
   "metadata": {},
   "outputs": [
    {
     "data": {
      "text/html": [
       "<div>\n",
       "<style scoped>\n",
       "    .dataframe tbody tr th:only-of-type {\n",
       "        vertical-align: middle;\n",
       "    }\n",
       "\n",
       "    .dataframe tbody tr th {\n",
       "        vertical-align: top;\n",
       "    }\n",
       "\n",
       "    .dataframe thead th {\n",
       "        text-align: right;\n",
       "    }\n",
       "</style>\n",
       "<table border=\"1\" class=\"dataframe\">\n",
       "  <thead>\n",
       "    <tr style=\"text-align: right;\">\n",
       "      <th></th>\n",
       "      <th>sample_id</th>\n",
       "      <th>v_call</th>\n",
       "      <th>j_call</th>\n",
       "      <th>junction_aa</th>\n",
       "      <th>patient_id</th>\n",
       "      <th>normalized_count</th>\n",
       "      <th>row_index</th>\n",
       "    </tr>\n",
       "  </thead>\n",
       "  <tbody>\n",
       "    <tr>\n",
       "      <th>0</th>\n",
       "      <td>0d6aff01-c03e-44cd-9c79-47a265e41af9</td>\n",
       "      <td>IGHV3-49</td>\n",
       "      <td>IGHJ4</td>\n",
       "      <td>CTRGSGRFEYW</td>\n",
       "      <td>TCGA-62-A46S</td>\n",
       "      <td>0.137665</td>\n",
       "      <td>2279</td>\n",
       "    </tr>\n",
       "    <tr>\n",
       "      <th>1</th>\n",
       "      <td>0ff32a41-532d-4fe0-bccb-020787041956</td>\n",
       "      <td>IGHV3-49</td>\n",
       "      <td>IGHJ4</td>\n",
       "      <td>CTRGSGRYEYW</td>\n",
       "      <td>TCGA-91-6848</td>\n",
       "      <td>0.115677</td>\n",
       "      <td>4032_4033</td>\n",
       "    </tr>\n",
       "    <tr>\n",
       "      <th>2</th>\n",
       "      <td>18741ab4-90ba-4d43-aa69-8a86840399af</td>\n",
       "      <td>IGHV3-49</td>\n",
       "      <td>IGHJ4</td>\n",
       "      <td>CTRGSGRYEYW</td>\n",
       "      <td>TCGA-55-8085</td>\n",
       "      <td>0.018742</td>\n",
       "      <td>6845</td>\n",
       "    </tr>\n",
       "    <tr>\n",
       "      <th>3</th>\n",
       "      <td>1f8160a9-4e65-4d8f-a83d-39b6e03b38f3</td>\n",
       "      <td>IGHV3-49</td>\n",
       "      <td>IGHJ4</td>\n",
       "      <td>CTRGSGRFEYW</td>\n",
       "      <td>TCGA-49-AARO</td>\n",
       "      <td>0.509264</td>\n",
       "      <td>485_2838</td>\n",
       "    </tr>\n",
       "    <tr>\n",
       "      <th>4</th>\n",
       "      <td>1f8160a9-4e65-4d8f-a83d-39b6e03b38f3</td>\n",
       "      <td>IGHV3-49</td>\n",
       "      <td>IGHJ4</td>\n",
       "      <td>CTRGSGRYEHW</td>\n",
       "      <td>TCGA-49-AARO</td>\n",
       "      <td>0.009259</td>\n",
       "      <td>1132</td>\n",
       "    </tr>\n",
       "  </tbody>\n",
       "</table>\n",
       "</div>"
      ],
      "text/plain": [
       "                              sample_id    v_call j_call  junction_aa  \\\n",
       "0  0d6aff01-c03e-44cd-9c79-47a265e41af9  IGHV3-49  IGHJ4  CTRGSGRFEYW   \n",
       "1  0ff32a41-532d-4fe0-bccb-020787041956  IGHV3-49  IGHJ4  CTRGSGRYEYW   \n",
       "2  18741ab4-90ba-4d43-aa69-8a86840399af  IGHV3-49  IGHJ4  CTRGSGRYEYW   \n",
       "3  1f8160a9-4e65-4d8f-a83d-39b6e03b38f3  IGHV3-49  IGHJ4  CTRGSGRFEYW   \n",
       "4  1f8160a9-4e65-4d8f-a83d-39b6e03b38f3  IGHV3-49  IGHJ4  CTRGSGRYEHW   \n",
       "\n",
       "     patient_id  normalized_count  row_index  \n",
       "0  TCGA-62-A46S          0.137665       2279  \n",
       "1  TCGA-91-6848          0.115677  4032_4033  \n",
       "2  TCGA-55-8085          0.018742       6845  \n",
       "3  TCGA-49-AARO          0.509264   485_2838  \n",
       "4  TCGA-49-AARO          0.009259       1132  "
      ]
     },
     "execution_count": 5,
     "metadata": {},
     "output_type": "execute_result"
    }
   ],
   "source": [
    "convergence = pd.read_csv(\"/rsrch4/home/mol_cgenesis/EMC_BIC_rsrch4/nkdang/CDR3/results/LUAD/heavy/clustering_convergence/clusters/26/IGHV3-49_IGHJ4_CTRGSGRFEYW.csv\")\n",
    "convergence.head()"
   ]
  },
  {
   "cell_type": "code",
   "execution_count": 6,
   "metadata": {},
   "outputs": [
    {
     "data": {
      "text/plain": [
       "array([10000,    33,  1830, 10000,  1653, 10000, 10000,   274, 10000,\n",
       "       10000, 10000, 10000,   869,   442, 10000, 10000,   444, 10000,\n",
       "         124, 10000, 10000,   300, 10000, 10000,   582, 10000])"
      ]
     },
     "execution_count": 6,
     "metadata": {},
     "output_type": "execute_result"
    }
   ],
   "source": [
    "df_LUAD[df_LUAD['case_submitter_id'].isin(convergence['patient_id'].unique())]['days_to_death'].values"
   ]
  },
  {
   "cell_type": "code",
   "execution_count": 7,
   "metadata": {},
   "outputs": [],
   "source": [
    "data = {}\n",
    "for c in Path(\"/rsrch4/home/mol_cgenesis/EMC_BIC_rsrch4/nkdang/CDR3/results/LUAD/heavy/clustering_convergence/clusters\").glob(\"**/*.csv\"):\n",
    "    if int(c.parent.stem) > 6:\n",
    "        convergence = pd.read_csv(c)\n",
    "        data[c.parent.name+\"_\"+c.stem] = df_LUAD[df_LUAD['case_submitter_id'].isin(convergence['patient_id'].unique())]['days_to_death'].fillna(\"-1\").values.astype(int).tolist()\n",
    "# data = sorted(data, key=len, reverse=True)"
   ]
  },
  {
   "cell_type": "code",
   "execution_count": 16,
   "metadata": {},
   "outputs": [
    {
     "data": {
      "text/plain": [
       "array([[10000,  1026, 10000, 10000, 10000, 10000, 10000]])"
      ]
     },
     "execution_count": 16,
     "metadata": {},
     "output_type": "execute_result"
    }
   ],
   "source": [
    "marker=dict(size=[counter[i]+5 for i in c[1]])"
   ]
  },
  {
   "cell_type": "code",
   "execution_count": 26,
   "metadata": {},
   "outputs": [
    {
     "data": {
      "application/vnd.plotly.v1+json": {
       "config": {
        "plotlyServerURL": "https://plot.ly"
       },
       "data": [
        {
         "fillcolor": "rgba(255,0,0,0)",
         "line": {
          "width": 0
         },
         "name": "7_IGHV2-5_IGHJ4_CAHRLRYCSGGSCYSAFDYW",
         "pointpos": 0,
         "type": "box",
         "y": [
          10000,
          1026,
          10000,
          10000,
          10000,
          10000,
          10000
         ]
        },
        {
         "fillcolor": "rgba(255,0,0,0)",
         "line": {
          "width": 0
         },
         "name": "7_IGHV1-46_IGHJ4_CAIASFDYW",
         "pointpos": 0,
         "type": "box",
         "y": [
          10000,
          257,
          10000,
          10000,
          10000,
          10000,
          434
         ]
        },
        {
         "fillcolor": "rgba(255,0,0,0)",
         "line": {
          "width": 0
         },
         "name": "7_IGHV3-13_IGHJ6_CARDAYGMDVW",
         "pointpos": 0,
         "type": "box",
         "y": [
          10000,
          10000,
          10000,
          10000,
          10000,
          0,
          1600
         ]
        },
        {
         "fillcolor": "rgba(255,0,0,0)",
         "line": {
          "width": 0
         },
         "name": "7_IGHV3-23_IGHJ4_CAKRSPYYFDYW",
         "pointpos": 0,
         "type": "box",
         "y": [
          10000,
          10000,
          10000,
          10000,
          10000,
          10000,
          10000
         ]
        },
        {
         "fillcolor": "rgba(255,0,0,0)",
         "line": {
          "width": 0
         },
         "name": "7_IGHV4-59_IGHJ4_CARGSAPRPGYW",
         "pointpos": 0,
         "type": "box",
         "y": [
          808,
          10000,
          10000,
          10000,
          10000,
          10000,
          154
         ]
        },
        {
         "fillcolor": "rgba(255,0,0,0)",
         "line": {
          "width": 0
         },
         "name": "7_IGHV3-13_IGHJ6_CARDPNGLDVR",
         "pointpos": 0,
         "type": "box",
         "y": [
          1830,
          10000,
          274,
          10000,
          10000,
          10000,
          38
         ]
        },
        {
         "fillcolor": "rgba(255,0,0,0)",
         "line": {
          "width": 0
         },
         "name": "7_IGHV3-74_IGHJ4_CARDVSGRDDYW",
         "pointpos": 0,
         "type": "box",
         "y": [
          10000,
          1498,
          10000,
          124,
          10000,
          10000,
          10000
         ]
        },
        {
         "fillcolor": "rgba(255,0,0,0)",
         "line": {
          "width": 0
         },
         "name": "7_IGHV1-69_IGHJ3_CAKRANCGGDCYAFDIW",
         "pointpos": 0,
         "type": "box",
         "y": [
          10000,
          10000,
          10000,
          10000,
          74,
          10000,
          1288
         ]
        },
        {
         "fillcolor": "rgba(255,0,0,0)",
         "line": {
          "width": 0
         },
         "name": "7_IGHV3-74_IGHJ6_CSRGRYYGMDVW",
         "pointpos": 0,
         "type": "box",
         "y": [
          711,
          244,
          10000,
          10000,
          701,
          10000,
          1600
         ]
        },
        {
         "fillcolor": "rgba(255,0,0,0)",
         "line": {
          "width": 0
         },
         "name": "7_IGHV1-8_IGHJ5_CARGRYYDPW",
         "pointpos": 0,
         "type": "box",
         "y": [
          1830,
          10000,
          10000,
          10000,
          10000,
          1600,
          10000
         ]
        },
        {
         "fillcolor": "rgba(255,0,0,0)",
         "line": {
          "width": 0
         },
         "name": "7_IGHV3-23_IGHJ4_CAKDHPSNGWPTFDYW",
         "pointpos": 0,
         "type": "box",
         "y": [
          10000,
          10000,
          10000,
          10000,
          237,
          10000,
          1147
         ]
        },
        {
         "fillcolor": "rgba(255,0,0,0)",
         "line": {
          "width": 0
         },
         "name": "7_IGHV3-74_IGHJ4_CATSRSFDYW",
         "pointpos": 0,
         "type": "box",
         "y": [
          244,
          10000,
          10000,
          10000,
          10000,
          10000,
          701
         ]
        },
        {
         "fillcolor": "rgba(255,0,0,0)",
         "line": {
          "width": 0
         },
         "name": "7_IGHV6-1_IGHJ3_CARGINSAFDLW",
         "pointpos": 0,
         "type": "box",
         "y": [
          282,
          10000,
          10000,
          10000,
          10000,
          10000,
          2617
         ]
        },
        {
         "fillcolor": "rgba(255,0,0,0)",
         "line": {
          "width": 0
         },
         "name": "7_IGHV3-23_IGHJ3_CAKGGASLLDAFDIW",
         "pointpos": 0,
         "type": "box",
         "y": [
          10000,
          10000,
          10000,
          10000,
          1293,
          58,
          626
         ]
        },
        {
         "fillcolor": "rgba(255,0,0,0)",
         "line": {
          "width": 0
         },
         "name": "7_IGHV3-7_IGHJ6_CARGHYAVDVW",
         "pointpos": 0,
         "type": "box",
         "y": [
          10000,
          10000,
          10000,
          10000,
          10000,
          10000,
          10000
         ]
        },
        {
         "fillcolor": "rgba(255,0,0,0)",
         "line": {
          "width": 0
         },
         "name": "7_IGHV3-30_IGHJ6_CAKDDYGMDVW",
         "pointpos": 0,
         "type": "box",
         "y": [
          1622,
          10000,
          118,
          10000,
          864,
          10000,
          10000
         ]
        },
        {
         "fillcolor": "rgba(255,0,0,0)",
         "line": {
          "width": 0
         },
         "name": "7_IGHV3-30_IGHJ4_CTRALDYW",
         "pointpos": 0,
         "type": "box",
         "y": [
          10000,
          10000,
          10000,
          10000,
          10000,
          336,
          10000
         ]
        },
        {
         "fillcolor": "rgba(255,0,0,0)",
         "line": {
          "width": 0
         },
         "name": "21_IGHV4-34_IGHJ4_CARGLDYW",
         "pointpos": 0,
         "type": "box",
         "y": [
          10000,
          10000,
          10000,
          10000,
          10000,
          10000,
          274,
          10000,
          10000,
          1046,
          10000,
          97,
          10000,
          10000,
          10000,
          275,
          10000,
          10000,
          308,
          409,
          10000
         ]
        },
        {
         "fillcolor": "rgba(255,0,0,0)",
         "line": {
          "width": 0
         },
         "name": "11_IGHV4-34_IGHJ4_CARGAPGYW",
         "pointpos": 0,
         "type": "box",
         "y": [
          702,
          10000,
          10000,
          10000,
          10000,
          10000,
          987,
          154,
          677,
          469,
          10000
         ]
        },
        {
         "fillcolor": "rgba(255,0,0,0)",
         "line": {
          "width": 0
         },
         "name": "11_IGHV3-15_IGHJ4_CTTDPRDW",
         "pointpos": 0,
         "type": "box",
         "y": [
          10000,
          1778,
          594,
          10000,
          10000,
          10000,
          1147,
          10000,
          10000,
          10000,
          10000
         ]
        },
        {
         "fillcolor": "rgba(255,0,0,0)",
         "line": {
          "width": 0
         },
         "name": "11_IGHV4-38-2_IGHJ4_CARAELGDFDSW",
         "pointpos": 0,
         "type": "box",
         "y": [
          1258,
          10000,
          10000,
          10000,
          10000,
          10000,
          478,
          10000,
          10000,
          701,
          10000
         ]
        },
        {
         "fillcolor": "rgba(255,0,0,0)",
         "line": {
          "width": 0
         },
         "name": "19_IGHV3-30_IGHJ6_CAKDSYGMDVW",
         "pointpos": 0,
         "type": "box",
         "y": [
          1622,
          10000,
          666,
          10000,
          10000,
          10000,
          10000,
          10000,
          440,
          10000,
          10000,
          1293,
          10000,
          10000,
          10000,
          10000,
          10000,
          1288,
          10000
         ]
        },
        {
         "fillcolor": "rgba(255,0,0,0)",
         "line": {
          "width": 0
         },
         "name": "14_IGHV3-13_IGHJ6_CARDKHGMDVW",
         "pointpos": 0,
         "type": "box",
         "y": [
          10000,
          10000,
          10000,
          10000,
          896,
          10000,
          1026,
          10000,
          1293,
          10000,
          10000,
          10000,
          2617,
          582
         ]
        },
        {
         "fillcolor": "rgba(255,0,0,0)",
         "line": {
          "width": 0
         },
         "name": "17_IGHV3-30_IGHJ4_CARALDYW",
         "pointpos": 0,
         "type": "box",
         "y": [
          10000,
          10000,
          33,
          10000,
          896,
          10000,
          10000,
          10000,
          10000,
          10000,
          1215,
          10000,
          10000,
          291,
          2617,
          10000,
          10000
         ]
        },
        {
         "fillcolor": "rgba(255,0,0,0)",
         "line": {
          "width": 0
         },
         "name": "26_IGHV3-49_IGHJ4_CTRGSGRFEYW",
         "pointpos": 0,
         "type": "box",
         "y": [
          10000,
          33,
          1830,
          10000,
          1653,
          10000,
          10000,
          274,
          10000,
          10000,
          10000,
          10000,
          869,
          442,
          10000,
          10000,
          444,
          10000,
          124,
          10000,
          10000,
          300,
          10000,
          10000,
          582,
          10000
         ]
        },
        {
         "fillcolor": "rgba(255,0,0,0)",
         "line": {
          "width": 0
         },
         "name": "13_IGHV3-20_IGHJ4_CARGDGGDYW",
         "pointpos": 0,
         "type": "box",
         "y": [
          10000,
          10000,
          10000,
          10000,
          10000,
          237,
          10000,
          10000,
          10000,
          10000,
          10000,
          10000,
          10000
         ]
        },
        {
         "fillcolor": "rgba(255,0,0,0)",
         "line": {
          "width": 0
         },
         "name": "16_IGHV3-23_IGHJ4_CAKRGGDYW",
         "pointpos": 0,
         "type": "box",
         "y": [
          10000,
          457,
          995,
          2318,
          10000,
          10000,
          10000,
          10000,
          10000,
          10000,
          154,
          10000,
          250,
          307,
          10000,
          10000
         ]
        },
        {
         "fillcolor": "rgba(255,0,0,0)",
         "line": {
          "width": 0
         },
         "name": "16_IGHV3-7_IGHJ4_CARDPAAWDYW",
         "pointpos": 0,
         "type": "box",
         "y": [
          10000,
          10000,
          10000,
          10000,
          10000,
          10000,
          10000,
          10000,
          444,
          10000,
          1215,
          307,
          10000,
          10000,
          10000,
          434
         ]
        },
        {
         "fillcolor": "rgba(255,0,0,0)",
         "line": {
          "width": 0
         },
         "name": "16_IGHV3-13_IGHJ6_CARDPHGLDVW",
         "pointpos": 0,
         "type": "box",
         "y": [
          10000,
          808,
          10000,
          628,
          274,
          10000,
          10000,
          10000,
          10000,
          1235,
          10000,
          10000,
          10000,
          10000,
          10000,
          38
         ]
        },
        {
         "fillcolor": "rgba(255,0,0,0)",
         "line": {
          "width": 0
         },
         "name": "16_IGHV5-51_IGHJ5_CARHGSIGARQNWFDPW",
         "pointpos": 0,
         "type": "box",
         "y": [
          457,
          855,
          10000,
          10000,
          1026,
          10000,
          10000,
          800,
          10000,
          10000,
          193,
          10000,
          10000,
          10000,
          10000,
          10000
         ]
        },
        {
         "fillcolor": "rgba(255,0,0,0)",
         "line": {
          "width": 0
         },
         "name": "16_IGHV3-15_IGHJ4_CTTDPRYW",
         "pointpos": 0,
         "type": "box",
         "y": [
          10000,
          10000,
          10000,
          10000,
          1026,
          1778,
          10000,
          1081,
          10000,
          321,
          10000,
          10000,
          10000,
          10000,
          10000,
          10000
         ]
        },
        {
         "fillcolor": "rgba(255,0,0,0)",
         "line": {
          "width": 0
         },
         "name": "9_IGHV3-23_IGHJ6_CAKQFVDVW",
         "pointpos": 0,
         "type": "box",
         "y": [
          702,
          1830,
          808,
          10000,
          10000,
          10000,
          10000,
          10000,
          10000
         ]
        },
        {
         "fillcolor": "rgba(255,0,0,0)",
         "line": {
          "width": 0
         },
         "name": "9_IGHV3-74_IGHJ5_CAKSDWFDPW",
         "pointpos": 0,
         "type": "box",
         "y": [
          10000,
          10000,
          1830,
          10000,
          10000,
          10000,
          460,
          10000,
          10000
         ]
        },
        {
         "fillcolor": "rgba(255,0,0,0)",
         "line": {
          "width": 0
         },
         "name": "9_IGHV4-34_IGHJ6_CARGVDVW",
         "pointpos": 0,
         "type": "box",
         "y": [
          442,
          10000,
          10000,
          10000,
          10000,
          10000,
          10000,
          167,
          434
         ]
        },
        {
         "fillcolor": "rgba(255,0,0,0)",
         "line": {
          "width": 0
         },
         "name": "9_IGHV3-7_IGHJ4_CARGGYWEPPDYW",
         "pointpos": 0,
         "type": "box",
         "y": [
          244,
          187,
          1026,
          97,
          74,
          10000,
          10000,
          10000,
          10000
         ]
        },
        {
         "fillcolor": "rgba(255,0,0,0)",
         "line": {
          "width": 0
         },
         "name": "9_IGHV3-49_IGHJ4_CTRGSGRFEFW",
         "pointpos": 0,
         "type": "box",
         "y": [
          1830,
          10000,
          274,
          10000,
          10000,
          10000,
          444,
          10000,
          10000
         ]
        },
        {
         "fillcolor": "rgba(255,0,0,0)",
         "line": {
          "width": 0
         },
         "name": "9_IGHV3-13_IGHJ6_CARDPNGLDVW",
         "pointpos": 0,
         "type": "box",
         "y": [
          666,
          1830,
          10000,
          10000,
          10000,
          10000,
          10000,
          10000,
          2681
         ]
        },
        {
         "fillcolor": "rgba(255,0,0,0)",
         "line": {
          "width": 0
         },
         "name": "9_IGHV3-74_IGHJ4_CARGYSGTYRVDYW",
         "pointpos": 0,
         "type": "box",
         "y": [
          10000,
          1265,
          10000,
          10000,
          10000,
          896,
          10000,
          10000,
          10000
         ]
        },
        {
         "fillcolor": "rgba(255,0,0,0)",
         "line": {
          "width": 0
         },
         "name": "12_IGHV2-5_IGHJ4_CAHRRGAPGYFNYW",
         "pointpos": 0,
         "type": "box",
         "y": [
          457,
          702,
          354,
          244,
          97,
          10000,
          10000,
          154,
          10000,
          10000,
          10000,
          10000
         ]
        },
        {
         "fillcolor": "rgba(255,0,0,0)",
         "line": {
          "width": 0
         },
         "name": "12_IGHV3-11_IGHJ6_CARGHYGLDVW",
         "pointpos": 0,
         "type": "box",
         "y": [
          10000,
          464,
          244,
          10000,
          1268,
          10000,
          10000,
          607,
          10000,
          10000,
          10000,
          10000
         ]
        },
        {
         "fillcolor": "rgba(255,0,0,0)",
         "line": {
          "width": 0
         },
         "name": "12_IGHV3-13_IGHJ6_CARDVHGMDVW",
         "pointpos": 0,
         "type": "box",
         "y": [
          10000,
          10000,
          896,
          10000,
          10000,
          10000,
          10000,
          10000,
          10000,
          10000,
          10000,
          10000
         ]
        },
        {
         "fillcolor": "rgba(255,0,0,0)",
         "line": {
          "width": 0
         },
         "name": "12_IGHV4-59_IGHJ4_CARGFGSSWYYFDYW",
         "pointpos": 0,
         "type": "box",
         "y": [
          10000,
          243,
          628,
          10000,
          10000,
          10000,
          10000,
          10000,
          124,
          10000,
          10000,
          1288
         ]
        },
        {
         "fillcolor": "rgba(255,0,0,0)",
         "line": {
          "width": 0
         },
         "name": "12_IGHV3-7_IGHJ6_CARGHYGMDVW",
         "pointpos": 0,
         "type": "box",
         "y": [
          995,
          666,
          10000,
          10000,
          10000,
          10000,
          10000,
          10000,
          10000,
          10000,
          10000,
          582
         ]
        },
        {
         "fillcolor": "rgba(255,0,0,0)",
         "line": {
          "width": 0
         },
         "name": "10_IGHV1-24_IGHJ4_CATDYDYW",
         "pointpos": 0,
         "type": "box",
         "y": [
          10000,
          10000,
          10000,
          10000,
          10000,
          10000,
          761,
          10000,
          10000,
          468
         ]
        },
        {
         "fillcolor": "rgba(255,0,0,0)",
         "line": {
          "width": 0
         },
         "name": "10_IGHV3-15_IGHJ4_CMADLDYW",
         "pointpos": 0,
         "type": "box",
         "y": [
          10000,
          10000,
          10000,
          10000,
          1293,
          624,
          586,
          10000,
          10000,
          10000
         ]
        },
        {
         "fillcolor": "rgba(255,0,0,0)",
         "line": {
          "width": 0
         },
         "name": "10_IGHV3-33_IGHJ6_CAKDSYGMDVW",
         "pointpos": 0,
         "type": "box",
         "y": [
          10000,
          1046,
          10000,
          10000,
          10000,
          10000,
          0,
          10000,
          1288,
          409
         ]
        },
        {
         "fillcolor": "rgba(255,0,0,0)",
         "line": {
          "width": 0
         },
         "name": "10_IGHV3-74_IGHJ4_CVRGMGDYW",
         "pointpos": 0,
         "type": "box",
         "y": [
          10000,
          711,
          10000,
          10000,
          429,
          10000,
          300,
          1209,
          2617,
          10000
         ]
        },
        {
         "fillcolor": "rgba(255,0,0,0)",
         "line": {
          "width": 0
         },
         "name": "8_IGHV3-15_IGHJ4_CTTAPDYW",
         "pointpos": 0,
         "type": "box",
         "y": [
          10000,
          1830,
          10000,
          10000,
          10000,
          10000,
          307,
          557
         ]
        },
        {
         "fillcolor": "rgba(255,0,0,0)",
         "line": {
          "width": 0
         },
         "name": "8_IGHV3-49_IGHJ4_CTRGSGRFEYR",
         "pointpos": 0,
         "type": "box",
         "y": [
          33,
          274,
          10000,
          10000,
          10000,
          10000,
          10000,
          300
         ]
        },
        {
         "fillcolor": "rgba(255,0,0,0)",
         "line": {
          "width": 0
         },
         "name": "8_IGHV1-69_IGHJ5_CARGGDWFDPW",
         "pointpos": 0,
         "type": "box",
         "y": [
          896,
          10000,
          10000,
          460,
          10000,
          10000,
          291,
          10000
         ]
        },
        {
         "fillcolor": "rgba(255,0,0,0)",
         "line": {
          "width": 0
         },
         "name": "8_IGHV3-23_IGHJ4_CAKQYVDCW",
         "pointpos": 0,
         "type": "box",
         "y": [
          10000,
          10000,
          237,
          10000,
          10000,
          10000,
          1516,
          10000
         ]
        },
        {
         "fillcolor": "rgba(255,0,0,0)",
         "line": {
          "width": 0
         },
         "name": "8_IGHV2-5_IGHJ4_CAHGSGWLFDYW",
         "pointpos": 0,
         "type": "box",
         "y": [
          10000,
          244,
          10000,
          10000,
          10000,
          10000,
          10000,
          10000
         ]
        },
        {
         "fillcolor": "rgba(255,0,0,0)",
         "line": {
          "width": 0
         },
         "name": "8_IGHV1-69_IGHJ4_CARGGVVGAPFDYW",
         "pointpos": 0,
         "type": "box",
         "y": [
          10000,
          896,
          10000,
          10000,
          339,
          10000,
          10000,
          10000
         ]
        },
        {
         "fillcolor": "rgba(255,0,0,0)",
         "line": {
          "width": 0
         },
         "name": "8_IGHV3-7_IGHJ3_CARDLRVFDVW",
         "pointpos": 0,
         "type": "box",
         "y": [
          10000,
          808,
          929,
          10000,
          10000,
          1135,
          10000,
          10000
         ]
        }
       ],
       "layout": {
        "height": 800,
        "showlegend": false,
        "template": {
         "data": {
          "bar": [
           {
            "error_x": {
             "color": "#2a3f5f"
            },
            "error_y": {
             "color": "#2a3f5f"
            },
            "marker": {
             "line": {
              "color": "#E5ECF6",
              "width": 0.5
             },
             "pattern": {
              "fillmode": "overlay",
              "size": 10,
              "solidity": 0.2
             }
            },
            "type": "bar"
           }
          ],
          "barpolar": [
           {
            "marker": {
             "line": {
              "color": "#E5ECF6",
              "width": 0.5
             },
             "pattern": {
              "fillmode": "overlay",
              "size": 10,
              "solidity": 0.2
             }
            },
            "type": "barpolar"
           }
          ],
          "carpet": [
           {
            "aaxis": {
             "endlinecolor": "#2a3f5f",
             "gridcolor": "white",
             "linecolor": "white",
             "minorgridcolor": "white",
             "startlinecolor": "#2a3f5f"
            },
            "baxis": {
             "endlinecolor": "#2a3f5f",
             "gridcolor": "white",
             "linecolor": "white",
             "minorgridcolor": "white",
             "startlinecolor": "#2a3f5f"
            },
            "type": "carpet"
           }
          ],
          "choropleth": [
           {
            "colorbar": {
             "outlinewidth": 0,
             "ticks": ""
            },
            "type": "choropleth"
           }
          ],
          "contour": [
           {
            "colorbar": {
             "outlinewidth": 0,
             "ticks": ""
            },
            "colorscale": [
             [
              0,
              "#0d0887"
             ],
             [
              0.1111111111111111,
              "#46039f"
             ],
             [
              0.2222222222222222,
              "#7201a8"
             ],
             [
              0.3333333333333333,
              "#9c179e"
             ],
             [
              0.4444444444444444,
              "#bd3786"
             ],
             [
              0.5555555555555556,
              "#d8576b"
             ],
             [
              0.6666666666666666,
              "#ed7953"
             ],
             [
              0.7777777777777778,
              "#fb9f3a"
             ],
             [
              0.8888888888888888,
              "#fdca26"
             ],
             [
              1,
              "#f0f921"
             ]
            ],
            "type": "contour"
           }
          ],
          "contourcarpet": [
           {
            "colorbar": {
             "outlinewidth": 0,
             "ticks": ""
            },
            "type": "contourcarpet"
           }
          ],
          "heatmap": [
           {
            "colorbar": {
             "outlinewidth": 0,
             "ticks": ""
            },
            "colorscale": [
             [
              0,
              "#0d0887"
             ],
             [
              0.1111111111111111,
              "#46039f"
             ],
             [
              0.2222222222222222,
              "#7201a8"
             ],
             [
              0.3333333333333333,
              "#9c179e"
             ],
             [
              0.4444444444444444,
              "#bd3786"
             ],
             [
              0.5555555555555556,
              "#d8576b"
             ],
             [
              0.6666666666666666,
              "#ed7953"
             ],
             [
              0.7777777777777778,
              "#fb9f3a"
             ],
             [
              0.8888888888888888,
              "#fdca26"
             ],
             [
              1,
              "#f0f921"
             ]
            ],
            "type": "heatmap"
           }
          ],
          "heatmapgl": [
           {
            "colorbar": {
             "outlinewidth": 0,
             "ticks": ""
            },
            "colorscale": [
             [
              0,
              "#0d0887"
             ],
             [
              0.1111111111111111,
              "#46039f"
             ],
             [
              0.2222222222222222,
              "#7201a8"
             ],
             [
              0.3333333333333333,
              "#9c179e"
             ],
             [
              0.4444444444444444,
              "#bd3786"
             ],
             [
              0.5555555555555556,
              "#d8576b"
             ],
             [
              0.6666666666666666,
              "#ed7953"
             ],
             [
              0.7777777777777778,
              "#fb9f3a"
             ],
             [
              0.8888888888888888,
              "#fdca26"
             ],
             [
              1,
              "#f0f921"
             ]
            ],
            "type": "heatmapgl"
           }
          ],
          "histogram": [
           {
            "marker": {
             "pattern": {
              "fillmode": "overlay",
              "size": 10,
              "solidity": 0.2
             }
            },
            "type": "histogram"
           }
          ],
          "histogram2d": [
           {
            "colorbar": {
             "outlinewidth": 0,
             "ticks": ""
            },
            "colorscale": [
             [
              0,
              "#0d0887"
             ],
             [
              0.1111111111111111,
              "#46039f"
             ],
             [
              0.2222222222222222,
              "#7201a8"
             ],
             [
              0.3333333333333333,
              "#9c179e"
             ],
             [
              0.4444444444444444,
              "#bd3786"
             ],
             [
              0.5555555555555556,
              "#d8576b"
             ],
             [
              0.6666666666666666,
              "#ed7953"
             ],
             [
              0.7777777777777778,
              "#fb9f3a"
             ],
             [
              0.8888888888888888,
              "#fdca26"
             ],
             [
              1,
              "#f0f921"
             ]
            ],
            "type": "histogram2d"
           }
          ],
          "histogram2dcontour": [
           {
            "colorbar": {
             "outlinewidth": 0,
             "ticks": ""
            },
            "colorscale": [
             [
              0,
              "#0d0887"
             ],
             [
              0.1111111111111111,
              "#46039f"
             ],
             [
              0.2222222222222222,
              "#7201a8"
             ],
             [
              0.3333333333333333,
              "#9c179e"
             ],
             [
              0.4444444444444444,
              "#bd3786"
             ],
             [
              0.5555555555555556,
              "#d8576b"
             ],
             [
              0.6666666666666666,
              "#ed7953"
             ],
             [
              0.7777777777777778,
              "#fb9f3a"
             ],
             [
              0.8888888888888888,
              "#fdca26"
             ],
             [
              1,
              "#f0f921"
             ]
            ],
            "type": "histogram2dcontour"
           }
          ],
          "mesh3d": [
           {
            "colorbar": {
             "outlinewidth": 0,
             "ticks": ""
            },
            "type": "mesh3d"
           }
          ],
          "parcoords": [
           {
            "line": {
             "colorbar": {
              "outlinewidth": 0,
              "ticks": ""
             }
            },
            "type": "parcoords"
           }
          ],
          "pie": [
           {
            "automargin": true,
            "type": "pie"
           }
          ],
          "scatter": [
           {
            "fillpattern": {
             "fillmode": "overlay",
             "size": 10,
             "solidity": 0.2
            },
            "type": "scatter"
           }
          ],
          "scatter3d": [
           {
            "line": {
             "colorbar": {
              "outlinewidth": 0,
              "ticks": ""
             }
            },
            "marker": {
             "colorbar": {
              "outlinewidth": 0,
              "ticks": ""
             }
            },
            "type": "scatter3d"
           }
          ],
          "scattercarpet": [
           {
            "marker": {
             "colorbar": {
              "outlinewidth": 0,
              "ticks": ""
             }
            },
            "type": "scattercarpet"
           }
          ],
          "scattergeo": [
           {
            "marker": {
             "colorbar": {
              "outlinewidth": 0,
              "ticks": ""
             }
            },
            "type": "scattergeo"
           }
          ],
          "scattergl": [
           {
            "marker": {
             "colorbar": {
              "outlinewidth": 0,
              "ticks": ""
             }
            },
            "type": "scattergl"
           }
          ],
          "scattermapbox": [
           {
            "marker": {
             "colorbar": {
              "outlinewidth": 0,
              "ticks": ""
             }
            },
            "type": "scattermapbox"
           }
          ],
          "scatterpolar": [
           {
            "marker": {
             "colorbar": {
              "outlinewidth": 0,
              "ticks": ""
             }
            },
            "type": "scatterpolar"
           }
          ],
          "scatterpolargl": [
           {
            "marker": {
             "colorbar": {
              "outlinewidth": 0,
              "ticks": ""
             }
            },
            "type": "scatterpolargl"
           }
          ],
          "scatterternary": [
           {
            "marker": {
             "colorbar": {
              "outlinewidth": 0,
              "ticks": ""
             }
            },
            "type": "scatterternary"
           }
          ],
          "surface": [
           {
            "colorbar": {
             "outlinewidth": 0,
             "ticks": ""
            },
            "colorscale": [
             [
              0,
              "#0d0887"
             ],
             [
              0.1111111111111111,
              "#46039f"
             ],
             [
              0.2222222222222222,
              "#7201a8"
             ],
             [
              0.3333333333333333,
              "#9c179e"
             ],
             [
              0.4444444444444444,
              "#bd3786"
             ],
             [
              0.5555555555555556,
              "#d8576b"
             ],
             [
              0.6666666666666666,
              "#ed7953"
             ],
             [
              0.7777777777777778,
              "#fb9f3a"
             ],
             [
              0.8888888888888888,
              "#fdca26"
             ],
             [
              1,
              "#f0f921"
             ]
            ],
            "type": "surface"
           }
          ],
          "table": [
           {
            "cells": {
             "fill": {
              "color": "#EBF0F8"
             },
             "line": {
              "color": "white"
             }
            },
            "header": {
             "fill": {
              "color": "#C8D4E3"
             },
             "line": {
              "color": "white"
             }
            },
            "type": "table"
           }
          ]
         },
         "layout": {
          "annotationdefaults": {
           "arrowcolor": "#2a3f5f",
           "arrowhead": 0,
           "arrowwidth": 1
          },
          "autotypenumbers": "strict",
          "coloraxis": {
           "colorbar": {
            "outlinewidth": 0,
            "ticks": ""
           }
          },
          "colorscale": {
           "diverging": [
            [
             0,
             "#8e0152"
            ],
            [
             0.1,
             "#c51b7d"
            ],
            [
             0.2,
             "#de77ae"
            ],
            [
             0.3,
             "#f1b6da"
            ],
            [
             0.4,
             "#fde0ef"
            ],
            [
             0.5,
             "#f7f7f7"
            ],
            [
             0.6,
             "#e6f5d0"
            ],
            [
             0.7,
             "#b8e186"
            ],
            [
             0.8,
             "#7fbc41"
            ],
            [
             0.9,
             "#4d9221"
            ],
            [
             1,
             "#276419"
            ]
           ],
           "sequential": [
            [
             0,
             "#0d0887"
            ],
            [
             0.1111111111111111,
             "#46039f"
            ],
            [
             0.2222222222222222,
             "#7201a8"
            ],
            [
             0.3333333333333333,
             "#9c179e"
            ],
            [
             0.4444444444444444,
             "#bd3786"
            ],
            [
             0.5555555555555556,
             "#d8576b"
            ],
            [
             0.6666666666666666,
             "#ed7953"
            ],
            [
             0.7777777777777778,
             "#fb9f3a"
            ],
            [
             0.8888888888888888,
             "#fdca26"
            ],
            [
             1,
             "#f0f921"
            ]
           ],
           "sequentialminus": [
            [
             0,
             "#0d0887"
            ],
            [
             0.1111111111111111,
             "#46039f"
            ],
            [
             0.2222222222222222,
             "#7201a8"
            ],
            [
             0.3333333333333333,
             "#9c179e"
            ],
            [
             0.4444444444444444,
             "#bd3786"
            ],
            [
             0.5555555555555556,
             "#d8576b"
            ],
            [
             0.6666666666666666,
             "#ed7953"
            ],
            [
             0.7777777777777778,
             "#fb9f3a"
            ],
            [
             0.8888888888888888,
             "#fdca26"
            ],
            [
             1,
             "#f0f921"
            ]
           ]
          },
          "colorway": [
           "#636efa",
           "#EF553B",
           "#00cc96",
           "#ab63fa",
           "#FFA15A",
           "#19d3f3",
           "#FF6692",
           "#B6E880",
           "#FF97FF",
           "#FECB52"
          ],
          "font": {
           "color": "#2a3f5f"
          },
          "geo": {
           "bgcolor": "white",
           "lakecolor": "white",
           "landcolor": "#E5ECF6",
           "showlakes": true,
           "showland": true,
           "subunitcolor": "white"
          },
          "hoverlabel": {
           "align": "left"
          },
          "hovermode": "closest",
          "mapbox": {
           "style": "light"
          },
          "paper_bgcolor": "white",
          "plot_bgcolor": "#E5ECF6",
          "polar": {
           "angularaxis": {
            "gridcolor": "white",
            "linecolor": "white",
            "ticks": ""
           },
           "bgcolor": "#E5ECF6",
           "radialaxis": {
            "gridcolor": "white",
            "linecolor": "white",
            "ticks": ""
           }
          },
          "scene": {
           "xaxis": {
            "backgroundcolor": "#E5ECF6",
            "gridcolor": "white",
            "gridwidth": 2,
            "linecolor": "white",
            "showbackground": true,
            "ticks": "",
            "zerolinecolor": "white"
           },
           "yaxis": {
            "backgroundcolor": "#E5ECF6",
            "gridcolor": "white",
            "gridwidth": 2,
            "linecolor": "white",
            "showbackground": true,
            "ticks": "",
            "zerolinecolor": "white"
           },
           "zaxis": {
            "backgroundcolor": "#E5ECF6",
            "gridcolor": "white",
            "gridwidth": 2,
            "linecolor": "white",
            "showbackground": true,
            "ticks": "",
            "zerolinecolor": "white"
           }
          },
          "shapedefaults": {
           "line": {
            "color": "#2a3f5f"
           }
          },
          "ternary": {
           "aaxis": {
            "gridcolor": "white",
            "linecolor": "white",
            "ticks": ""
           },
           "baxis": {
            "gridcolor": "white",
            "linecolor": "white",
            "ticks": ""
           },
           "bgcolor": "#E5ECF6",
           "caxis": {
            "gridcolor": "white",
            "linecolor": "white",
            "ticks": ""
           }
          },
          "title": {
           "x": 0.05
          },
          "xaxis": {
           "automargin": true,
           "gridcolor": "white",
           "linecolor": "white",
           "ticks": "",
           "title": {
            "standoff": 15
           },
           "zerolinecolor": "white",
           "zerolinewidth": 2
          },
          "yaxis": {
           "automargin": true,
           "gridcolor": "white",
           "linecolor": "white",
           "ticks": "",
           "title": {
            "standoff": 15
           },
           "zerolinecolor": "white",
           "zerolinewidth": 2
          }
         }
        },
        "width": 2000,
        "xaxis": {
         "categoryarray": [
          "26_IGHV3-49_IGHJ4_CTRGSGRFEYW",
          "21_IGHV4-34_IGHJ4_CARGLDYW",
          "19_IGHV3-30_IGHJ6_CAKDSYGMDVW",
          "17_IGHV3-30_IGHJ4_CARALDYW",
          "16_IGHV3-23_IGHJ4_CAKRGGDYW",
          "16_IGHV3-7_IGHJ4_CARDPAAWDYW",
          "16_IGHV3-13_IGHJ6_CARDPHGLDVW",
          "16_IGHV5-51_IGHJ5_CARHGSIGARQNWFDPW",
          "16_IGHV3-15_IGHJ4_CTTDPRYW",
          "14_IGHV3-13_IGHJ6_CARDKHGMDVW",
          "13_IGHV3-20_IGHJ4_CARGDGGDYW",
          "12_IGHV2-5_IGHJ4_CAHRRGAPGYFNYW",
          "12_IGHV3-11_IGHJ6_CARGHYGLDVW",
          "12_IGHV3-13_IGHJ6_CARDVHGMDVW",
          "12_IGHV4-59_IGHJ4_CARGFGSSWYYFDYW",
          "12_IGHV3-7_IGHJ6_CARGHYGMDVW",
          "11_IGHV4-34_IGHJ4_CARGAPGYW",
          "11_IGHV3-15_IGHJ4_CTTDPRDW",
          "11_IGHV4-38-2_IGHJ4_CARAELGDFDSW",
          "10_IGHV1-24_IGHJ4_CATDYDYW",
          "10_IGHV3-15_IGHJ4_CMADLDYW",
          "10_IGHV3-33_IGHJ6_CAKDSYGMDVW",
          "10_IGHV3-74_IGHJ4_CVRGMGDYW",
          "9_IGHV3-23_IGHJ6_CAKQFVDVW",
          "9_IGHV3-74_IGHJ5_CAKSDWFDPW",
          "9_IGHV4-34_IGHJ6_CARGVDVW",
          "9_IGHV3-7_IGHJ4_CARGGYWEPPDYW",
          "9_IGHV3-49_IGHJ4_CTRGSGRFEFW",
          "9_IGHV3-13_IGHJ6_CARDPNGLDVW",
          "9_IGHV3-74_IGHJ4_CARGYSGTYRVDYW",
          "8_IGHV3-15_IGHJ4_CTTAPDYW",
          "8_IGHV3-49_IGHJ4_CTRGSGRFEYR",
          "8_IGHV1-69_IGHJ5_CARGGDWFDPW",
          "8_IGHV3-23_IGHJ4_CAKQYVDCW",
          "8_IGHV2-5_IGHJ4_CAHGSGWLFDYW",
          "8_IGHV1-69_IGHJ4_CARGGVVGAPFDYW",
          "8_IGHV3-7_IGHJ3_CARDLRVFDVW",
          "7_IGHV2-5_IGHJ4_CAHRLRYCSGGSCYSAFDYW",
          "7_IGHV1-46_IGHJ4_CAIASFDYW",
          "7_IGHV3-13_IGHJ6_CARDAYGMDVW",
          "7_IGHV3-23_IGHJ4_CAKRSPYYFDYW",
          "7_IGHV4-59_IGHJ4_CARGSAPRPGYW",
          "7_IGHV3-13_IGHJ6_CARDPNGLDVR",
          "7_IGHV3-74_IGHJ4_CARDVSGRDDYW",
          "7_IGHV1-69_IGHJ3_CAKRANCGGDCYAFDIW",
          "7_IGHV3-74_IGHJ6_CSRGRYYGMDVW",
          "7_IGHV1-8_IGHJ5_CARGRYYDPW",
          "7_IGHV3-23_IGHJ4_CAKDHPSNGWPTFDYW",
          "7_IGHV3-74_IGHJ4_CATSRSFDYW",
          "7_IGHV6-1_IGHJ3_CARGINSAFDLW",
          "7_IGHV3-23_IGHJ3_CAKGGASLLDAFDIW",
          "7_IGHV3-7_IGHJ6_CARGHYAVDVW",
          "7_IGHV3-30_IGHJ6_CAKDDYGMDVW",
          "7_IGHV3-30_IGHJ4_CTRALDYW"
         ],
         "categoryorder": "array"
        }
       }
      },
      "text/html": [
       "<div>                            <div id=\"c0628a50-ab41-42a2-af05-1ca0284e0e1c\" class=\"plotly-graph-div\" style=\"height:800px; width:2000px;\"></div>            <script type=\"text/javascript\">                require([\"plotly\"], function(Plotly) {                    window.PLOTLYENV=window.PLOTLYENV || {};                                    if (document.getElementById(\"c0628a50-ab41-42a2-af05-1ca0284e0e1c\")) {                    Plotly.newPlot(                        \"c0628a50-ab41-42a2-af05-1ca0284e0e1c\",                        [{\"fillcolor\":\"rgba(255,0,0,0)\",\"line\":{\"width\":0},\"name\":\"7_IGHV2-5_IGHJ4_CAHRLRYCSGGSCYSAFDYW\",\"pointpos\":0,\"y\":[10000,1026,10000,10000,10000,10000,10000],\"type\":\"box\"},{\"fillcolor\":\"rgba(255,0,0,0)\",\"line\":{\"width\":0},\"name\":\"7_IGHV1-46_IGHJ4_CAIASFDYW\",\"pointpos\":0,\"y\":[10000,257,10000,10000,10000,10000,434],\"type\":\"box\"},{\"fillcolor\":\"rgba(255,0,0,0)\",\"line\":{\"width\":0},\"name\":\"7_IGHV3-13_IGHJ6_CARDAYGMDVW\",\"pointpos\":0,\"y\":[10000,10000,10000,10000,10000,0,1600],\"type\":\"box\"},{\"fillcolor\":\"rgba(255,0,0,0)\",\"line\":{\"width\":0},\"name\":\"7_IGHV3-23_IGHJ4_CAKRSPYYFDYW\",\"pointpos\":0,\"y\":[10000,10000,10000,10000,10000,10000,10000],\"type\":\"box\"},{\"fillcolor\":\"rgba(255,0,0,0)\",\"line\":{\"width\":0},\"name\":\"7_IGHV4-59_IGHJ4_CARGSAPRPGYW\",\"pointpos\":0,\"y\":[808,10000,10000,10000,10000,10000,154],\"type\":\"box\"},{\"fillcolor\":\"rgba(255,0,0,0)\",\"line\":{\"width\":0},\"name\":\"7_IGHV3-13_IGHJ6_CARDPNGLDVR\",\"pointpos\":0,\"y\":[1830,10000,274,10000,10000,10000,38],\"type\":\"box\"},{\"fillcolor\":\"rgba(255,0,0,0)\",\"line\":{\"width\":0},\"name\":\"7_IGHV3-74_IGHJ4_CARDVSGRDDYW\",\"pointpos\":0,\"y\":[10000,1498,10000,124,10000,10000,10000],\"type\":\"box\"},{\"fillcolor\":\"rgba(255,0,0,0)\",\"line\":{\"width\":0},\"name\":\"7_IGHV1-69_IGHJ3_CAKRANCGGDCYAFDIW\",\"pointpos\":0,\"y\":[10000,10000,10000,10000,74,10000,1288],\"type\":\"box\"},{\"fillcolor\":\"rgba(255,0,0,0)\",\"line\":{\"width\":0},\"name\":\"7_IGHV3-74_IGHJ6_CSRGRYYGMDVW\",\"pointpos\":0,\"y\":[711,244,10000,10000,701,10000,1600],\"type\":\"box\"},{\"fillcolor\":\"rgba(255,0,0,0)\",\"line\":{\"width\":0},\"name\":\"7_IGHV1-8_IGHJ5_CARGRYYDPW\",\"pointpos\":0,\"y\":[1830,10000,10000,10000,10000,1600,10000],\"type\":\"box\"},{\"fillcolor\":\"rgba(255,0,0,0)\",\"line\":{\"width\":0},\"name\":\"7_IGHV3-23_IGHJ4_CAKDHPSNGWPTFDYW\",\"pointpos\":0,\"y\":[10000,10000,10000,10000,237,10000,1147],\"type\":\"box\"},{\"fillcolor\":\"rgba(255,0,0,0)\",\"line\":{\"width\":0},\"name\":\"7_IGHV3-74_IGHJ4_CATSRSFDYW\",\"pointpos\":0,\"y\":[244,10000,10000,10000,10000,10000,701],\"type\":\"box\"},{\"fillcolor\":\"rgba(255,0,0,0)\",\"line\":{\"width\":0},\"name\":\"7_IGHV6-1_IGHJ3_CARGINSAFDLW\",\"pointpos\":0,\"y\":[282,10000,10000,10000,10000,10000,2617],\"type\":\"box\"},{\"fillcolor\":\"rgba(255,0,0,0)\",\"line\":{\"width\":0},\"name\":\"7_IGHV3-23_IGHJ3_CAKGGASLLDAFDIW\",\"pointpos\":0,\"y\":[10000,10000,10000,10000,1293,58,626],\"type\":\"box\"},{\"fillcolor\":\"rgba(255,0,0,0)\",\"line\":{\"width\":0},\"name\":\"7_IGHV3-7_IGHJ6_CARGHYAVDVW\",\"pointpos\":0,\"y\":[10000,10000,10000,10000,10000,10000,10000],\"type\":\"box\"},{\"fillcolor\":\"rgba(255,0,0,0)\",\"line\":{\"width\":0},\"name\":\"7_IGHV3-30_IGHJ6_CAKDDYGMDVW\",\"pointpos\":0,\"y\":[1622,10000,118,10000,864,10000,10000],\"type\":\"box\"},{\"fillcolor\":\"rgba(255,0,0,0)\",\"line\":{\"width\":0},\"name\":\"7_IGHV3-30_IGHJ4_CTRALDYW\",\"pointpos\":0,\"y\":[10000,10000,10000,10000,10000,336,10000],\"type\":\"box\"},{\"fillcolor\":\"rgba(255,0,0,0)\",\"line\":{\"width\":0},\"name\":\"21_IGHV4-34_IGHJ4_CARGLDYW\",\"pointpos\":0,\"y\":[10000,10000,10000,10000,10000,10000,274,10000,10000,1046,10000,97,10000,10000,10000,275,10000,10000,308,409,10000],\"type\":\"box\"},{\"fillcolor\":\"rgba(255,0,0,0)\",\"line\":{\"width\":0},\"name\":\"11_IGHV4-34_IGHJ4_CARGAPGYW\",\"pointpos\":0,\"y\":[702,10000,10000,10000,10000,10000,987,154,677,469,10000],\"type\":\"box\"},{\"fillcolor\":\"rgba(255,0,0,0)\",\"line\":{\"width\":0},\"name\":\"11_IGHV3-15_IGHJ4_CTTDPRDW\",\"pointpos\":0,\"y\":[10000,1778,594,10000,10000,10000,1147,10000,10000,10000,10000],\"type\":\"box\"},{\"fillcolor\":\"rgba(255,0,0,0)\",\"line\":{\"width\":0},\"name\":\"11_IGHV4-38-2_IGHJ4_CARAELGDFDSW\",\"pointpos\":0,\"y\":[1258,10000,10000,10000,10000,10000,478,10000,10000,701,10000],\"type\":\"box\"},{\"fillcolor\":\"rgba(255,0,0,0)\",\"line\":{\"width\":0},\"name\":\"19_IGHV3-30_IGHJ6_CAKDSYGMDVW\",\"pointpos\":0,\"y\":[1622,10000,666,10000,10000,10000,10000,10000,440,10000,10000,1293,10000,10000,10000,10000,10000,1288,10000],\"type\":\"box\"},{\"fillcolor\":\"rgba(255,0,0,0)\",\"line\":{\"width\":0},\"name\":\"14_IGHV3-13_IGHJ6_CARDKHGMDVW\",\"pointpos\":0,\"y\":[10000,10000,10000,10000,896,10000,1026,10000,1293,10000,10000,10000,2617,582],\"type\":\"box\"},{\"fillcolor\":\"rgba(255,0,0,0)\",\"line\":{\"width\":0},\"name\":\"17_IGHV3-30_IGHJ4_CARALDYW\",\"pointpos\":0,\"y\":[10000,10000,33,10000,896,10000,10000,10000,10000,10000,1215,10000,10000,291,2617,10000,10000],\"type\":\"box\"},{\"fillcolor\":\"rgba(255,0,0,0)\",\"line\":{\"width\":0},\"name\":\"26_IGHV3-49_IGHJ4_CTRGSGRFEYW\",\"pointpos\":0,\"y\":[10000,33,1830,10000,1653,10000,10000,274,10000,10000,10000,10000,869,442,10000,10000,444,10000,124,10000,10000,300,10000,10000,582,10000],\"type\":\"box\"},{\"fillcolor\":\"rgba(255,0,0,0)\",\"line\":{\"width\":0},\"name\":\"13_IGHV3-20_IGHJ4_CARGDGGDYW\",\"pointpos\":0,\"y\":[10000,10000,10000,10000,10000,237,10000,10000,10000,10000,10000,10000,10000],\"type\":\"box\"},{\"fillcolor\":\"rgba(255,0,0,0)\",\"line\":{\"width\":0},\"name\":\"16_IGHV3-23_IGHJ4_CAKRGGDYW\",\"pointpos\":0,\"y\":[10000,457,995,2318,10000,10000,10000,10000,10000,10000,154,10000,250,307,10000,10000],\"type\":\"box\"},{\"fillcolor\":\"rgba(255,0,0,0)\",\"line\":{\"width\":0},\"name\":\"16_IGHV3-7_IGHJ4_CARDPAAWDYW\",\"pointpos\":0,\"y\":[10000,10000,10000,10000,10000,10000,10000,10000,444,10000,1215,307,10000,10000,10000,434],\"type\":\"box\"},{\"fillcolor\":\"rgba(255,0,0,0)\",\"line\":{\"width\":0},\"name\":\"16_IGHV3-13_IGHJ6_CARDPHGLDVW\",\"pointpos\":0,\"y\":[10000,808,10000,628,274,10000,10000,10000,10000,1235,10000,10000,10000,10000,10000,38],\"type\":\"box\"},{\"fillcolor\":\"rgba(255,0,0,0)\",\"line\":{\"width\":0},\"name\":\"16_IGHV5-51_IGHJ5_CARHGSIGARQNWFDPW\",\"pointpos\":0,\"y\":[457,855,10000,10000,1026,10000,10000,800,10000,10000,193,10000,10000,10000,10000,10000],\"type\":\"box\"},{\"fillcolor\":\"rgba(255,0,0,0)\",\"line\":{\"width\":0},\"name\":\"16_IGHV3-15_IGHJ4_CTTDPRYW\",\"pointpos\":0,\"y\":[10000,10000,10000,10000,1026,1778,10000,1081,10000,321,10000,10000,10000,10000,10000,10000],\"type\":\"box\"},{\"fillcolor\":\"rgba(255,0,0,0)\",\"line\":{\"width\":0},\"name\":\"9_IGHV3-23_IGHJ6_CAKQFVDVW\",\"pointpos\":0,\"y\":[702,1830,808,10000,10000,10000,10000,10000,10000],\"type\":\"box\"},{\"fillcolor\":\"rgba(255,0,0,0)\",\"line\":{\"width\":0},\"name\":\"9_IGHV3-74_IGHJ5_CAKSDWFDPW\",\"pointpos\":0,\"y\":[10000,10000,1830,10000,10000,10000,460,10000,10000],\"type\":\"box\"},{\"fillcolor\":\"rgba(255,0,0,0)\",\"line\":{\"width\":0},\"name\":\"9_IGHV4-34_IGHJ6_CARGVDVW\",\"pointpos\":0,\"y\":[442,10000,10000,10000,10000,10000,10000,167,434],\"type\":\"box\"},{\"fillcolor\":\"rgba(255,0,0,0)\",\"line\":{\"width\":0},\"name\":\"9_IGHV3-7_IGHJ4_CARGGYWEPPDYW\",\"pointpos\":0,\"y\":[244,187,1026,97,74,10000,10000,10000,10000],\"type\":\"box\"},{\"fillcolor\":\"rgba(255,0,0,0)\",\"line\":{\"width\":0},\"name\":\"9_IGHV3-49_IGHJ4_CTRGSGRFEFW\",\"pointpos\":0,\"y\":[1830,10000,274,10000,10000,10000,444,10000,10000],\"type\":\"box\"},{\"fillcolor\":\"rgba(255,0,0,0)\",\"line\":{\"width\":0},\"name\":\"9_IGHV3-13_IGHJ6_CARDPNGLDVW\",\"pointpos\":0,\"y\":[666,1830,10000,10000,10000,10000,10000,10000,2681],\"type\":\"box\"},{\"fillcolor\":\"rgba(255,0,0,0)\",\"line\":{\"width\":0},\"name\":\"9_IGHV3-74_IGHJ4_CARGYSGTYRVDYW\",\"pointpos\":0,\"y\":[10000,1265,10000,10000,10000,896,10000,10000,10000],\"type\":\"box\"},{\"fillcolor\":\"rgba(255,0,0,0)\",\"line\":{\"width\":0},\"name\":\"12_IGHV2-5_IGHJ4_CAHRRGAPGYFNYW\",\"pointpos\":0,\"y\":[457,702,354,244,97,10000,10000,154,10000,10000,10000,10000],\"type\":\"box\"},{\"fillcolor\":\"rgba(255,0,0,0)\",\"line\":{\"width\":0},\"name\":\"12_IGHV3-11_IGHJ6_CARGHYGLDVW\",\"pointpos\":0,\"y\":[10000,464,244,10000,1268,10000,10000,607,10000,10000,10000,10000],\"type\":\"box\"},{\"fillcolor\":\"rgba(255,0,0,0)\",\"line\":{\"width\":0},\"name\":\"12_IGHV3-13_IGHJ6_CARDVHGMDVW\",\"pointpos\":0,\"y\":[10000,10000,896,10000,10000,10000,10000,10000,10000,10000,10000,10000],\"type\":\"box\"},{\"fillcolor\":\"rgba(255,0,0,0)\",\"line\":{\"width\":0},\"name\":\"12_IGHV4-59_IGHJ4_CARGFGSSWYYFDYW\",\"pointpos\":0,\"y\":[10000,243,628,10000,10000,10000,10000,10000,124,10000,10000,1288],\"type\":\"box\"},{\"fillcolor\":\"rgba(255,0,0,0)\",\"line\":{\"width\":0},\"name\":\"12_IGHV3-7_IGHJ6_CARGHYGMDVW\",\"pointpos\":0,\"y\":[995,666,10000,10000,10000,10000,10000,10000,10000,10000,10000,582],\"type\":\"box\"},{\"fillcolor\":\"rgba(255,0,0,0)\",\"line\":{\"width\":0},\"name\":\"10_IGHV1-24_IGHJ4_CATDYDYW\",\"pointpos\":0,\"y\":[10000,10000,10000,10000,10000,10000,761,10000,10000,468],\"type\":\"box\"},{\"fillcolor\":\"rgba(255,0,0,0)\",\"line\":{\"width\":0},\"name\":\"10_IGHV3-15_IGHJ4_CMADLDYW\",\"pointpos\":0,\"y\":[10000,10000,10000,10000,1293,624,586,10000,10000,10000],\"type\":\"box\"},{\"fillcolor\":\"rgba(255,0,0,0)\",\"line\":{\"width\":0},\"name\":\"10_IGHV3-33_IGHJ6_CAKDSYGMDVW\",\"pointpos\":0,\"y\":[10000,1046,10000,10000,10000,10000,0,10000,1288,409],\"type\":\"box\"},{\"fillcolor\":\"rgba(255,0,0,0)\",\"line\":{\"width\":0},\"name\":\"10_IGHV3-74_IGHJ4_CVRGMGDYW\",\"pointpos\":0,\"y\":[10000,711,10000,10000,429,10000,300,1209,2617,10000],\"type\":\"box\"},{\"fillcolor\":\"rgba(255,0,0,0)\",\"line\":{\"width\":0},\"name\":\"8_IGHV3-15_IGHJ4_CTTAPDYW\",\"pointpos\":0,\"y\":[10000,1830,10000,10000,10000,10000,307,557],\"type\":\"box\"},{\"fillcolor\":\"rgba(255,0,0,0)\",\"line\":{\"width\":0},\"name\":\"8_IGHV3-49_IGHJ4_CTRGSGRFEYR\",\"pointpos\":0,\"y\":[33,274,10000,10000,10000,10000,10000,300],\"type\":\"box\"},{\"fillcolor\":\"rgba(255,0,0,0)\",\"line\":{\"width\":0},\"name\":\"8_IGHV1-69_IGHJ5_CARGGDWFDPW\",\"pointpos\":0,\"y\":[896,10000,10000,460,10000,10000,291,10000],\"type\":\"box\"},{\"fillcolor\":\"rgba(255,0,0,0)\",\"line\":{\"width\":0},\"name\":\"8_IGHV3-23_IGHJ4_CAKQYVDCW\",\"pointpos\":0,\"y\":[10000,10000,237,10000,10000,10000,1516,10000],\"type\":\"box\"},{\"fillcolor\":\"rgba(255,0,0,0)\",\"line\":{\"width\":0},\"name\":\"8_IGHV2-5_IGHJ4_CAHGSGWLFDYW\",\"pointpos\":0,\"y\":[10000,244,10000,10000,10000,10000,10000,10000],\"type\":\"box\"},{\"fillcolor\":\"rgba(255,0,0,0)\",\"line\":{\"width\":0},\"name\":\"8_IGHV1-69_IGHJ4_CARGGVVGAPFDYW\",\"pointpos\":0,\"y\":[10000,896,10000,10000,339,10000,10000,10000],\"type\":\"box\"},{\"fillcolor\":\"rgba(255,0,0,0)\",\"line\":{\"width\":0},\"name\":\"8_IGHV3-7_IGHJ3_CARDLRVFDVW\",\"pointpos\":0,\"y\":[10000,808,929,10000,10000,1135,10000,10000],\"type\":\"box\"}],                        {\"template\":{\"data\":{\"histogram2dcontour\":[{\"type\":\"histogram2dcontour\",\"colorbar\":{\"outlinewidth\":0,\"ticks\":\"\"},\"colorscale\":[[0.0,\"#0d0887\"],[0.1111111111111111,\"#46039f\"],[0.2222222222222222,\"#7201a8\"],[0.3333333333333333,\"#9c179e\"],[0.4444444444444444,\"#bd3786\"],[0.5555555555555556,\"#d8576b\"],[0.6666666666666666,\"#ed7953\"],[0.7777777777777778,\"#fb9f3a\"],[0.8888888888888888,\"#fdca26\"],[1.0,\"#f0f921\"]]}],\"choropleth\":[{\"type\":\"choropleth\",\"colorbar\":{\"outlinewidth\":0,\"ticks\":\"\"}}],\"histogram2d\":[{\"type\":\"histogram2d\",\"colorbar\":{\"outlinewidth\":0,\"ticks\":\"\"},\"colorscale\":[[0.0,\"#0d0887\"],[0.1111111111111111,\"#46039f\"],[0.2222222222222222,\"#7201a8\"],[0.3333333333333333,\"#9c179e\"],[0.4444444444444444,\"#bd3786\"],[0.5555555555555556,\"#d8576b\"],[0.6666666666666666,\"#ed7953\"],[0.7777777777777778,\"#fb9f3a\"],[0.8888888888888888,\"#fdca26\"],[1.0,\"#f0f921\"]]}],\"heatmap\":[{\"type\":\"heatmap\",\"colorbar\":{\"outlinewidth\":0,\"ticks\":\"\"},\"colorscale\":[[0.0,\"#0d0887\"],[0.1111111111111111,\"#46039f\"],[0.2222222222222222,\"#7201a8\"],[0.3333333333333333,\"#9c179e\"],[0.4444444444444444,\"#bd3786\"],[0.5555555555555556,\"#d8576b\"],[0.6666666666666666,\"#ed7953\"],[0.7777777777777778,\"#fb9f3a\"],[0.8888888888888888,\"#fdca26\"],[1.0,\"#f0f921\"]]}],\"heatmapgl\":[{\"type\":\"heatmapgl\",\"colorbar\":{\"outlinewidth\":0,\"ticks\":\"\"},\"colorscale\":[[0.0,\"#0d0887\"],[0.1111111111111111,\"#46039f\"],[0.2222222222222222,\"#7201a8\"],[0.3333333333333333,\"#9c179e\"],[0.4444444444444444,\"#bd3786\"],[0.5555555555555556,\"#d8576b\"],[0.6666666666666666,\"#ed7953\"],[0.7777777777777778,\"#fb9f3a\"],[0.8888888888888888,\"#fdca26\"],[1.0,\"#f0f921\"]]}],\"contourcarpet\":[{\"type\":\"contourcarpet\",\"colorbar\":{\"outlinewidth\":0,\"ticks\":\"\"}}],\"contour\":[{\"type\":\"contour\",\"colorbar\":{\"outlinewidth\":0,\"ticks\":\"\"},\"colorscale\":[[0.0,\"#0d0887\"],[0.1111111111111111,\"#46039f\"],[0.2222222222222222,\"#7201a8\"],[0.3333333333333333,\"#9c179e\"],[0.4444444444444444,\"#bd3786\"],[0.5555555555555556,\"#d8576b\"],[0.6666666666666666,\"#ed7953\"],[0.7777777777777778,\"#fb9f3a\"],[0.8888888888888888,\"#fdca26\"],[1.0,\"#f0f921\"]]}],\"surface\":[{\"type\":\"surface\",\"colorbar\":{\"outlinewidth\":0,\"ticks\":\"\"},\"colorscale\":[[0.0,\"#0d0887\"],[0.1111111111111111,\"#46039f\"],[0.2222222222222222,\"#7201a8\"],[0.3333333333333333,\"#9c179e\"],[0.4444444444444444,\"#bd3786\"],[0.5555555555555556,\"#d8576b\"],[0.6666666666666666,\"#ed7953\"],[0.7777777777777778,\"#fb9f3a\"],[0.8888888888888888,\"#fdca26\"],[1.0,\"#f0f921\"]]}],\"mesh3d\":[{\"type\":\"mesh3d\",\"colorbar\":{\"outlinewidth\":0,\"ticks\":\"\"}}],\"scatter\":[{\"fillpattern\":{\"fillmode\":\"overlay\",\"size\":10,\"solidity\":0.2},\"type\":\"scatter\"}],\"parcoords\":[{\"type\":\"parcoords\",\"line\":{\"colorbar\":{\"outlinewidth\":0,\"ticks\":\"\"}}}],\"scatterpolargl\":[{\"type\":\"scatterpolargl\",\"marker\":{\"colorbar\":{\"outlinewidth\":0,\"ticks\":\"\"}}}],\"bar\":[{\"error_x\":{\"color\":\"#2a3f5f\"},\"error_y\":{\"color\":\"#2a3f5f\"},\"marker\":{\"line\":{\"color\":\"#E5ECF6\",\"width\":0.5},\"pattern\":{\"fillmode\":\"overlay\",\"size\":10,\"solidity\":0.2}},\"type\":\"bar\"}],\"scattergeo\":[{\"type\":\"scattergeo\",\"marker\":{\"colorbar\":{\"outlinewidth\":0,\"ticks\":\"\"}}}],\"scatterpolar\":[{\"type\":\"scatterpolar\",\"marker\":{\"colorbar\":{\"outlinewidth\":0,\"ticks\":\"\"}}}],\"histogram\":[{\"marker\":{\"pattern\":{\"fillmode\":\"overlay\",\"size\":10,\"solidity\":0.2}},\"type\":\"histogram\"}],\"scattergl\":[{\"type\":\"scattergl\",\"marker\":{\"colorbar\":{\"outlinewidth\":0,\"ticks\":\"\"}}}],\"scatter3d\":[{\"type\":\"scatter3d\",\"line\":{\"colorbar\":{\"outlinewidth\":0,\"ticks\":\"\"}},\"marker\":{\"colorbar\":{\"outlinewidth\":0,\"ticks\":\"\"}}}],\"scattermapbox\":[{\"type\":\"scattermapbox\",\"marker\":{\"colorbar\":{\"outlinewidth\":0,\"ticks\":\"\"}}}],\"scatterternary\":[{\"type\":\"scatterternary\",\"marker\":{\"colorbar\":{\"outlinewidth\":0,\"ticks\":\"\"}}}],\"scattercarpet\":[{\"type\":\"scattercarpet\",\"marker\":{\"colorbar\":{\"outlinewidth\":0,\"ticks\":\"\"}}}],\"carpet\":[{\"aaxis\":{\"endlinecolor\":\"#2a3f5f\",\"gridcolor\":\"white\",\"linecolor\":\"white\",\"minorgridcolor\":\"white\",\"startlinecolor\":\"#2a3f5f\"},\"baxis\":{\"endlinecolor\":\"#2a3f5f\",\"gridcolor\":\"white\",\"linecolor\":\"white\",\"minorgridcolor\":\"white\",\"startlinecolor\":\"#2a3f5f\"},\"type\":\"carpet\"}],\"table\":[{\"cells\":{\"fill\":{\"color\":\"#EBF0F8\"},\"line\":{\"color\":\"white\"}},\"header\":{\"fill\":{\"color\":\"#C8D4E3\"},\"line\":{\"color\":\"white\"}},\"type\":\"table\"}],\"barpolar\":[{\"marker\":{\"line\":{\"color\":\"#E5ECF6\",\"width\":0.5},\"pattern\":{\"fillmode\":\"overlay\",\"size\":10,\"solidity\":0.2}},\"type\":\"barpolar\"}],\"pie\":[{\"automargin\":true,\"type\":\"pie\"}]},\"layout\":{\"autotypenumbers\":\"strict\",\"colorway\":[\"#636efa\",\"#EF553B\",\"#00cc96\",\"#ab63fa\",\"#FFA15A\",\"#19d3f3\",\"#FF6692\",\"#B6E880\",\"#FF97FF\",\"#FECB52\"],\"font\":{\"color\":\"#2a3f5f\"},\"hovermode\":\"closest\",\"hoverlabel\":{\"align\":\"left\"},\"paper_bgcolor\":\"white\",\"plot_bgcolor\":\"#E5ECF6\",\"polar\":{\"bgcolor\":\"#E5ECF6\",\"angularaxis\":{\"gridcolor\":\"white\",\"linecolor\":\"white\",\"ticks\":\"\"},\"radialaxis\":{\"gridcolor\":\"white\",\"linecolor\":\"white\",\"ticks\":\"\"}},\"ternary\":{\"bgcolor\":\"#E5ECF6\",\"aaxis\":{\"gridcolor\":\"white\",\"linecolor\":\"white\",\"ticks\":\"\"},\"baxis\":{\"gridcolor\":\"white\",\"linecolor\":\"white\",\"ticks\":\"\"},\"caxis\":{\"gridcolor\":\"white\",\"linecolor\":\"white\",\"ticks\":\"\"}},\"coloraxis\":{\"colorbar\":{\"outlinewidth\":0,\"ticks\":\"\"}},\"colorscale\":{\"sequential\":[[0.0,\"#0d0887\"],[0.1111111111111111,\"#46039f\"],[0.2222222222222222,\"#7201a8\"],[0.3333333333333333,\"#9c179e\"],[0.4444444444444444,\"#bd3786\"],[0.5555555555555556,\"#d8576b\"],[0.6666666666666666,\"#ed7953\"],[0.7777777777777778,\"#fb9f3a\"],[0.8888888888888888,\"#fdca26\"],[1.0,\"#f0f921\"]],\"sequentialminus\":[[0.0,\"#0d0887\"],[0.1111111111111111,\"#46039f\"],[0.2222222222222222,\"#7201a8\"],[0.3333333333333333,\"#9c179e\"],[0.4444444444444444,\"#bd3786\"],[0.5555555555555556,\"#d8576b\"],[0.6666666666666666,\"#ed7953\"],[0.7777777777777778,\"#fb9f3a\"],[0.8888888888888888,\"#fdca26\"],[1.0,\"#f0f921\"]],\"diverging\":[[0,\"#8e0152\"],[0.1,\"#c51b7d\"],[0.2,\"#de77ae\"],[0.3,\"#f1b6da\"],[0.4,\"#fde0ef\"],[0.5,\"#f7f7f7\"],[0.6,\"#e6f5d0\"],[0.7,\"#b8e186\"],[0.8,\"#7fbc41\"],[0.9,\"#4d9221\"],[1,\"#276419\"]]},\"xaxis\":{\"gridcolor\":\"white\",\"linecolor\":\"white\",\"ticks\":\"\",\"title\":{\"standoff\":15},\"zerolinecolor\":\"white\",\"automargin\":true,\"zerolinewidth\":2},\"yaxis\":{\"gridcolor\":\"white\",\"linecolor\":\"white\",\"ticks\":\"\",\"title\":{\"standoff\":15},\"zerolinecolor\":\"white\",\"automargin\":true,\"zerolinewidth\":2},\"scene\":{\"xaxis\":{\"backgroundcolor\":\"#E5ECF6\",\"gridcolor\":\"white\",\"linecolor\":\"white\",\"showbackground\":true,\"ticks\":\"\",\"zerolinecolor\":\"white\",\"gridwidth\":2},\"yaxis\":{\"backgroundcolor\":\"#E5ECF6\",\"gridcolor\":\"white\",\"linecolor\":\"white\",\"showbackground\":true,\"ticks\":\"\",\"zerolinecolor\":\"white\",\"gridwidth\":2},\"zaxis\":{\"backgroundcolor\":\"#E5ECF6\",\"gridcolor\":\"white\",\"linecolor\":\"white\",\"showbackground\":true,\"ticks\":\"\",\"zerolinecolor\":\"white\",\"gridwidth\":2}},\"shapedefaults\":{\"line\":{\"color\":\"#2a3f5f\"}},\"annotationdefaults\":{\"arrowcolor\":\"#2a3f5f\",\"arrowhead\":0,\"arrowwidth\":1},\"geo\":{\"bgcolor\":\"white\",\"landcolor\":\"#E5ECF6\",\"subunitcolor\":\"white\",\"showland\":true,\"showlakes\":true,\"lakecolor\":\"white\"},\"title\":{\"x\":0.05},\"mapbox\":{\"style\":\"light\"}}},\"width\":2000,\"height\":800,\"showlegend\":false,\"xaxis\":{\"categoryorder\":\"array\",\"categoryarray\":[\"26_IGHV3-49_IGHJ4_CTRGSGRFEYW\",\"21_IGHV4-34_IGHJ4_CARGLDYW\",\"19_IGHV3-30_IGHJ6_CAKDSYGMDVW\",\"17_IGHV3-30_IGHJ4_CARALDYW\",\"16_IGHV3-23_IGHJ4_CAKRGGDYW\",\"16_IGHV3-7_IGHJ4_CARDPAAWDYW\",\"16_IGHV3-13_IGHJ6_CARDPHGLDVW\",\"16_IGHV5-51_IGHJ5_CARHGSIGARQNWFDPW\",\"16_IGHV3-15_IGHJ4_CTTDPRYW\",\"14_IGHV3-13_IGHJ6_CARDKHGMDVW\",\"13_IGHV3-20_IGHJ4_CARGDGGDYW\",\"12_IGHV2-5_IGHJ4_CAHRRGAPGYFNYW\",\"12_IGHV3-11_IGHJ6_CARGHYGLDVW\",\"12_IGHV3-13_IGHJ6_CARDVHGMDVW\",\"12_IGHV4-59_IGHJ4_CARGFGSSWYYFDYW\",\"12_IGHV3-7_IGHJ6_CARGHYGMDVW\",\"11_IGHV4-34_IGHJ4_CARGAPGYW\",\"11_IGHV3-15_IGHJ4_CTTDPRDW\",\"11_IGHV4-38-2_IGHJ4_CARAELGDFDSW\",\"10_IGHV1-24_IGHJ4_CATDYDYW\",\"10_IGHV3-15_IGHJ4_CMADLDYW\",\"10_IGHV3-33_IGHJ6_CAKDSYGMDVW\",\"10_IGHV3-74_IGHJ4_CVRGMGDYW\",\"9_IGHV3-23_IGHJ6_CAKQFVDVW\",\"9_IGHV3-74_IGHJ5_CAKSDWFDPW\",\"9_IGHV4-34_IGHJ6_CARGVDVW\",\"9_IGHV3-7_IGHJ4_CARGGYWEPPDYW\",\"9_IGHV3-49_IGHJ4_CTRGSGRFEFW\",\"9_IGHV3-13_IGHJ6_CARDPNGLDVW\",\"9_IGHV3-74_IGHJ4_CARGYSGTYRVDYW\",\"8_IGHV3-15_IGHJ4_CTTAPDYW\",\"8_IGHV3-49_IGHJ4_CTRGSGRFEYR\",\"8_IGHV1-69_IGHJ5_CARGGDWFDPW\",\"8_IGHV3-23_IGHJ4_CAKQYVDCW\",\"8_IGHV2-5_IGHJ4_CAHGSGWLFDYW\",\"8_IGHV1-69_IGHJ4_CARGGVVGAPFDYW\",\"8_IGHV3-7_IGHJ3_CARDLRVFDVW\",\"7_IGHV2-5_IGHJ4_CAHRLRYCSGGSCYSAFDYW\",\"7_IGHV1-46_IGHJ4_CAIASFDYW\",\"7_IGHV3-13_IGHJ6_CARDAYGMDVW\",\"7_IGHV3-23_IGHJ4_CAKRSPYYFDYW\",\"7_IGHV4-59_IGHJ4_CARGSAPRPGYW\",\"7_IGHV3-13_IGHJ6_CARDPNGLDVR\",\"7_IGHV3-74_IGHJ4_CARDVSGRDDYW\",\"7_IGHV1-69_IGHJ3_CAKRANCGGDCYAFDIW\",\"7_IGHV3-74_IGHJ6_CSRGRYYGMDVW\",\"7_IGHV1-8_IGHJ5_CARGRYYDPW\",\"7_IGHV3-23_IGHJ4_CAKDHPSNGWPTFDYW\",\"7_IGHV3-74_IGHJ4_CATSRSFDYW\",\"7_IGHV6-1_IGHJ3_CARGINSAFDLW\",\"7_IGHV3-23_IGHJ3_CAKGGASLLDAFDIW\",\"7_IGHV3-7_IGHJ6_CARGHYAVDVW\",\"7_IGHV3-30_IGHJ6_CAKDDYGMDVW\",\"7_IGHV3-30_IGHJ4_CTRALDYW\"]}},                        {\"responsive\": true}                    ).then(function(){\n",
       "                            \n",
       "var gd = document.getElementById('c0628a50-ab41-42a2-af05-1ca0284e0e1c');\n",
       "var x = new MutationObserver(function (mutations, observer) {{\n",
       "        var display = window.getComputedStyle(gd).display;\n",
       "        if (!display || display === 'none') {{\n",
       "            console.log([gd, 'removed!']);\n",
       "            Plotly.purge(gd);\n",
       "            observer.disconnect();\n",
       "        }}\n",
       "}});\n",
       "\n",
       "// Listen for the removal of the full notebook cells\n",
       "var notebookContainer = gd.closest('#notebook-container');\n",
       "if (notebookContainer) {{\n",
       "    x.observe(notebookContainer, {childList: true});\n",
       "}}\n",
       "\n",
       "// Listen for the clearing of the current output cell\n",
       "var outputEl = gd.closest('.output');\n",
       "if (outputEl) {{\n",
       "    x.observe(outputEl, {childList: true});\n",
       "}}\n",
       "\n",
       "                        })                };                });            </script>        </div>"
      ]
     },
     "metadata": {},
     "output_type": "display_data"
    }
   ],
   "source": [
    "import plotly.graph_objects as go\n",
    "from plotly.subplots import make_subplots\n",
    "\n",
    "fig = go.Figure()\n",
    "for c in data.items():\n",
    "    counter = Counter(c[1])\n",
    "    fig.add_trace(go.Box(y=c[1], name=c[0], pointpos = 0, fillcolor = 'rgba(0,0,0,0)', line = dict(width=0)))\n",
    "fig.update_layout(width=2000, height=800, showlegend=False)\n",
    "fig.update_xaxes(categoryorder='array', categoryarray= sorted(data.keys(), key = lambda x : int(x.split(\"_\")[0]), reverse=True))\n",
    "fig.show()"
   ]
  },
  {
   "cell_type": "code",
   "execution_count": null,
   "metadata": {},
   "outputs": [],
   "source": []
  }
 ],
 "metadata": {
  "kernelspec": {
   "display_name": "bowtie",
   "language": "python",
   "name": "python3"
  },
  "language_info": {
   "codemirror_mode": {
    "name": "ipython",
    "version": 3
   },
   "file_extension": ".py",
   "mimetype": "text/x-python",
   "name": "python",
   "nbconvert_exporter": "python",
   "pygments_lexer": "ipython3",
   "version": "3.8.13"
  },
  "orig_nbformat": 4,
  "vscode": {
   "interpreter": {
    "hash": "f8af715d6ad41a71082d36f6e169f1bbf5f2a11d3e5ac189ba9b7f0c98ea09af"
   }
  }
 },
 "nbformat": 4,
 "nbformat_minor": 2
}
