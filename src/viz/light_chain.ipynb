{
 "cells": [
  {
   "cell_type": "code",
   "execution_count": 1,
   "metadata": {},
   "outputs": [],
   "source": [
    "import requests\n",
    "import pandas as pd\n",
    "from pathlib import Path\n",
    "import json\n",
    "from tqdm import tqdm\n",
    "import numpy as np\n",
    "import plotly.express as px\n",
    "from sklearn.cluster import DBSCAN\n",
    "import shutil\n"
   ]
  },
  {
   "cell_type": "code",
   "execution_count": 40,
   "metadata": {},
   "outputs": [],
   "source": [
    "cancers_patient_barcode = [\"0\"+str(i) for i in range(1, 10)]\n",
    "def filter_patient(x):\n",
    "    patient_id = x[:12]\n",
    "    patient_sample = x[13:15]\n",
    "    if patient_sample in cancers_patient_barcode:\n",
    "        return patient_id\n",
    "    else:\n",
    "        return None\n",
    "\n",
    "\n",
    "for file in Path(\"/rsrch4/home/mol_cgenesis/nkdang/CDR3/gdc/portal\").glob(\"**/*.txt\"):\n",
    "    df = pd.read_csv(file, sep='\\t')\n",
    "    df['patient_id'] = df['patient'].apply(filter_patient)\n",
    "    df = df.rename(columns={'sample': 'sample_id'})\n",
    "    \n",
    "    out = Path(\"/rsrch4/home/mol_cgenesis/EMC_BIC_rsrch4/nkdang/CDR3/gdc/portal\").joinpath(file.parent.stem)\n",
    "    out.mkdir(parents=True, exist_ok=True)\n",
    "    out_na = Path(\"/rsrch4/home/mol_cgenesis/EMC_BIC_rsrch4/nkdang/CDR3/gdc_healthy/portal\").joinpath(file.parent.stem)\n",
    "    out_na.mkdir(parents=True, exist_ok=True)\n",
    "    \n",
    "    df_nan = df[df['patient_id'].isna()]\n",
    "    df_nan = df_nan.drop(\"patient_id\",axis=1)\n",
    "    df = df.dropna()\n",
    "    df.to_csv(out.joinpath(file.name), index=False)\n",
    "    if df_nan.empty:\n",
    "        out_na.rmdir()\n",
    "    else:    \n",
    "        df_nan.to_csv(out_na.joinpath(file.name), index=False)"
   ]
  },
  {
   "cell_type": "code",
   "execution_count": 23,
   "metadata": {},
   "outputs": [],
   "source": [
    "for f in Path(\"/rsrch4/scratch/mol_cgenesis/nkdang/CDR3/results\").glob(\"**/*.tsv\"):\n",
    "    if \"temp\" in str(f) or \"data_\" in str(f):\n",
    "        continue\n",
    "    f_new = Path(str(f).replace(\"/rsrch4/scratch/mol_cgenesis/\",\"/rsrch4/home/mol_cgenesis/EMC_BIC_rsrch4/\"))\n",
    "    f_new.parent.mkdir(parents=True, exist_ok=True)\n",
    "    shutil.copy(f, f_new)"
   ]
  },
  {
   "cell_type": "code",
   "execution_count": 5,
   "metadata": {},
   "outputs": [
    {
     "data": {
      "text/html": [
       "<div>\n",
       "<style scoped>\n",
       "    .dataframe tbody tr th:only-of-type {\n",
       "        vertical-align: middle;\n",
       "    }\n",
       "\n",
       "    .dataframe tbody tr th {\n",
       "        vertical-align: top;\n",
       "    }\n",
       "\n",
       "    .dataframe thead th {\n",
       "        text-align: right;\n",
       "    }\n",
       "</style>\n",
       "<table border=\"1\" class=\"dataframe\">\n",
       "  <thead>\n",
       "    <tr style=\"text-align: right;\">\n",
       "      <th></th>\n",
       "      <th>sample_id</th>\n",
       "      <th>sequence_id</th>\n",
       "      <th>#count</th>\n",
       "      <th>frequency</th>\n",
       "      <th>patient_id</th>\n",
       "      <th>v_call</th>\n",
       "      <th>j_call</th>\n",
       "      <th>junction_aa</th>\n",
       "    </tr>\n",
       "  </thead>\n",
       "  <tbody>\n",
       "    <tr>\n",
       "      <th>0</th>\n",
       "      <td>be9a0e19-9105-40a9-9a5e-fd7d577a8c92</td>\n",
       "      <td>assemble3896</td>\n",
       "      <td>5</td>\n",
       "      <td>0.000025</td>\n",
       "      <td>TCGA-ER-A42L</td>\n",
       "      <td>IGHV3-15</td>\n",
       "      <td>IGHJ4</td>\n",
       "      <td>CATGPLDYW</td>\n",
       "    </tr>\n",
       "    <tr>\n",
       "      <th>1</th>\n",
       "      <td>b7ee8f06-f81f-4447-b598-f5c43578fb8d</td>\n",
       "      <td>assemble36194</td>\n",
       "      <td>1</td>\n",
       "      <td>0.000004</td>\n",
       "      <td>TCGA-D9-A3Z3</td>\n",
       "      <td>IGHV3-15</td>\n",
       "      <td>IGHJ4</td>\n",
       "      <td>CATGPLDYW</td>\n",
       "    </tr>\n",
       "    <tr>\n",
       "      <th>2</th>\n",
       "      <td>bf1c6c9e-408c-40aa-876d-2222e2665549</td>\n",
       "      <td>assemble1491</td>\n",
       "      <td>106</td>\n",
       "      <td>0.000237</td>\n",
       "      <td>TCGA-D3-A2JB</td>\n",
       "      <td>IGHV3-15</td>\n",
       "      <td>IGHJ4</td>\n",
       "      <td>CATGPLDYW</td>\n",
       "    </tr>\n",
       "    <tr>\n",
       "      <th>3</th>\n",
       "      <td>bf1c6c9e-408c-40aa-876d-2222e2665549</td>\n",
       "      <td>assemble1491</td>\n",
       "      <td>6</td>\n",
       "      <td>0.000015</td>\n",
       "      <td>TCGA-D3-A2JB</td>\n",
       "      <td>IGHV3-15</td>\n",
       "      <td>IGHJ4</td>\n",
       "      <td>CATGPLDYW</td>\n",
       "    </tr>\n",
       "    <tr>\n",
       "      <th>4</th>\n",
       "      <td>bf1c6c9e-408c-40aa-876d-2222e2665549</td>\n",
       "      <td>assemble17338</td>\n",
       "      <td>8</td>\n",
       "      <td>0.000018</td>\n",
       "      <td>TCGA-D3-A2JB</td>\n",
       "      <td>IGHV3-15</td>\n",
       "      <td>IGHJ4</td>\n",
       "      <td>CATGPLDYW</td>\n",
       "    </tr>\n",
       "    <tr>\n",
       "      <th>5</th>\n",
       "      <td>f1202d0e-0b03-4ba9-b4f2-4d3c72bf1c9b</td>\n",
       "      <td>assemble7066</td>\n",
       "      <td>4</td>\n",
       "      <td>0.000024</td>\n",
       "      <td>TCGA-FS-A1Z4</td>\n",
       "      <td>IGHV3-15</td>\n",
       "      <td>IGHJ4</td>\n",
       "      <td>CATGPLDYW</td>\n",
       "    </tr>\n",
       "  </tbody>\n",
       "</table>\n",
       "</div>"
      ],
      "text/plain": [
       "                              sample_id    sequence_id  #count  frequency  \\\n",
       "0  be9a0e19-9105-40a9-9a5e-fd7d577a8c92   assemble3896       5   0.000025   \n",
       "1  b7ee8f06-f81f-4447-b598-f5c43578fb8d  assemble36194       1   0.000004   \n",
       "2  bf1c6c9e-408c-40aa-876d-2222e2665549   assemble1491     106   0.000237   \n",
       "3  bf1c6c9e-408c-40aa-876d-2222e2665549   assemble1491       6   0.000015   \n",
       "4  bf1c6c9e-408c-40aa-876d-2222e2665549  assemble17338       8   0.000018   \n",
       "5  f1202d0e-0b03-4ba9-b4f2-4d3c72bf1c9b   assemble7066       4   0.000024   \n",
       "\n",
       "     patient_id    v_call j_call junction_aa  \n",
       "0  TCGA-ER-A42L  IGHV3-15  IGHJ4   CATGPLDYW  \n",
       "1  TCGA-D9-A3Z3  IGHV3-15  IGHJ4   CATGPLDYW  \n",
       "2  TCGA-D3-A2JB  IGHV3-15  IGHJ4   CATGPLDYW  \n",
       "3  TCGA-D3-A2JB  IGHV3-15  IGHJ4   CATGPLDYW  \n",
       "4  TCGA-D3-A2JB  IGHV3-15  IGHJ4   CATGPLDYW  \n",
       "5  TCGA-FS-A1Z4  IGHV3-15  IGHJ4   CATGPLDYW  "
      ]
     },
     "execution_count": 5,
     "metadata": {},
     "output_type": "execute_result"
    }
   ],
   "source": [
    "a = pd.read_csv(\"/rsrch4/scratch/mol_cgenesis/nkdang/CDR3/results/portal/SKCM/heavy/clustering_exact/clusters/4/IGHV3-15_IGHJ4_CATGPLDYW.tsv\", sep='\\t')\n",
    "# a['ratio'] = a['#count']/a['frequency']\n",
    "a[['sample_id','sequence_id','#count','frequency','patient_id','v_call','j_call','junction_aa']]"
   ]
  },
  {
   "cell_type": "code",
   "execution_count": 2,
   "metadata": {},
   "outputs": [],
   "source": [
    "cancer = \"LUAD\"\n",
    "def customized_correlation(ls1: np.array, ls2: np.array) -> float:\n",
    "    \"\"\"\n",
    "    Input: list1 and list2\n",
    "    Output: correlation value after grouping nearby points \n",
    "    \"\"\"\n",
    "    points = np.array([[x, y] for x, y in zip(ls1, ls2)])\n",
    "    clustering = DBSCAN(eps=0.001, min_samples=1).fit(points)\n",
    "    labels = clustering.labels_\n",
    "    ls1_new = []\n",
    "    ls2_new = []\n",
    "    for g in set(labels):\n",
    "        indices = np.where(labels == g)\n",
    "        group = points[indices]\n",
    "        x, y = np.mean(group, axis=0)\n",
    "        ls1_new.append(x)\n",
    "        ls2_new.append(y)\n",
    "    if len(ls1_new)< 2:\n",
    "        return -1\n",
    "    return pd.Series(ls1_new).corr(pd.Series(ls2_new))"
   ]
  },
  {
   "cell_type": "code",
   "execution_count": 3,
   "metadata": {},
   "outputs": [],
   "source": [
    "light_chains = pd.read_feather(f\"/rsrch4/scratch/mol_cgenesis/nkdang/CDR3/results/portal/{cancer}/light/data_clean.feather\")\n",
    "heavy_chains = pd.read_feather(f\"/rsrch4/scratch/mol_cgenesis/nkdang/CDR3/results/portal/{cancer}/heavy/data_clean.feather\")\n",
    "patients_light_count = pd.DataFrame(light_chains.value_counts(\"patient_id\"),columns=['total_expression'])\n",
    "patients_heavy_count = pd.DataFrame(heavy_chains.value_counts(\"patient_id\"),columns=['total_expression'])\n",
    "\n",
    "light_groups = pd.DataFrame(light_chains.value_counts(['v_call','j_call','junction_aa','patient_id']),columns=['light_chain_expression'])\n",
    "light_groups = light_groups.reset_index()"
   ]
  },
  {
   "cell_type": "code",
   "execution_count": 5,
   "metadata": {},
   "outputs": [
    {
     "data": {
      "text/html": [
       "<div>\n",
       "<style scoped>\n",
       "    .dataframe tbody tr th:only-of-type {\n",
       "        vertical-align: middle;\n",
       "    }\n",
       "\n",
       "    .dataframe tbody tr th {\n",
       "        vertical-align: top;\n",
       "    }\n",
       "\n",
       "    .dataframe thead th {\n",
       "        text-align: right;\n",
       "    }\n",
       "</style>\n",
       "<table border=\"1\" class=\"dataframe\">\n",
       "  <thead>\n",
       "    <tr style=\"text-align: right;\">\n",
       "      <th></th>\n",
       "      <th></th>\n",
       "      <th>patient_id</th>\n",
       "      <th>TCGA-49-6743</th>\n",
       "      <th>TCGA-50-6590</th>\n",
       "      <th>TCGA-55-6968</th>\n",
       "      <th>TCGA-55-6969</th>\n",
       "      <th>TCGA-55-6985</th>\n",
       "      <th>TCGA-55-6987</th>\n",
       "      <th>TCGA-55-7570</th>\n",
       "      <th>TCGA-55-8505</th>\n",
       "      <th>TCGA-55-8621</th>\n",
       "      <th>TCGA-55-A4DF</th>\n",
       "      <th>TCGA-64-5779</th>\n",
       "      <th>TCGA-78-7150</th>\n",
       "      <th>TCGA-86-8585</th>\n",
       "      <th>TCGA-91-6831</th>\n",
       "      <th>TCGA-91-A4BC</th>\n",
       "      <th>TCGA-93-A4JQ</th>\n",
       "    </tr>\n",
       "    <tr>\n",
       "      <th>v_call</th>\n",
       "      <th>j_call</th>\n",
       "      <th>junction_aa</th>\n",
       "      <th></th>\n",
       "      <th></th>\n",
       "      <th></th>\n",
       "      <th></th>\n",
       "      <th></th>\n",
       "      <th></th>\n",
       "      <th></th>\n",
       "      <th></th>\n",
       "      <th></th>\n",
       "      <th></th>\n",
       "      <th></th>\n",
       "      <th></th>\n",
       "      <th></th>\n",
       "      <th></th>\n",
       "      <th></th>\n",
       "      <th></th>\n",
       "    </tr>\n",
       "  </thead>\n",
       "  <tbody>\n",
       "    <tr>\n",
       "      <th rowspan=\"5\" valign=\"top\">IGKV1-12</th>\n",
       "      <th rowspan=\"5\" valign=\"top\">IGKJ1</th>\n",
       "      <th>CEQASSFPPWTF</th>\n",
       "      <td>0.0</td>\n",
       "      <td>0.000000</td>\n",
       "      <td>0.000000</td>\n",
       "      <td>0.0</td>\n",
       "      <td>0.0</td>\n",
       "      <td>0.000010</td>\n",
       "      <td>0.0</td>\n",
       "      <td>0.0</td>\n",
       "      <td>0.000000</td>\n",
       "      <td>0.0</td>\n",
       "      <td>0.0</td>\n",
       "      <td>0.0</td>\n",
       "      <td>0.0</td>\n",
       "      <td>0.0</td>\n",
       "      <td>0.0</td>\n",
       "      <td>0.0</td>\n",
       "    </tr>\n",
       "    <tr>\n",
       "      <th>CFQHNSYPWTF</th>\n",
       "      <td>0.0</td>\n",
       "      <td>0.000000</td>\n",
       "      <td>0.000000</td>\n",
       "      <td>0.0</td>\n",
       "      <td>0.0</td>\n",
       "      <td>0.000005</td>\n",
       "      <td>0.0</td>\n",
       "      <td>0.0</td>\n",
       "      <td>0.000000</td>\n",
       "      <td>0.0</td>\n",
       "      <td>0.0</td>\n",
       "      <td>0.0</td>\n",
       "      <td>0.0</td>\n",
       "      <td>0.0</td>\n",
       "      <td>0.0</td>\n",
       "      <td>0.0</td>\n",
       "    </tr>\n",
       "    <tr>\n",
       "      <th>CHEYVRFPTF</th>\n",
       "      <td>0.0</td>\n",
       "      <td>0.000015</td>\n",
       "      <td>0.000000</td>\n",
       "      <td>0.0</td>\n",
       "      <td>0.0</td>\n",
       "      <td>0.000000</td>\n",
       "      <td>0.0</td>\n",
       "      <td>0.0</td>\n",
       "      <td>0.000000</td>\n",
       "      <td>0.0</td>\n",
       "      <td>0.0</td>\n",
       "      <td>0.0</td>\n",
       "      <td>0.0</td>\n",
       "      <td>0.0</td>\n",
       "      <td>0.0</td>\n",
       "      <td>0.0</td>\n",
       "    </tr>\n",
       "    <tr>\n",
       "      <th>CHQAKSFPRTF</th>\n",
       "      <td>0.0</td>\n",
       "      <td>0.000000</td>\n",
       "      <td>0.000033</td>\n",
       "      <td>0.0</td>\n",
       "      <td>0.0</td>\n",
       "      <td>0.000000</td>\n",
       "      <td>0.0</td>\n",
       "      <td>0.0</td>\n",
       "      <td>0.000000</td>\n",
       "      <td>0.0</td>\n",
       "      <td>0.0</td>\n",
       "      <td>0.0</td>\n",
       "      <td>0.0</td>\n",
       "      <td>0.0</td>\n",
       "      <td>0.0</td>\n",
       "      <td>0.0</td>\n",
       "    </tr>\n",
       "    <tr>\n",
       "      <th>CHQANSFPATF</th>\n",
       "      <td>0.0</td>\n",
       "      <td>0.000000</td>\n",
       "      <td>0.000000</td>\n",
       "      <td>0.0</td>\n",
       "      <td>0.0</td>\n",
       "      <td>0.000005</td>\n",
       "      <td>0.0</td>\n",
       "      <td>0.0</td>\n",
       "      <td>0.000000</td>\n",
       "      <td>0.0</td>\n",
       "      <td>0.0</td>\n",
       "      <td>0.0</td>\n",
       "      <td>0.0</td>\n",
       "      <td>0.0</td>\n",
       "      <td>0.0</td>\n",
       "      <td>0.0</td>\n",
       "    </tr>\n",
       "    <tr>\n",
       "      <th>...</th>\n",
       "      <th>...</th>\n",
       "      <th>...</th>\n",
       "      <td>...</td>\n",
       "      <td>...</td>\n",
       "      <td>...</td>\n",
       "      <td>...</td>\n",
       "      <td>...</td>\n",
       "      <td>...</td>\n",
       "      <td>...</td>\n",
       "      <td>...</td>\n",
       "      <td>...</td>\n",
       "      <td>...</td>\n",
       "      <td>...</td>\n",
       "      <td>...</td>\n",
       "      <td>...</td>\n",
       "      <td>...</td>\n",
       "      <td>...</td>\n",
       "      <td>...</td>\n",
       "    </tr>\n",
       "    <tr>\n",
       "      <th rowspan=\"5\" valign=\"top\">IGLV9-49</th>\n",
       "      <th rowspan=\"5\" valign=\"top\">IGLJ3</th>\n",
       "      <th>CGTDHGTGSSFVWVF</th>\n",
       "      <td>0.0</td>\n",
       "      <td>0.000000</td>\n",
       "      <td>0.000000</td>\n",
       "      <td>0.0</td>\n",
       "      <td>0.0</td>\n",
       "      <td>0.000000</td>\n",
       "      <td>0.0</td>\n",
       "      <td>0.0</td>\n",
       "      <td>0.000068</td>\n",
       "      <td>0.0</td>\n",
       "      <td>0.0</td>\n",
       "      <td>0.0</td>\n",
       "      <td>0.0</td>\n",
       "      <td>0.0</td>\n",
       "      <td>0.0</td>\n",
       "      <td>0.0</td>\n",
       "    </tr>\n",
       "    <tr>\n",
       "      <th>RGADHGSGSNFVWVF</th>\n",
       "      <td>0.0</td>\n",
       "      <td>0.000000</td>\n",
       "      <td>0.002247</td>\n",
       "      <td>0.0</td>\n",
       "      <td>0.0</td>\n",
       "      <td>0.000000</td>\n",
       "      <td>0.0</td>\n",
       "      <td>0.0</td>\n",
       "      <td>0.000000</td>\n",
       "      <td>0.0</td>\n",
       "      <td>0.0</td>\n",
       "      <td>0.0</td>\n",
       "      <td>0.0</td>\n",
       "      <td>0.0</td>\n",
       "      <td>0.0</td>\n",
       "      <td>0.0</td>\n",
       "    </tr>\n",
       "    <tr>\n",
       "      <th>RGADHGTGSNFVWVF</th>\n",
       "      <td>0.0</td>\n",
       "      <td>0.000000</td>\n",
       "      <td>0.000099</td>\n",
       "      <td>0.0</td>\n",
       "      <td>0.0</td>\n",
       "      <td>0.000000</td>\n",
       "      <td>0.0</td>\n",
       "      <td>0.0</td>\n",
       "      <td>0.000000</td>\n",
       "      <td>0.0</td>\n",
       "      <td>0.0</td>\n",
       "      <td>0.0</td>\n",
       "      <td>0.0</td>\n",
       "      <td>0.0</td>\n",
       "      <td>0.0</td>\n",
       "      <td>0.0</td>\n",
       "    </tr>\n",
       "    <tr>\n",
       "      <th>SGADHGSGSNFVWVF</th>\n",
       "      <td>0.0</td>\n",
       "      <td>0.000000</td>\n",
       "      <td>0.001123</td>\n",
       "      <td>0.0</td>\n",
       "      <td>0.0</td>\n",
       "      <td>0.000000</td>\n",
       "      <td>0.0</td>\n",
       "      <td>0.0</td>\n",
       "      <td>0.000000</td>\n",
       "      <td>0.0</td>\n",
       "      <td>0.0</td>\n",
       "      <td>0.0</td>\n",
       "      <td>0.0</td>\n",
       "      <td>0.0</td>\n",
       "      <td>0.0</td>\n",
       "      <td>0.0</td>\n",
       "    </tr>\n",
       "    <tr>\n",
       "      <th>WRADHGSGSNFVWVF</th>\n",
       "      <td>0.0</td>\n",
       "      <td>0.000000</td>\n",
       "      <td>0.000033</td>\n",
       "      <td>0.0</td>\n",
       "      <td>0.0</td>\n",
       "      <td>0.000000</td>\n",
       "      <td>0.0</td>\n",
       "      <td>0.0</td>\n",
       "      <td>0.000000</td>\n",
       "      <td>0.0</td>\n",
       "      <td>0.0</td>\n",
       "      <td>0.0</td>\n",
       "      <td>0.0</td>\n",
       "      <td>0.0</td>\n",
       "      <td>0.0</td>\n",
       "      <td>0.0</td>\n",
       "    </tr>\n",
       "  </tbody>\n",
       "</table>\n",
       "<p>83224 rows × 16 columns</p>\n",
       "</div>"
      ],
      "text/plain": [
       "patient_id                       TCGA-49-6743  TCGA-50-6590  TCGA-55-6968  \\\n",
       "v_call   j_call junction_aa                                                 \n",
       "IGKV1-12 IGKJ1  CEQASSFPPWTF              0.0      0.000000      0.000000   \n",
       "                CFQHNSYPWTF               0.0      0.000000      0.000000   \n",
       "                CHEYVRFPTF                0.0      0.000015      0.000000   \n",
       "                CHQAKSFPRTF               0.0      0.000000      0.000033   \n",
       "                CHQANSFPATF               0.0      0.000000      0.000000   \n",
       "...                                       ...           ...           ...   \n",
       "IGLV9-49 IGLJ3  CGTDHGTGSSFVWVF           0.0      0.000000      0.000000   \n",
       "                RGADHGSGSNFVWVF           0.0      0.000000      0.002247   \n",
       "                RGADHGTGSNFVWVF           0.0      0.000000      0.000099   \n",
       "                SGADHGSGSNFVWVF           0.0      0.000000      0.001123   \n",
       "                WRADHGSGSNFVWVF           0.0      0.000000      0.000033   \n",
       "\n",
       "patient_id                       TCGA-55-6969  TCGA-55-6985  TCGA-55-6987  \\\n",
       "v_call   j_call junction_aa                                                 \n",
       "IGKV1-12 IGKJ1  CEQASSFPPWTF              0.0           0.0      0.000010   \n",
       "                CFQHNSYPWTF               0.0           0.0      0.000005   \n",
       "                CHEYVRFPTF                0.0           0.0      0.000000   \n",
       "                CHQAKSFPRTF               0.0           0.0      0.000000   \n",
       "                CHQANSFPATF               0.0           0.0      0.000005   \n",
       "...                                       ...           ...           ...   \n",
       "IGLV9-49 IGLJ3  CGTDHGTGSSFVWVF           0.0           0.0      0.000000   \n",
       "                RGADHGSGSNFVWVF           0.0           0.0      0.000000   \n",
       "                RGADHGTGSNFVWVF           0.0           0.0      0.000000   \n",
       "                SGADHGSGSNFVWVF           0.0           0.0      0.000000   \n",
       "                WRADHGSGSNFVWVF           0.0           0.0      0.000000   \n",
       "\n",
       "patient_id                       TCGA-55-7570  TCGA-55-8505  TCGA-55-8621  \\\n",
       "v_call   j_call junction_aa                                                 \n",
       "IGKV1-12 IGKJ1  CEQASSFPPWTF              0.0           0.0      0.000000   \n",
       "                CFQHNSYPWTF               0.0           0.0      0.000000   \n",
       "                CHEYVRFPTF                0.0           0.0      0.000000   \n",
       "                CHQAKSFPRTF               0.0           0.0      0.000000   \n",
       "                CHQANSFPATF               0.0           0.0      0.000000   \n",
       "...                                       ...           ...           ...   \n",
       "IGLV9-49 IGLJ3  CGTDHGTGSSFVWVF           0.0           0.0      0.000068   \n",
       "                RGADHGSGSNFVWVF           0.0           0.0      0.000000   \n",
       "                RGADHGTGSNFVWVF           0.0           0.0      0.000000   \n",
       "                SGADHGSGSNFVWVF           0.0           0.0      0.000000   \n",
       "                WRADHGSGSNFVWVF           0.0           0.0      0.000000   \n",
       "\n",
       "patient_id                       TCGA-55-A4DF  TCGA-64-5779  TCGA-78-7150  \\\n",
       "v_call   j_call junction_aa                                                 \n",
       "IGKV1-12 IGKJ1  CEQASSFPPWTF              0.0           0.0           0.0   \n",
       "                CFQHNSYPWTF               0.0           0.0           0.0   \n",
       "                CHEYVRFPTF                0.0           0.0           0.0   \n",
       "                CHQAKSFPRTF               0.0           0.0           0.0   \n",
       "                CHQANSFPATF               0.0           0.0           0.0   \n",
       "...                                       ...           ...           ...   \n",
       "IGLV9-49 IGLJ3  CGTDHGTGSSFVWVF           0.0           0.0           0.0   \n",
       "                RGADHGSGSNFVWVF           0.0           0.0           0.0   \n",
       "                RGADHGTGSNFVWVF           0.0           0.0           0.0   \n",
       "                SGADHGSGSNFVWVF           0.0           0.0           0.0   \n",
       "                WRADHGSGSNFVWVF           0.0           0.0           0.0   \n",
       "\n",
       "patient_id                       TCGA-86-8585  TCGA-91-6831  TCGA-91-A4BC  \\\n",
       "v_call   j_call junction_aa                                                 \n",
       "IGKV1-12 IGKJ1  CEQASSFPPWTF              0.0           0.0           0.0   \n",
       "                CFQHNSYPWTF               0.0           0.0           0.0   \n",
       "                CHEYVRFPTF                0.0           0.0           0.0   \n",
       "                CHQAKSFPRTF               0.0           0.0           0.0   \n",
       "                CHQANSFPATF               0.0           0.0           0.0   \n",
       "...                                       ...           ...           ...   \n",
       "IGLV9-49 IGLJ3  CGTDHGTGSSFVWVF           0.0           0.0           0.0   \n",
       "                RGADHGSGSNFVWVF           0.0           0.0           0.0   \n",
       "                RGADHGTGSNFVWVF           0.0           0.0           0.0   \n",
       "                SGADHGSGSNFVWVF           0.0           0.0           0.0   \n",
       "                WRADHGSGSNFVWVF           0.0           0.0           0.0   \n",
       "\n",
       "patient_id                       TCGA-93-A4JQ  \n",
       "v_call   j_call junction_aa                    \n",
       "IGKV1-12 IGKJ1  CEQASSFPPWTF              0.0  \n",
       "                CFQHNSYPWTF               0.0  \n",
       "                CHEYVRFPTF                0.0  \n",
       "                CHQAKSFPRTF               0.0  \n",
       "                CHQANSFPATF               0.0  \n",
       "...                                       ...  \n",
       "IGLV9-49 IGLJ3  CGTDHGTGSSFVWVF           0.0  \n",
       "                RGADHGSGSNFVWVF           0.0  \n",
       "                RGADHGTGSNFVWVF           0.0  \n",
       "                SGADHGSGSNFVWVF           0.0  \n",
       "                WRADHGSGSNFVWVF           0.0  \n",
       "\n",
       "[83224 rows x 16 columns]"
      ]
     },
     "execution_count": 5,
     "metadata": {},
     "output_type": "execute_result"
    }
   ],
   "source": [
    "\"\"\"\n",
    "A cluster of heavy chain IG\n",
    "\"\"\"\n",
    "heavy_cluster = pd.read_csv(\"/rsrch4/scratch/mol_cgenesis/nkdang/CDR3/results/portal/LUAD/heavy/clustering_group/clusters/16/IGHV3-30_IGHJ6_CARDSYGMDVW.tsv\", sep='\\t')\n",
    "heavy_expression = pd.DataFrame(heavy_cluster.value_counts(['patient_id']).sort_index(),columns=['cluster_expression'])\n",
    "heavy_expression = heavy_expression.merge(patients_heavy_count, how='left',left_on='patient_id', right_on='patient_id')\n",
    "heavy_expression['percent'] = heavy_expression['cluster_expression']/heavy_expression['total_expression']\n",
    "patients = heavy_expression.index.tolist()\n",
    "\n",
    "F_Ht = heavy_expression['percent'].values\n",
    "\n",
    "### FREQUENCY LIGHT CHAIN MATRIX\n",
    "groups = light_groups[light_groups['patient_id'].isin(patients)]\n",
    "groups = groups.sort_values(by=[\"patient_id\"])\n",
    "groups = groups.merge(patients_light_count, how='left',left_on='patient_id', right_on='patient_id')\n",
    "groups['percent'] = groups['light_chain_expression'] / groups['total_expression']\n",
    "\n",
    "F_L = pd.crosstab(index=[groups[\"v_call\"],groups[\"j_call\"],groups['junction_aa']], columns=groups['patient_id'], values=groups['percent'], aggfunc='sum').fillna(0)\n",
    "F_L"
   ]
  },
  {
   "cell_type": "code",
   "execution_count": 15,
   "metadata": {},
   "outputs": [
    {
     "data": {
      "text/html": [
       "<div>\n",
       "<style scoped>\n",
       "    .dataframe tbody tr th:only-of-type {\n",
       "        vertical-align: middle;\n",
       "    }\n",
       "\n",
       "    .dataframe tbody tr th {\n",
       "        vertical-align: top;\n",
       "    }\n",
       "\n",
       "    .dataframe thead th {\n",
       "        text-align: right;\n",
       "    }\n",
       "</style>\n",
       "<table border=\"1\" class=\"dataframe\">\n",
       "  <thead>\n",
       "    <tr style=\"text-align: right;\">\n",
       "      <th></th>\n",
       "      <th></th>\n",
       "      <th>patient_id</th>\n",
       "      <th>TCGA-49-6743</th>\n",
       "      <th>TCGA-50-6590</th>\n",
       "      <th>TCGA-55-6968</th>\n",
       "      <th>TCGA-55-6969</th>\n",
       "      <th>TCGA-55-6985</th>\n",
       "      <th>TCGA-55-6987</th>\n",
       "      <th>TCGA-55-7570</th>\n",
       "      <th>TCGA-55-8505</th>\n",
       "      <th>TCGA-55-8621</th>\n",
       "      <th>TCGA-55-A4DF</th>\n",
       "      <th>TCGA-64-5779</th>\n",
       "      <th>TCGA-78-7150</th>\n",
       "      <th>TCGA-86-8585</th>\n",
       "      <th>TCGA-91-6831</th>\n",
       "      <th>TCGA-91-A4BC</th>\n",
       "      <th>TCGA-93-A4JQ</th>\n",
       "    </tr>\n",
       "    <tr>\n",
       "      <th>v_call</th>\n",
       "      <th>j_call</th>\n",
       "      <th>junction_aa</th>\n",
       "      <th></th>\n",
       "      <th></th>\n",
       "      <th></th>\n",
       "      <th></th>\n",
       "      <th></th>\n",
       "      <th></th>\n",
       "      <th></th>\n",
       "      <th></th>\n",
       "      <th></th>\n",
       "      <th></th>\n",
       "      <th></th>\n",
       "      <th></th>\n",
       "      <th></th>\n",
       "      <th></th>\n",
       "      <th></th>\n",
       "      <th></th>\n",
       "    </tr>\n",
       "  </thead>\n",
       "  <tbody>\n",
       "    <tr>\n",
       "      <th rowspan=\"2\" valign=\"top\">IGKV1-12</th>\n",
       "      <th>IGKJ3</th>\n",
       "      <th>CQQANSFPFTF</th>\n",
       "      <td>0.000000</td>\n",
       "      <td>0.005337</td>\n",
       "      <td>0.000000</td>\n",
       "      <td>0.000019</td>\n",
       "      <td>0.000081</td>\n",
       "      <td>0.000041</td>\n",
       "      <td>0.000000</td>\n",
       "      <td>0.000000</td>\n",
       "      <td>0.000407</td>\n",
       "      <td>0.000000</td>\n",
       "      <td>0.000015</td>\n",
       "      <td>0.000391</td>\n",
       "      <td>0.000751</td>\n",
       "      <td>0.001046</td>\n",
       "      <td>0.000012</td>\n",
       "      <td>0.000054</td>\n",
       "    </tr>\n",
       "    <tr>\n",
       "      <th>IGKJ4</th>\n",
       "      <th>CQQANSFPLTF</th>\n",
       "      <td>0.000343</td>\n",
       "      <td>0.000045</td>\n",
       "      <td>0.000231</td>\n",
       "      <td>0.000290</td>\n",
       "      <td>0.001863</td>\n",
       "      <td>0.000041</td>\n",
       "      <td>0.000085</td>\n",
       "      <td>0.000948</td>\n",
       "      <td>0.000587</td>\n",
       "      <td>0.000219</td>\n",
       "      <td>0.000798</td>\n",
       "      <td>0.001758</td>\n",
       "      <td>0.002669</td>\n",
       "      <td>0.000017</td>\n",
       "      <td>0.000159</td>\n",
       "      <td>0.001630</td>\n",
       "    </tr>\n",
       "    <tr>\n",
       "      <th>IGKV1-16</th>\n",
       "      <th>IGKJ4</th>\n",
       "      <th>CQQYNSYPLTF</th>\n",
       "      <td>0.000038</td>\n",
       "      <td>0.000075</td>\n",
       "      <td>0.000132</td>\n",
       "      <td>0.000377</td>\n",
       "      <td>0.000486</td>\n",
       "      <td>0.000015</td>\n",
       "      <td>0.000000</td>\n",
       "      <td>0.000211</td>\n",
       "      <td>0.000158</td>\n",
       "      <td>0.000548</td>\n",
       "      <td>0.000318</td>\n",
       "      <td>0.003517</td>\n",
       "      <td>0.000250</td>\n",
       "      <td>0.000017</td>\n",
       "      <td>0.000061</td>\n",
       "      <td>0.000489</td>\n",
       "    </tr>\n",
       "    <tr>\n",
       "      <th rowspan=\"2\" valign=\"top\">IGKV1-17</th>\n",
       "      <th>IGKJ1</th>\n",
       "      <th>CLQHNSYPRTF</th>\n",
       "      <td>0.000190</td>\n",
       "      <td>0.002452</td>\n",
       "      <td>0.000991</td>\n",
       "      <td>0.000000</td>\n",
       "      <td>0.000486</td>\n",
       "      <td>0.000000</td>\n",
       "      <td>0.000000</td>\n",
       "      <td>0.000000</td>\n",
       "      <td>0.000316</td>\n",
       "      <td>0.000219</td>\n",
       "      <td>0.000007</td>\n",
       "      <td>0.000000</td>\n",
       "      <td>0.000000</td>\n",
       "      <td>0.000034</td>\n",
       "      <td>0.000085</td>\n",
       "      <td>0.000543</td>\n",
       "    </tr>\n",
       "    <tr>\n",
       "      <th>IGKJ4</th>\n",
       "      <th>CLQHNSYPLTF</th>\n",
       "      <td>0.000114</td>\n",
       "      <td>0.000075</td>\n",
       "      <td>0.000066</td>\n",
       "      <td>0.000029</td>\n",
       "      <td>0.000324</td>\n",
       "      <td>0.000026</td>\n",
       "      <td>0.000043</td>\n",
       "      <td>0.000000</td>\n",
       "      <td>0.000226</td>\n",
       "      <td>0.000000</td>\n",
       "      <td>0.000030</td>\n",
       "      <td>0.000000</td>\n",
       "      <td>0.000083</td>\n",
       "      <td>0.000000</td>\n",
       "      <td>0.004627</td>\n",
       "      <td>0.000163</td>\n",
       "    </tr>\n",
       "    <tr>\n",
       "      <th>...</th>\n",
       "      <th>...</th>\n",
       "      <th>...</th>\n",
       "      <td>...</td>\n",
       "      <td>...</td>\n",
       "      <td>...</td>\n",
       "      <td>...</td>\n",
       "      <td>...</td>\n",
       "      <td>...</td>\n",
       "      <td>...</td>\n",
       "      <td>...</td>\n",
       "      <td>...</td>\n",
       "      <td>...</td>\n",
       "      <td>...</td>\n",
       "      <td>...</td>\n",
       "      <td>...</td>\n",
       "      <td>...</td>\n",
       "      <td>...</td>\n",
       "      <td>...</td>\n",
       "    </tr>\n",
       "    <tr>\n",
       "      <th>IGLV3-1</th>\n",
       "      <th>IGLJ2</th>\n",
       "      <th>CQAWDSTTVVF</th>\n",
       "      <td>0.000000</td>\n",
       "      <td>0.000912</td>\n",
       "      <td>0.000396</td>\n",
       "      <td>0.000377</td>\n",
       "      <td>0.000000</td>\n",
       "      <td>0.000041</td>\n",
       "      <td>0.000085</td>\n",
       "      <td>0.001053</td>\n",
       "      <td>0.000361</td>\n",
       "      <td>0.000000</td>\n",
       "      <td>0.000007</td>\n",
       "      <td>0.003908</td>\n",
       "      <td>0.000000</td>\n",
       "      <td>0.000000</td>\n",
       "      <td>0.000147</td>\n",
       "      <td>0.001032</td>\n",
       "    </tr>\n",
       "    <tr>\n",
       "      <th>IGLV3-21</th>\n",
       "      <th>IGLJ2</th>\n",
       "      <th>CQVWDSSSDHVVF</th>\n",
       "      <td>0.003846</td>\n",
       "      <td>0.000299</td>\n",
       "      <td>0.001685</td>\n",
       "      <td>0.000145</td>\n",
       "      <td>0.000486</td>\n",
       "      <td>0.000092</td>\n",
       "      <td>0.000171</td>\n",
       "      <td>0.000632</td>\n",
       "      <td>0.000090</td>\n",
       "      <td>0.000000</td>\n",
       "      <td>0.000148</td>\n",
       "      <td>0.000000</td>\n",
       "      <td>0.001835</td>\n",
       "      <td>0.000291</td>\n",
       "      <td>0.001636</td>\n",
       "      <td>0.001250</td>\n",
       "    </tr>\n",
       "    <tr>\n",
       "      <th>IGLV3-25</th>\n",
       "      <th>IGLJ2</th>\n",
       "      <th>CQSADSSGTYVVF</th>\n",
       "      <td>0.001637</td>\n",
       "      <td>0.000194</td>\n",
       "      <td>0.001685</td>\n",
       "      <td>0.000396</td>\n",
       "      <td>0.000162</td>\n",
       "      <td>0.000020</td>\n",
       "      <td>0.000000</td>\n",
       "      <td>0.000316</td>\n",
       "      <td>0.000000</td>\n",
       "      <td>0.000000</td>\n",
       "      <td>0.000104</td>\n",
       "      <td>0.000000</td>\n",
       "      <td>0.000167</td>\n",
       "      <td>0.000103</td>\n",
       "      <td>0.002808</td>\n",
       "      <td>0.001250</td>\n",
       "    </tr>\n",
       "    <tr>\n",
       "      <th>IGLV4-69</th>\n",
       "      <th>IGLJ3</th>\n",
       "      <th>CQTWGTGIRVF</th>\n",
       "      <td>0.000000</td>\n",
       "      <td>0.000269</td>\n",
       "      <td>0.000033</td>\n",
       "      <td>0.000077</td>\n",
       "      <td>0.003159</td>\n",
       "      <td>0.000138</td>\n",
       "      <td>0.000128</td>\n",
       "      <td>0.000000</td>\n",
       "      <td>0.000226</td>\n",
       "      <td>0.000657</td>\n",
       "      <td>0.000067</td>\n",
       "      <td>0.000000</td>\n",
       "      <td>0.006840</td>\n",
       "      <td>0.000034</td>\n",
       "      <td>0.000000</td>\n",
       "      <td>0.000435</td>\n",
       "    </tr>\n",
       "    <tr>\n",
       "      <th>IGLV8-61</th>\n",
       "      <th>IGLJ3</th>\n",
       "      <th>CVLYMGSGIWVF</th>\n",
       "      <td>0.000000</td>\n",
       "      <td>0.000807</td>\n",
       "      <td>0.000231</td>\n",
       "      <td>0.000039</td>\n",
       "      <td>0.000000</td>\n",
       "      <td>0.000020</td>\n",
       "      <td>0.000000</td>\n",
       "      <td>0.000211</td>\n",
       "      <td>0.000181</td>\n",
       "      <td>0.003614</td>\n",
       "      <td>0.000081</td>\n",
       "      <td>0.000000</td>\n",
       "      <td>0.002419</td>\n",
       "      <td>0.000017</td>\n",
       "      <td>0.000000</td>\n",
       "      <td>0.000054</td>\n",
       "    </tr>\n",
       "  </tbody>\n",
       "</table>\n",
       "<p>87 rows × 16 columns</p>\n",
       "</div>"
      ],
      "text/plain": [
       "patient_id                     TCGA-49-6743  TCGA-50-6590  TCGA-55-6968  \\\n",
       "v_call   j_call junction_aa                                               \n",
       "IGKV1-12 IGKJ3  CQQANSFPFTF        0.000000      0.005337      0.000000   \n",
       "         IGKJ4  CQQANSFPLTF        0.000343      0.000045      0.000231   \n",
       "IGKV1-16 IGKJ4  CQQYNSYPLTF        0.000038      0.000075      0.000132   \n",
       "IGKV1-17 IGKJ1  CLQHNSYPRTF        0.000190      0.002452      0.000991   \n",
       "         IGKJ4  CLQHNSYPLTF        0.000114      0.000075      0.000066   \n",
       "...                                     ...           ...           ...   \n",
       "IGLV3-1  IGLJ2  CQAWDSTTVVF        0.000000      0.000912      0.000396   \n",
       "IGLV3-21 IGLJ2  CQVWDSSSDHVVF      0.003846      0.000299      0.001685   \n",
       "IGLV3-25 IGLJ2  CQSADSSGTYVVF      0.001637      0.000194      0.001685   \n",
       "IGLV4-69 IGLJ3  CQTWGTGIRVF        0.000000      0.000269      0.000033   \n",
       "IGLV8-61 IGLJ3  CVLYMGSGIWVF       0.000000      0.000807      0.000231   \n",
       "\n",
       "patient_id                     TCGA-55-6969  TCGA-55-6985  TCGA-55-6987  \\\n",
       "v_call   j_call junction_aa                                               \n",
       "IGKV1-12 IGKJ3  CQQANSFPFTF        0.000019      0.000081      0.000041   \n",
       "         IGKJ4  CQQANSFPLTF        0.000290      0.001863      0.000041   \n",
       "IGKV1-16 IGKJ4  CQQYNSYPLTF        0.000377      0.000486      0.000015   \n",
       "IGKV1-17 IGKJ1  CLQHNSYPRTF        0.000000      0.000486      0.000000   \n",
       "         IGKJ4  CLQHNSYPLTF        0.000029      0.000324      0.000026   \n",
       "...                                     ...           ...           ...   \n",
       "IGLV3-1  IGLJ2  CQAWDSTTVVF        0.000377      0.000000      0.000041   \n",
       "IGLV3-21 IGLJ2  CQVWDSSSDHVVF      0.000145      0.000486      0.000092   \n",
       "IGLV3-25 IGLJ2  CQSADSSGTYVVF      0.000396      0.000162      0.000020   \n",
       "IGLV4-69 IGLJ3  CQTWGTGIRVF        0.000077      0.003159      0.000138   \n",
       "IGLV8-61 IGLJ3  CVLYMGSGIWVF       0.000039      0.000000      0.000020   \n",
       "\n",
       "patient_id                     TCGA-55-7570  TCGA-55-8505  TCGA-55-8621  \\\n",
       "v_call   j_call junction_aa                                               \n",
       "IGKV1-12 IGKJ3  CQQANSFPFTF        0.000000      0.000000      0.000407   \n",
       "         IGKJ4  CQQANSFPLTF        0.000085      0.000948      0.000587   \n",
       "IGKV1-16 IGKJ4  CQQYNSYPLTF        0.000000      0.000211      0.000158   \n",
       "IGKV1-17 IGKJ1  CLQHNSYPRTF        0.000000      0.000000      0.000316   \n",
       "         IGKJ4  CLQHNSYPLTF        0.000043      0.000000      0.000226   \n",
       "...                                     ...           ...           ...   \n",
       "IGLV3-1  IGLJ2  CQAWDSTTVVF        0.000085      0.001053      0.000361   \n",
       "IGLV3-21 IGLJ2  CQVWDSSSDHVVF      0.000171      0.000632      0.000090   \n",
       "IGLV3-25 IGLJ2  CQSADSSGTYVVF      0.000000      0.000316      0.000000   \n",
       "IGLV4-69 IGLJ3  CQTWGTGIRVF        0.000128      0.000000      0.000226   \n",
       "IGLV8-61 IGLJ3  CVLYMGSGIWVF       0.000000      0.000211      0.000181   \n",
       "\n",
       "patient_id                     TCGA-55-A4DF  TCGA-64-5779  TCGA-78-7150  \\\n",
       "v_call   j_call junction_aa                                               \n",
       "IGKV1-12 IGKJ3  CQQANSFPFTF        0.000000      0.000015      0.000391   \n",
       "         IGKJ4  CQQANSFPLTF        0.000219      0.000798      0.001758   \n",
       "IGKV1-16 IGKJ4  CQQYNSYPLTF        0.000548      0.000318      0.003517   \n",
       "IGKV1-17 IGKJ1  CLQHNSYPRTF        0.000219      0.000007      0.000000   \n",
       "         IGKJ4  CLQHNSYPLTF        0.000000      0.000030      0.000000   \n",
       "...                                     ...           ...           ...   \n",
       "IGLV3-1  IGLJ2  CQAWDSTTVVF        0.000000      0.000007      0.003908   \n",
       "IGLV3-21 IGLJ2  CQVWDSSSDHVVF      0.000000      0.000148      0.000000   \n",
       "IGLV3-25 IGLJ2  CQSADSSGTYVVF      0.000000      0.000104      0.000000   \n",
       "IGLV4-69 IGLJ3  CQTWGTGIRVF        0.000657      0.000067      0.000000   \n",
       "IGLV8-61 IGLJ3  CVLYMGSGIWVF       0.003614      0.000081      0.000000   \n",
       "\n",
       "patient_id                     TCGA-86-8585  TCGA-91-6831  TCGA-91-A4BC  \\\n",
       "v_call   j_call junction_aa                                               \n",
       "IGKV1-12 IGKJ3  CQQANSFPFTF        0.000751      0.001046      0.000012   \n",
       "         IGKJ4  CQQANSFPLTF        0.002669      0.000017      0.000159   \n",
       "IGKV1-16 IGKJ4  CQQYNSYPLTF        0.000250      0.000017      0.000061   \n",
       "IGKV1-17 IGKJ1  CLQHNSYPRTF        0.000000      0.000034      0.000085   \n",
       "         IGKJ4  CLQHNSYPLTF        0.000083      0.000000      0.004627   \n",
       "...                                     ...           ...           ...   \n",
       "IGLV3-1  IGLJ2  CQAWDSTTVVF        0.000000      0.000000      0.000147   \n",
       "IGLV3-21 IGLJ2  CQVWDSSSDHVVF      0.001835      0.000291      0.001636   \n",
       "IGLV3-25 IGLJ2  CQSADSSGTYVVF      0.000167      0.000103      0.002808   \n",
       "IGLV4-69 IGLJ3  CQTWGTGIRVF        0.006840      0.000034      0.000000   \n",
       "IGLV8-61 IGLJ3  CVLYMGSGIWVF       0.002419      0.000017      0.000000   \n",
       "\n",
       "patient_id                     TCGA-93-A4JQ  \n",
       "v_call   j_call junction_aa                  \n",
       "IGKV1-12 IGKJ3  CQQANSFPFTF        0.000054  \n",
       "         IGKJ4  CQQANSFPLTF        0.001630  \n",
       "IGKV1-16 IGKJ4  CQQYNSYPLTF        0.000489  \n",
       "IGKV1-17 IGKJ1  CLQHNSYPRTF        0.000543  \n",
       "         IGKJ4  CLQHNSYPLTF        0.000163  \n",
       "...                                     ...  \n",
       "IGLV3-1  IGLJ2  CQAWDSTTVVF        0.001032  \n",
       "IGLV3-21 IGLJ2  CQVWDSSSDHVVF      0.001250  \n",
       "IGLV3-25 IGLJ2  CQSADSSGTYVVF      0.001250  \n",
       "IGLV4-69 IGLJ3  CQTWGTGIRVF        0.000435  \n",
       "IGLV8-61 IGLJ3  CVLYMGSGIWVF       0.000054  \n",
       "\n",
       "[87 rows x 16 columns]"
      ]
     },
     "execution_count": 15,
     "metadata": {},
     "output_type": "execute_result"
    }
   ],
   "source": [
    "# remove low signal light chain\n",
    "F_L_high_expression = F_L[F_L.sum(axis=1)>F_Ht.sum()/5]\n",
    "\n",
    "# additional filters? (half number of values must be non-zero number)\n",
    "F_L_high_expression = F_L_high_expression[(F_L_high_expression < 0.00001).astype(int).sum(axis=1) < len(F_L_high_expression.columns)/2]\n",
    "\n",
    "F_L_high_expression"
   ]
  },
  {
   "cell_type": "code",
   "execution_count": 16,
   "metadata": {},
   "outputs": [
    {
     "data": {
      "text/html": [
       "<div>\n",
       "<style scoped>\n",
       "    .dataframe tbody tr th:only-of-type {\n",
       "        vertical-align: middle;\n",
       "    }\n",
       "\n",
       "    .dataframe tbody tr th {\n",
       "        vertical-align: top;\n",
       "    }\n",
       "\n",
       "    .dataframe thead th {\n",
       "        text-align: right;\n",
       "    }\n",
       "</style>\n",
       "<table border=\"1\" class=\"dataframe\">\n",
       "  <thead>\n",
       "    <tr style=\"text-align: right;\">\n",
       "      <th></th>\n",
       "      <th></th>\n",
       "      <th>patient_id</th>\n",
       "      <th>TCGA-49-6743</th>\n",
       "      <th>TCGA-50-6590</th>\n",
       "      <th>TCGA-55-6968</th>\n",
       "      <th>TCGA-55-6969</th>\n",
       "      <th>TCGA-55-6985</th>\n",
       "      <th>TCGA-55-6987</th>\n",
       "      <th>TCGA-55-7570</th>\n",
       "      <th>TCGA-55-8505</th>\n",
       "      <th>TCGA-55-8621</th>\n",
       "      <th>TCGA-55-A4DF</th>\n",
       "      <th>TCGA-64-5779</th>\n",
       "      <th>TCGA-78-7150</th>\n",
       "      <th>TCGA-86-8585</th>\n",
       "      <th>TCGA-91-6831</th>\n",
       "      <th>TCGA-91-A4BC</th>\n",
       "      <th>TCGA-93-A4JQ</th>\n",
       "      <th>correlation</th>\n",
       "      <th>fined_correlation</th>\n",
       "    </tr>\n",
       "    <tr>\n",
       "      <th>v_call</th>\n",
       "      <th>j_call</th>\n",
       "      <th>junction_aa</th>\n",
       "      <th></th>\n",
       "      <th></th>\n",
       "      <th></th>\n",
       "      <th></th>\n",
       "      <th></th>\n",
       "      <th></th>\n",
       "      <th></th>\n",
       "      <th></th>\n",
       "      <th></th>\n",
       "      <th></th>\n",
       "      <th></th>\n",
       "      <th></th>\n",
       "      <th></th>\n",
       "      <th></th>\n",
       "      <th></th>\n",
       "      <th></th>\n",
       "      <th></th>\n",
       "      <th></th>\n",
       "    </tr>\n",
       "  </thead>\n",
       "  <tbody>\n",
       "    <tr>\n",
       "      <th>IGKV1-12</th>\n",
       "      <th>IGKJ3</th>\n",
       "      <th>CQQANSFPFTF</th>\n",
       "      <td>0.000000</td>\n",
       "      <td>0.005337</td>\n",
       "      <td>0.000000</td>\n",
       "      <td>0.000019</td>\n",
       "      <td>0.000081</td>\n",
       "      <td>0.000041</td>\n",
       "      <td>0.000000</td>\n",
       "      <td>0.000000</td>\n",
       "      <td>0.000407</td>\n",
       "      <td>0.000000</td>\n",
       "      <td>0.000015</td>\n",
       "      <td>0.000391</td>\n",
       "      <td>0.000751</td>\n",
       "      <td>0.001046</td>\n",
       "      <td>0.000012</td>\n",
       "      <td>0.000054</td>\n",
       "      <td>0.413593</td>\n",
       "      <td>0.140244</td>\n",
       "    </tr>\n",
       "    <tr>\n",
       "      <th>IGKV1-17</th>\n",
       "      <th>IGKJ1</th>\n",
       "      <th>CLQHNSYPRTF</th>\n",
       "      <td>0.000190</td>\n",
       "      <td>0.002452</td>\n",
       "      <td>0.000991</td>\n",
       "      <td>0.000000</td>\n",
       "      <td>0.000486</td>\n",
       "      <td>0.000000</td>\n",
       "      <td>0.000000</td>\n",
       "      <td>0.000000</td>\n",
       "      <td>0.000316</td>\n",
       "      <td>0.000219</td>\n",
       "      <td>0.000007</td>\n",
       "      <td>0.000000</td>\n",
       "      <td>0.000000</td>\n",
       "      <td>0.000034</td>\n",
       "      <td>0.000085</td>\n",
       "      <td>0.000543</td>\n",
       "      <td>0.407232</td>\n",
       "      <td>0.172615</td>\n",
       "    </tr>\n",
       "    <tr>\n",
       "      <th>IGKV1-33</th>\n",
       "      <th>IGKJ2</th>\n",
       "      <th>CQQYDNLPYTF</th>\n",
       "      <td>0.005483</td>\n",
       "      <td>0.000090</td>\n",
       "      <td>0.000430</td>\n",
       "      <td>0.000367</td>\n",
       "      <td>0.000486</td>\n",
       "      <td>0.000251</td>\n",
       "      <td>0.000000</td>\n",
       "      <td>0.001264</td>\n",
       "      <td>0.000474</td>\n",
       "      <td>0.000000</td>\n",
       "      <td>0.000104</td>\n",
       "      <td>0.000000</td>\n",
       "      <td>0.000417</td>\n",
       "      <td>0.000069</td>\n",
       "      <td>0.000269</td>\n",
       "      <td>0.000217</td>\n",
       "      <td>0.690088</td>\n",
       "      <td>0.727116</td>\n",
       "    </tr>\n",
       "    <tr>\n",
       "      <th rowspan=\"3\" valign=\"top\">IGKV1-39</th>\n",
       "      <th rowspan=\"2\" valign=\"top\">IGKJ1</th>\n",
       "      <th>CQQSYSTPRTF</th>\n",
       "      <td>0.002323</td>\n",
       "      <td>0.000777</td>\n",
       "      <td>0.000198</td>\n",
       "      <td>0.000271</td>\n",
       "      <td>0.001215</td>\n",
       "      <td>0.000102</td>\n",
       "      <td>0.000256</td>\n",
       "      <td>0.000105</td>\n",
       "      <td>0.000723</td>\n",
       "      <td>0.000986</td>\n",
       "      <td>0.000089</td>\n",
       "      <td>0.000586</td>\n",
       "      <td>0.000334</td>\n",
       "      <td>0.000000</td>\n",
       "      <td>0.000488</td>\n",
       "      <td>0.000380</td>\n",
       "      <td>0.683952</td>\n",
       "      <td>0.870098</td>\n",
       "    </tr>\n",
       "    <tr>\n",
       "      <th>CQQSYSTPWTF</th>\n",
       "      <td>0.001104</td>\n",
       "      <td>0.002467</td>\n",
       "      <td>0.000562</td>\n",
       "      <td>0.000290</td>\n",
       "      <td>0.000243</td>\n",
       "      <td>0.000067</td>\n",
       "      <td>0.000427</td>\n",
       "      <td>0.000211</td>\n",
       "      <td>0.001829</td>\n",
       "      <td>0.000110</td>\n",
       "      <td>0.000185</td>\n",
       "      <td>0.000000</td>\n",
       "      <td>0.002753</td>\n",
       "      <td>0.000137</td>\n",
       "      <td>0.000232</td>\n",
       "      <td>0.000869</td>\n",
       "      <td>0.515369</td>\n",
       "      <td>0.143986</td>\n",
       "    </tr>\n",
       "    <tr>\n",
       "      <th>IGKJ4</th>\n",
       "      <th>CQQSYSTPLTF</th>\n",
       "      <td>0.000457</td>\n",
       "      <td>0.000314</td>\n",
       "      <td>0.000430</td>\n",
       "      <td>0.000135</td>\n",
       "      <td>0.000486</td>\n",
       "      <td>0.000256</td>\n",
       "      <td>0.001196</td>\n",
       "      <td>0.000000</td>\n",
       "      <td>0.000158</td>\n",
       "      <td>0.000000</td>\n",
       "      <td>0.000473</td>\n",
       "      <td>0.000782</td>\n",
       "      <td>0.000334</td>\n",
       "      <td>0.000274</td>\n",
       "      <td>0.000452</td>\n",
       "      <td>0.000435</td>\n",
       "      <td>0.053513</td>\n",
       "      <td>0.334727</td>\n",
       "    </tr>\n",
       "    <tr>\n",
       "      <th>IGKV1-5</th>\n",
       "      <th>IGKJ1</th>\n",
       "      <th>CQQYNSYWTF</th>\n",
       "      <td>0.000533</td>\n",
       "      <td>0.000105</td>\n",
       "      <td>0.000892</td>\n",
       "      <td>0.000184</td>\n",
       "      <td>0.000648</td>\n",
       "      <td>0.000061</td>\n",
       "      <td>0.000427</td>\n",
       "      <td>0.000632</td>\n",
       "      <td>0.001016</td>\n",
       "      <td>0.000438</td>\n",
       "      <td>0.000096</td>\n",
       "      <td>0.000000</td>\n",
       "      <td>0.000334</td>\n",
       "      <td>0.000017</td>\n",
       "      <td>0.000110</td>\n",
       "      <td>0.000000</td>\n",
       "      <td>0.018272</td>\n",
       "      <td>0.270937</td>\n",
       "    </tr>\n",
       "    <tr>\n",
       "      <th rowspan=\"2\" valign=\"top\">IGKV2-28</th>\n",
       "      <th>IGKJ2</th>\n",
       "      <th>CMQALQTPRTF</th>\n",
       "      <td>0.000495</td>\n",
       "      <td>0.000882</td>\n",
       "      <td>0.000000</td>\n",
       "      <td>0.000164</td>\n",
       "      <td>0.000000</td>\n",
       "      <td>0.000681</td>\n",
       "      <td>0.000000</td>\n",
       "      <td>0.000632</td>\n",
       "      <td>0.001039</td>\n",
       "      <td>0.001314</td>\n",
       "      <td>0.000222</td>\n",
       "      <td>0.000000</td>\n",
       "      <td>0.000000</td>\n",
       "      <td>0.000720</td>\n",
       "      <td>0.000220</td>\n",
       "      <td>0.000869</td>\n",
       "      <td>0.169904</td>\n",
       "      <td>0.322345</td>\n",
       "    </tr>\n",
       "    <tr>\n",
       "      <th>IGKJ4</th>\n",
       "      <th>CMQALQTPPTF</th>\n",
       "      <td>0.000495</td>\n",
       "      <td>0.003483</td>\n",
       "      <td>0.000000</td>\n",
       "      <td>0.000087</td>\n",
       "      <td>0.000000</td>\n",
       "      <td>0.000205</td>\n",
       "      <td>0.000000</td>\n",
       "      <td>0.000000</td>\n",
       "      <td>0.000000</td>\n",
       "      <td>0.000329</td>\n",
       "      <td>0.000000</td>\n",
       "      <td>0.001563</td>\n",
       "      <td>0.000000</td>\n",
       "      <td>0.000034</td>\n",
       "      <td>0.000049</td>\n",
       "      <td>0.000217</td>\n",
       "      <td>0.512813</td>\n",
       "      <td>0.223798</td>\n",
       "    </tr>\n",
       "    <tr>\n",
       "      <th>IGKV3-11</th>\n",
       "      <th>IGKJ4</th>\n",
       "      <th>CQQRSNWPLTF</th>\n",
       "      <td>0.000533</td>\n",
       "      <td>0.000224</td>\n",
       "      <td>0.000991</td>\n",
       "      <td>0.000348</td>\n",
       "      <td>0.000000</td>\n",
       "      <td>0.000005</td>\n",
       "      <td>0.000128</td>\n",
       "      <td>0.000421</td>\n",
       "      <td>0.000248</td>\n",
       "      <td>0.000329</td>\n",
       "      <td>0.000067</td>\n",
       "      <td>0.000782</td>\n",
       "      <td>0.001084</td>\n",
       "      <td>0.000171</td>\n",
       "      <td>0.000452</td>\n",
       "      <td>0.000869</td>\n",
       "      <td>0.317388</td>\n",
       "      <td>0.190890</td>\n",
       "    </tr>\n",
       "    <tr>\n",
       "      <th>IGKV3-20</th>\n",
       "      <th>IGKJ1</th>\n",
       "      <th>CQQYGSSPRTF</th>\n",
       "      <td>0.003427</td>\n",
       "      <td>0.002198</td>\n",
       "      <td>0.000496</td>\n",
       "      <td>0.000812</td>\n",
       "      <td>0.001377</td>\n",
       "      <td>0.000128</td>\n",
       "      <td>0.000299</td>\n",
       "      <td>0.000948</td>\n",
       "      <td>0.000316</td>\n",
       "      <td>0.001314</td>\n",
       "      <td>0.000288</td>\n",
       "      <td>0.000000</td>\n",
       "      <td>0.002085</td>\n",
       "      <td>0.002469</td>\n",
       "      <td>0.001257</td>\n",
       "      <td>0.002282</td>\n",
       "      <td>0.701993</td>\n",
       "      <td>0.677960</td>\n",
       "    </tr>\n",
       "    <tr>\n",
       "      <th rowspan=\"6\" valign=\"top\">IGKV4-1</th>\n",
       "      <th>IGKJ1</th>\n",
       "      <th>CQQYYSTPQTF</th>\n",
       "      <td>0.001523</td>\n",
       "      <td>0.000045</td>\n",
       "      <td>0.000892</td>\n",
       "      <td>0.000029</td>\n",
       "      <td>0.000648</td>\n",
       "      <td>0.000307</td>\n",
       "      <td>0.000043</td>\n",
       "      <td>0.000000</td>\n",
       "      <td>0.000000</td>\n",
       "      <td>0.000438</td>\n",
       "      <td>0.000000</td>\n",
       "      <td>0.002149</td>\n",
       "      <td>0.001001</td>\n",
       "      <td>0.000034</td>\n",
       "      <td>0.000415</td>\n",
       "      <td>0.000109</td>\n",
       "      <td>0.393861</td>\n",
       "      <td>0.056961</td>\n",
       "    </tr>\n",
       "    <tr>\n",
       "      <th rowspan=\"3\" valign=\"top\">IGKJ2</th>\n",
       "      <th>CQQYYRTPYTF</th>\n",
       "      <td>0.003770</td>\n",
       "      <td>0.000000</td>\n",
       "      <td>0.000099</td>\n",
       "      <td>0.000745</td>\n",
       "      <td>0.000000</td>\n",
       "      <td>0.000036</td>\n",
       "      <td>0.000000</td>\n",
       "      <td>0.000211</td>\n",
       "      <td>0.000000</td>\n",
       "      <td>0.000657</td>\n",
       "      <td>0.000111</td>\n",
       "      <td>0.000000</td>\n",
       "      <td>0.000834</td>\n",
       "      <td>0.000000</td>\n",
       "      <td>0.000000</td>\n",
       "      <td>0.000163</td>\n",
       "      <td>0.722129</td>\n",
       "      <td>0.734620</td>\n",
       "    </tr>\n",
       "    <tr>\n",
       "      <th>CQQYYSTPYTF</th>\n",
       "      <td>0.008834</td>\n",
       "      <td>0.000673</td>\n",
       "      <td>0.001454</td>\n",
       "      <td>0.002050</td>\n",
       "      <td>0.001296</td>\n",
       "      <td>0.000435</td>\n",
       "      <td>0.000043</td>\n",
       "      <td>0.000000</td>\n",
       "      <td>0.000181</td>\n",
       "      <td>0.000876</td>\n",
       "      <td>0.000444</td>\n",
       "      <td>0.001172</td>\n",
       "      <td>0.004338</td>\n",
       "      <td>0.000051</td>\n",
       "      <td>0.000281</td>\n",
       "      <td>0.001630</td>\n",
       "      <td>0.733900</td>\n",
       "      <td>0.697579</td>\n",
       "    </tr>\n",
       "    <tr>\n",
       "      <th>CQQYYTTPYTF</th>\n",
       "      <td>0.001904</td>\n",
       "      <td>0.000090</td>\n",
       "      <td>0.000363</td>\n",
       "      <td>0.000938</td>\n",
       "      <td>0.000729</td>\n",
       "      <td>0.000189</td>\n",
       "      <td>0.000043</td>\n",
       "      <td>0.000000</td>\n",
       "      <td>0.000090</td>\n",
       "      <td>0.001095</td>\n",
       "      <td>0.000222</td>\n",
       "      <td>0.000782</td>\n",
       "      <td>0.001335</td>\n",
       "      <td>0.000000</td>\n",
       "      <td>0.000342</td>\n",
       "      <td>0.000869</td>\n",
       "      <td>0.568785</td>\n",
       "      <td>0.609936</td>\n",
       "    </tr>\n",
       "    <tr>\n",
       "      <th rowspan=\"2\" valign=\"top\">IGKJ4</th>\n",
       "      <th>CQQYYSSPLTF</th>\n",
       "      <td>0.000762</td>\n",
       "      <td>0.000299</td>\n",
       "      <td>0.001123</td>\n",
       "      <td>0.000174</td>\n",
       "      <td>0.000972</td>\n",
       "      <td>0.000113</td>\n",
       "      <td>0.000000</td>\n",
       "      <td>0.000000</td>\n",
       "      <td>0.000474</td>\n",
       "      <td>0.000000</td>\n",
       "      <td>0.000007</td>\n",
       "      <td>0.001368</td>\n",
       "      <td>0.000167</td>\n",
       "      <td>0.000137</td>\n",
       "      <td>0.000037</td>\n",
       "      <td>0.000217</td>\n",
       "      <td>0.167658</td>\n",
       "      <td>0.709476</td>\n",
       "    </tr>\n",
       "    <tr>\n",
       "      <th>CQQYYSTPLTF</th>\n",
       "      <td>0.003655</td>\n",
       "      <td>0.000762</td>\n",
       "      <td>0.001487</td>\n",
       "      <td>0.000851</td>\n",
       "      <td>0.000567</td>\n",
       "      <td>0.000067</td>\n",
       "      <td>0.000256</td>\n",
       "      <td>0.000632</td>\n",
       "      <td>0.000497</td>\n",
       "      <td>0.002081</td>\n",
       "      <td>0.000266</td>\n",
       "      <td>0.001563</td>\n",
       "      <td>0.006006</td>\n",
       "      <td>0.000463</td>\n",
       "      <td>0.000659</td>\n",
       "      <td>0.001304</td>\n",
       "      <td>0.572983</td>\n",
       "      <td>0.184106</td>\n",
       "    </tr>\n",
       "    <tr>\n",
       "      <th>IGLV1-51</th>\n",
       "      <th>IGLJ2</th>\n",
       "      <th>CGTWDSSLSAVVF</th>\n",
       "      <td>0.002323</td>\n",
       "      <td>0.000389</td>\n",
       "      <td>0.001090</td>\n",
       "      <td>0.000232</td>\n",
       "      <td>0.000000</td>\n",
       "      <td>0.000036</td>\n",
       "      <td>0.001025</td>\n",
       "      <td>0.000632</td>\n",
       "      <td>0.000203</td>\n",
       "      <td>0.000000</td>\n",
       "      <td>0.000044</td>\n",
       "      <td>0.000195</td>\n",
       "      <td>0.000167</td>\n",
       "      <td>0.000000</td>\n",
       "      <td>0.000818</td>\n",
       "      <td>0.000000</td>\n",
       "      <td>0.586759</td>\n",
       "      <td>0.786158</td>\n",
       "    </tr>\n",
       "    <tr>\n",
       "      <th>IGLV2-14</th>\n",
       "      <th>IGLJ2</th>\n",
       "      <th>CSSYTSSSTVVF</th>\n",
       "      <td>0.002627</td>\n",
       "      <td>0.000135</td>\n",
       "      <td>0.000000</td>\n",
       "      <td>0.000754</td>\n",
       "      <td>0.000243</td>\n",
       "      <td>0.000020</td>\n",
       "      <td>0.000256</td>\n",
       "      <td>0.000211</td>\n",
       "      <td>0.000858</td>\n",
       "      <td>0.000548</td>\n",
       "      <td>0.000007</td>\n",
       "      <td>0.001758</td>\n",
       "      <td>0.003003</td>\n",
       "      <td>0.000754</td>\n",
       "      <td>0.000195</td>\n",
       "      <td>0.000706</td>\n",
       "      <td>0.555558</td>\n",
       "      <td>0.296084</td>\n",
       "    </tr>\n",
       "    <tr>\n",
       "      <th>IGLV3-21</th>\n",
       "      <th>IGLJ2</th>\n",
       "      <th>CQVWDSSSDHVVF</th>\n",
       "      <td>0.003846</td>\n",
       "      <td>0.000299</td>\n",
       "      <td>0.001685</td>\n",
       "      <td>0.000145</td>\n",
       "      <td>0.000486</td>\n",
       "      <td>0.000092</td>\n",
       "      <td>0.000171</td>\n",
       "      <td>0.000632</td>\n",
       "      <td>0.000090</td>\n",
       "      <td>0.000000</td>\n",
       "      <td>0.000148</td>\n",
       "      <td>0.000000</td>\n",
       "      <td>0.001835</td>\n",
       "      <td>0.000291</td>\n",
       "      <td>0.001636</td>\n",
       "      <td>0.001250</td>\n",
       "      <td>0.631110</td>\n",
       "      <td>0.557559</td>\n",
       "    </tr>\n",
       "  </tbody>\n",
       "</table>\n",
       "</div>"
      ],
      "text/plain": [
       "patient_id                     TCGA-49-6743  TCGA-50-6590  TCGA-55-6968  \\\n",
       "v_call   j_call junction_aa                                               \n",
       "IGKV1-12 IGKJ3  CQQANSFPFTF        0.000000      0.005337      0.000000   \n",
       "IGKV1-17 IGKJ1  CLQHNSYPRTF        0.000190      0.002452      0.000991   \n",
       "IGKV1-33 IGKJ2  CQQYDNLPYTF        0.005483      0.000090      0.000430   \n",
       "IGKV1-39 IGKJ1  CQQSYSTPRTF        0.002323      0.000777      0.000198   \n",
       "                CQQSYSTPWTF        0.001104      0.002467      0.000562   \n",
       "         IGKJ4  CQQSYSTPLTF        0.000457      0.000314      0.000430   \n",
       "IGKV1-5  IGKJ1  CQQYNSYWTF         0.000533      0.000105      0.000892   \n",
       "IGKV2-28 IGKJ2  CMQALQTPRTF        0.000495      0.000882      0.000000   \n",
       "         IGKJ4  CMQALQTPPTF        0.000495      0.003483      0.000000   \n",
       "IGKV3-11 IGKJ4  CQQRSNWPLTF        0.000533      0.000224      0.000991   \n",
       "IGKV3-20 IGKJ1  CQQYGSSPRTF        0.003427      0.002198      0.000496   \n",
       "IGKV4-1  IGKJ1  CQQYYSTPQTF        0.001523      0.000045      0.000892   \n",
       "         IGKJ2  CQQYYRTPYTF        0.003770      0.000000      0.000099   \n",
       "                CQQYYSTPYTF        0.008834      0.000673      0.001454   \n",
       "                CQQYYTTPYTF        0.001904      0.000090      0.000363   \n",
       "         IGKJ4  CQQYYSSPLTF        0.000762      0.000299      0.001123   \n",
       "                CQQYYSTPLTF        0.003655      0.000762      0.001487   \n",
       "IGLV1-51 IGLJ2  CGTWDSSLSAVVF      0.002323      0.000389      0.001090   \n",
       "IGLV2-14 IGLJ2  CSSYTSSSTVVF       0.002627      0.000135      0.000000   \n",
       "IGLV3-21 IGLJ2  CQVWDSSSDHVVF      0.003846      0.000299      0.001685   \n",
       "\n",
       "patient_id                     TCGA-55-6969  TCGA-55-6985  TCGA-55-6987  \\\n",
       "v_call   j_call junction_aa                                               \n",
       "IGKV1-12 IGKJ3  CQQANSFPFTF        0.000019      0.000081      0.000041   \n",
       "IGKV1-17 IGKJ1  CLQHNSYPRTF        0.000000      0.000486      0.000000   \n",
       "IGKV1-33 IGKJ2  CQQYDNLPYTF        0.000367      0.000486      0.000251   \n",
       "IGKV1-39 IGKJ1  CQQSYSTPRTF        0.000271      0.001215      0.000102   \n",
       "                CQQSYSTPWTF        0.000290      0.000243      0.000067   \n",
       "         IGKJ4  CQQSYSTPLTF        0.000135      0.000486      0.000256   \n",
       "IGKV1-5  IGKJ1  CQQYNSYWTF         0.000184      0.000648      0.000061   \n",
       "IGKV2-28 IGKJ2  CMQALQTPRTF        0.000164      0.000000      0.000681   \n",
       "         IGKJ4  CMQALQTPPTF        0.000087      0.000000      0.000205   \n",
       "IGKV3-11 IGKJ4  CQQRSNWPLTF        0.000348      0.000000      0.000005   \n",
       "IGKV3-20 IGKJ1  CQQYGSSPRTF        0.000812      0.001377      0.000128   \n",
       "IGKV4-1  IGKJ1  CQQYYSTPQTF        0.000029      0.000648      0.000307   \n",
       "         IGKJ2  CQQYYRTPYTF        0.000745      0.000000      0.000036   \n",
       "                CQQYYSTPYTF        0.002050      0.001296      0.000435   \n",
       "                CQQYYTTPYTF        0.000938      0.000729      0.000189   \n",
       "         IGKJ4  CQQYYSSPLTF        0.000174      0.000972      0.000113   \n",
       "                CQQYYSTPLTF        0.000851      0.000567      0.000067   \n",
       "IGLV1-51 IGLJ2  CGTWDSSLSAVVF      0.000232      0.000000      0.000036   \n",
       "IGLV2-14 IGLJ2  CSSYTSSSTVVF       0.000754      0.000243      0.000020   \n",
       "IGLV3-21 IGLJ2  CQVWDSSSDHVVF      0.000145      0.000486      0.000092   \n",
       "\n",
       "patient_id                     TCGA-55-7570  TCGA-55-8505  TCGA-55-8621  \\\n",
       "v_call   j_call junction_aa                                               \n",
       "IGKV1-12 IGKJ3  CQQANSFPFTF        0.000000      0.000000      0.000407   \n",
       "IGKV1-17 IGKJ1  CLQHNSYPRTF        0.000000      0.000000      0.000316   \n",
       "IGKV1-33 IGKJ2  CQQYDNLPYTF        0.000000      0.001264      0.000474   \n",
       "IGKV1-39 IGKJ1  CQQSYSTPRTF        0.000256      0.000105      0.000723   \n",
       "                CQQSYSTPWTF        0.000427      0.000211      0.001829   \n",
       "         IGKJ4  CQQSYSTPLTF        0.001196      0.000000      0.000158   \n",
       "IGKV1-5  IGKJ1  CQQYNSYWTF         0.000427      0.000632      0.001016   \n",
       "IGKV2-28 IGKJ2  CMQALQTPRTF        0.000000      0.000632      0.001039   \n",
       "         IGKJ4  CMQALQTPPTF        0.000000      0.000000      0.000000   \n",
       "IGKV3-11 IGKJ4  CQQRSNWPLTF        0.000128      0.000421      0.000248   \n",
       "IGKV3-20 IGKJ1  CQQYGSSPRTF        0.000299      0.000948      0.000316   \n",
       "IGKV4-1  IGKJ1  CQQYYSTPQTF        0.000043      0.000000      0.000000   \n",
       "         IGKJ2  CQQYYRTPYTF        0.000000      0.000211      0.000000   \n",
       "                CQQYYSTPYTF        0.000043      0.000000      0.000181   \n",
       "                CQQYYTTPYTF        0.000043      0.000000      0.000090   \n",
       "         IGKJ4  CQQYYSSPLTF        0.000000      0.000000      0.000474   \n",
       "                CQQYYSTPLTF        0.000256      0.000632      0.000497   \n",
       "IGLV1-51 IGLJ2  CGTWDSSLSAVVF      0.001025      0.000632      0.000203   \n",
       "IGLV2-14 IGLJ2  CSSYTSSSTVVF       0.000256      0.000211      0.000858   \n",
       "IGLV3-21 IGLJ2  CQVWDSSSDHVVF      0.000171      0.000632      0.000090   \n",
       "\n",
       "patient_id                     TCGA-55-A4DF  TCGA-64-5779  TCGA-78-7150  \\\n",
       "v_call   j_call junction_aa                                               \n",
       "IGKV1-12 IGKJ3  CQQANSFPFTF        0.000000      0.000015      0.000391   \n",
       "IGKV1-17 IGKJ1  CLQHNSYPRTF        0.000219      0.000007      0.000000   \n",
       "IGKV1-33 IGKJ2  CQQYDNLPYTF        0.000000      0.000104      0.000000   \n",
       "IGKV1-39 IGKJ1  CQQSYSTPRTF        0.000986      0.000089      0.000586   \n",
       "                CQQSYSTPWTF        0.000110      0.000185      0.000000   \n",
       "         IGKJ4  CQQSYSTPLTF        0.000000      0.000473      0.000782   \n",
       "IGKV1-5  IGKJ1  CQQYNSYWTF         0.000438      0.000096      0.000000   \n",
       "IGKV2-28 IGKJ2  CMQALQTPRTF        0.001314      0.000222      0.000000   \n",
       "         IGKJ4  CMQALQTPPTF        0.000329      0.000000      0.001563   \n",
       "IGKV3-11 IGKJ4  CQQRSNWPLTF        0.000329      0.000067      0.000782   \n",
       "IGKV3-20 IGKJ1  CQQYGSSPRTF        0.001314      0.000288      0.000000   \n",
       "IGKV4-1  IGKJ1  CQQYYSTPQTF        0.000438      0.000000      0.002149   \n",
       "         IGKJ2  CQQYYRTPYTF        0.000657      0.000111      0.000000   \n",
       "                CQQYYSTPYTF        0.000876      0.000444      0.001172   \n",
       "                CQQYYTTPYTF        0.001095      0.000222      0.000782   \n",
       "         IGKJ4  CQQYYSSPLTF        0.000000      0.000007      0.001368   \n",
       "                CQQYYSTPLTF        0.002081      0.000266      0.001563   \n",
       "IGLV1-51 IGLJ2  CGTWDSSLSAVVF      0.000000      0.000044      0.000195   \n",
       "IGLV2-14 IGLJ2  CSSYTSSSTVVF       0.000548      0.000007      0.001758   \n",
       "IGLV3-21 IGLJ2  CQVWDSSSDHVVF      0.000000      0.000148      0.000000   \n",
       "\n",
       "patient_id                     TCGA-86-8585  TCGA-91-6831  TCGA-91-A4BC  \\\n",
       "v_call   j_call junction_aa                                               \n",
       "IGKV1-12 IGKJ3  CQQANSFPFTF        0.000751      0.001046      0.000012   \n",
       "IGKV1-17 IGKJ1  CLQHNSYPRTF        0.000000      0.000034      0.000085   \n",
       "IGKV1-33 IGKJ2  CQQYDNLPYTF        0.000417      0.000069      0.000269   \n",
       "IGKV1-39 IGKJ1  CQQSYSTPRTF        0.000334      0.000000      0.000488   \n",
       "                CQQSYSTPWTF        0.002753      0.000137      0.000232   \n",
       "         IGKJ4  CQQSYSTPLTF        0.000334      0.000274      0.000452   \n",
       "IGKV1-5  IGKJ1  CQQYNSYWTF         0.000334      0.000017      0.000110   \n",
       "IGKV2-28 IGKJ2  CMQALQTPRTF        0.000000      0.000720      0.000220   \n",
       "         IGKJ4  CMQALQTPPTF        0.000000      0.000034      0.000049   \n",
       "IGKV3-11 IGKJ4  CQQRSNWPLTF        0.001084      0.000171      0.000452   \n",
       "IGKV3-20 IGKJ1  CQQYGSSPRTF        0.002085      0.002469      0.001257   \n",
       "IGKV4-1  IGKJ1  CQQYYSTPQTF        0.001001      0.000034      0.000415   \n",
       "         IGKJ2  CQQYYRTPYTF        0.000834      0.000000      0.000000   \n",
       "                CQQYYSTPYTF        0.004338      0.000051      0.000281   \n",
       "                CQQYYTTPYTF        0.001335      0.000000      0.000342   \n",
       "         IGKJ4  CQQYYSSPLTF        0.000167      0.000137      0.000037   \n",
       "                CQQYYSTPLTF        0.006006      0.000463      0.000659   \n",
       "IGLV1-51 IGLJ2  CGTWDSSLSAVVF      0.000167      0.000000      0.000818   \n",
       "IGLV2-14 IGLJ2  CSSYTSSSTVVF       0.003003      0.000754      0.000195   \n",
       "IGLV3-21 IGLJ2  CQVWDSSSDHVVF      0.001835      0.000291      0.001636   \n",
       "\n",
       "patient_id                     TCGA-93-A4JQ  correlation  fined_correlation  \n",
       "v_call   j_call junction_aa                                                  \n",
       "IGKV1-12 IGKJ3  CQQANSFPFTF        0.000054     0.413593           0.140244  \n",
       "IGKV1-17 IGKJ1  CLQHNSYPRTF        0.000543     0.407232           0.172615  \n",
       "IGKV1-33 IGKJ2  CQQYDNLPYTF        0.000217     0.690088           0.727116  \n",
       "IGKV1-39 IGKJ1  CQQSYSTPRTF        0.000380     0.683952           0.870098  \n",
       "                CQQSYSTPWTF        0.000869     0.515369           0.143986  \n",
       "         IGKJ4  CQQSYSTPLTF        0.000435     0.053513           0.334727  \n",
       "IGKV1-5  IGKJ1  CQQYNSYWTF         0.000000     0.018272           0.270937  \n",
       "IGKV2-28 IGKJ2  CMQALQTPRTF        0.000869     0.169904           0.322345  \n",
       "         IGKJ4  CMQALQTPPTF        0.000217     0.512813           0.223798  \n",
       "IGKV3-11 IGKJ4  CQQRSNWPLTF        0.000869     0.317388           0.190890  \n",
       "IGKV3-20 IGKJ1  CQQYGSSPRTF        0.002282     0.701993           0.677960  \n",
       "IGKV4-1  IGKJ1  CQQYYSTPQTF        0.000109     0.393861           0.056961  \n",
       "         IGKJ2  CQQYYRTPYTF        0.000163     0.722129           0.734620  \n",
       "                CQQYYSTPYTF        0.001630     0.733900           0.697579  \n",
       "                CQQYYTTPYTF        0.000869     0.568785           0.609936  \n",
       "         IGKJ4  CQQYYSSPLTF        0.000217     0.167658           0.709476  \n",
       "                CQQYYSTPLTF        0.001304     0.572983           0.184106  \n",
       "IGLV1-51 IGLJ2  CGTWDSSLSAVVF      0.000000     0.586759           0.786158  \n",
       "IGLV2-14 IGLJ2  CSSYTSSSTVVF       0.000706     0.555558           0.296084  \n",
       "IGLV3-21 IGLJ2  CQVWDSSSDHVVF      0.001250     0.631110           0.557559  "
      ]
     },
     "execution_count": 16,
     "metadata": {},
     "output_type": "execute_result"
    }
   ],
   "source": [
    "F_L_high_expression[\"correlation\"] = np.array([row.reset_index(drop=True).corr(pd.Series(F_Ht)) for _, row in F_L_high_expression.iterrows()])\n",
    "F_L_high_expression[\"fined_correlation\"] = np.array([customized_correlation(row, F_Ht) for _, row in F_L_high_expression.iterrows()])\n",
    "\n",
    "F_L_high_expression_high_correlation = F_L_high_expression[F_L_high_expression['fined_correlation']>0]\n",
    "F_L_high_expression_high_correlation"
   ]
  },
  {
   "cell_type": "code",
   "execution_count": 20,
   "metadata": {},
   "outputs": [
    {
     "data": {
      "text/html": [
       "<div>\n",
       "<style scoped>\n",
       "    .dataframe tbody tr th:only-of-type {\n",
       "        vertical-align: middle;\n",
       "    }\n",
       "\n",
       "    .dataframe tbody tr th {\n",
       "        vertical-align: top;\n",
       "    }\n",
       "\n",
       "    .dataframe thead th {\n",
       "        text-align: right;\n",
       "    }\n",
       "</style>\n",
       "<table border=\"1\" class=\"dataframe\">\n",
       "  <thead>\n",
       "    <tr style=\"text-align: right;\">\n",
       "      <th></th>\n",
       "      <th></th>\n",
       "      <th></th>\n",
       "      <th>score</th>\n",
       "      <th>correlation</th>\n",
       "      <th>distance</th>\n",
       "    </tr>\n",
       "    <tr>\n",
       "      <th>v_call</th>\n",
       "      <th>j_call</th>\n",
       "      <th>junction_aa</th>\n",
       "      <th></th>\n",
       "      <th></th>\n",
       "      <th></th>\n",
       "    </tr>\n",
       "  </thead>\n",
       "  <tbody>\n",
       "    <tr>\n",
       "      <th>IGKV1-39</th>\n",
       "      <th>IGKJ1</th>\n",
       "      <th>CQQSYSTPRTF</th>\n",
       "      <td>0.000047</td>\n",
       "      <td>0.870098</td>\n",
       "      <td>0.129902</td>\n",
       "    </tr>\n",
       "    <tr>\n",
       "      <th>IGLV1-51</th>\n",
       "      <th>IGLJ2</th>\n",
       "      <th>CGTWDSSLSAVVF</th>\n",
       "      <td>0.000053</td>\n",
       "      <td>0.786158</td>\n",
       "      <td>0.213842</td>\n",
       "    </tr>\n",
       "    <tr>\n",
       "      <th>IGKV4-1</th>\n",
       "      <th>IGKJ2</th>\n",
       "      <th>CQQYYRTPYTF</th>\n",
       "      <td>0.000046</td>\n",
       "      <td>0.734620</td>\n",
       "      <td>0.265380</td>\n",
       "    </tr>\n",
       "    <tr>\n",
       "      <th>IGKV1-33</th>\n",
       "      <th>IGKJ2</th>\n",
       "      <th>CQQYDNLPYTF</th>\n",
       "      <td>0.000039</td>\n",
       "      <td>0.727116</td>\n",
       "      <td>0.272884</td>\n",
       "    </tr>\n",
       "    <tr>\n",
       "      <th rowspan=\"2\" valign=\"top\">IGKV4-1</th>\n",
       "      <th>IGKJ4</th>\n",
       "      <th>CQQYYSSPLTF</th>\n",
       "      <td>0.000069</td>\n",
       "      <td>0.709476</td>\n",
       "      <td>0.290524</td>\n",
       "    </tr>\n",
       "    <tr>\n",
       "      <th>IGKJ2</th>\n",
       "      <th>CQQYYSTPYTF</th>\n",
       "      <td>0.000035</td>\n",
       "      <td>0.697579</td>\n",
       "      <td>0.302421</td>\n",
       "    </tr>\n",
       "    <tr>\n",
       "      <th>IGKV3-20</th>\n",
       "      <th>IGKJ1</th>\n",
       "      <th>CQQYGSSPRTF</th>\n",
       "      <td>0.000026</td>\n",
       "      <td>0.677960</td>\n",
       "      <td>0.322040</td>\n",
       "    </tr>\n",
       "    <tr>\n",
       "      <th>IGKV4-1</th>\n",
       "      <th>IGKJ2</th>\n",
       "      <th>CQQYYTTPYTF</th>\n",
       "      <td>0.000051</td>\n",
       "      <td>0.609936</td>\n",
       "      <td>0.390064</td>\n",
       "    </tr>\n",
       "    <tr>\n",
       "      <th>IGLV3-21</th>\n",
       "      <th>IGLJ2</th>\n",
       "      <th>CQVWDSSSDHVVF</th>\n",
       "      <td>0.000038</td>\n",
       "      <td>0.557559</td>\n",
       "      <td>0.442441</td>\n",
       "    </tr>\n",
       "    <tr>\n",
       "      <th>IGKV1-39</th>\n",
       "      <th>IGKJ4</th>\n",
       "      <th>CQQSYSTPLTF</th>\n",
       "      <td>0.000069</td>\n",
       "      <td>0.334727</td>\n",
       "      <td>0.665273</td>\n",
       "    </tr>\n",
       "    <tr>\n",
       "      <th>IGKV2-28</th>\n",
       "      <th>IGKJ2</th>\n",
       "      <th>CMQALQTPRTF</th>\n",
       "      <td>0.000065</td>\n",
       "      <td>0.322345</td>\n",
       "      <td>0.677655</td>\n",
       "    </tr>\n",
       "    <tr>\n",
       "      <th>IGLV2-14</th>\n",
       "      <th>IGLJ2</th>\n",
       "      <th>CSSYTSSSTVVF</th>\n",
       "      <td>0.000043</td>\n",
       "      <td>0.296084</td>\n",
       "      <td>0.703916</td>\n",
       "    </tr>\n",
       "    <tr>\n",
       "      <th>IGKV1-5</th>\n",
       "      <th>IGKJ1</th>\n",
       "      <th>CQQYNSYWTF</th>\n",
       "      <td>0.000072</td>\n",
       "      <td>0.270937</td>\n",
       "      <td>0.729063</td>\n",
       "    </tr>\n",
       "    <tr>\n",
       "      <th>IGKV2-28</th>\n",
       "      <th>IGKJ4</th>\n",
       "      <th>CMQALQTPPTF</th>\n",
       "      <td>0.000056</td>\n",
       "      <td>0.223798</td>\n",
       "      <td>0.776202</td>\n",
       "    </tr>\n",
       "    <tr>\n",
       "      <th>IGKV3-11</th>\n",
       "      <th>IGKJ4</th>\n",
       "      <th>CQQRSNWPLTF</th>\n",
       "      <td>0.000064</td>\n",
       "      <td>0.190890</td>\n",
       "      <td>0.809110</td>\n",
       "    </tr>\n",
       "    <tr>\n",
       "      <th>IGKV4-1</th>\n",
       "      <th>IGKJ4</th>\n",
       "      <th>CQQYYSTPLTF</th>\n",
       "      <td>0.000036</td>\n",
       "      <td>0.184106</td>\n",
       "      <td>0.815894</td>\n",
       "    </tr>\n",
       "    <tr>\n",
       "      <th>IGKV1-17</th>\n",
       "      <th>IGKJ1</th>\n",
       "      <th>CLQHNSYPRTF</th>\n",
       "      <td>0.000064</td>\n",
       "      <td>0.172615</td>\n",
       "      <td>0.827385</td>\n",
       "    </tr>\n",
       "    <tr>\n",
       "      <th>IGKV1-39</th>\n",
       "      <th>IGKJ1</th>\n",
       "      <th>CQQSYSTPWTF</th>\n",
       "      <td>0.000046</td>\n",
       "      <td>0.143986</td>\n",
       "      <td>0.856014</td>\n",
       "    </tr>\n",
       "    <tr>\n",
       "      <th>IGKV1-12</th>\n",
       "      <th>IGKJ3</th>\n",
       "      <th>CQQANSFPFTF</th>\n",
       "      <td>0.000062</td>\n",
       "      <td>0.140244</td>\n",
       "      <td>0.859756</td>\n",
       "    </tr>\n",
       "    <tr>\n",
       "      <th>IGKV4-1</th>\n",
       "      <th>IGKJ1</th>\n",
       "      <th>CQQYYSTPQTF</th>\n",
       "      <td>0.000058</td>\n",
       "      <td>0.056961</td>\n",
       "      <td>0.943039</td>\n",
       "    </tr>\n",
       "  </tbody>\n",
       "</table>\n",
       "</div>"
      ],
      "text/plain": [
       "                                  score  correlation  distance\n",
       "v_call   j_call junction_aa                                   \n",
       "IGKV1-39 IGKJ1  CQQSYSTPRTF    0.000047     0.870098  0.129902\n",
       "IGLV1-51 IGLJ2  CGTWDSSLSAVVF  0.000053     0.786158  0.213842\n",
       "IGKV4-1  IGKJ2  CQQYYRTPYTF    0.000046     0.734620  0.265380\n",
       "IGKV1-33 IGKJ2  CQQYDNLPYTF    0.000039     0.727116  0.272884\n",
       "IGKV4-1  IGKJ4  CQQYYSSPLTF    0.000069     0.709476  0.290524\n",
       "         IGKJ2  CQQYYSTPYTF    0.000035     0.697579  0.302421\n",
       "IGKV3-20 IGKJ1  CQQYGSSPRTF    0.000026     0.677960  0.322040\n",
       "IGKV4-1  IGKJ2  CQQYYTTPYTF    0.000051     0.609936  0.390064\n",
       "IGLV3-21 IGLJ2  CQVWDSSSDHVVF  0.000038     0.557559  0.442441\n",
       "IGKV1-39 IGKJ4  CQQSYSTPLTF    0.000069     0.334727  0.665273\n",
       "IGKV2-28 IGKJ2  CMQALQTPRTF    0.000065     0.322345  0.677655\n",
       "IGLV2-14 IGLJ2  CSSYTSSSTVVF   0.000043     0.296084  0.703916\n",
       "IGKV1-5  IGKJ1  CQQYNSYWTF     0.000072     0.270937  0.729063\n",
       "IGKV2-28 IGKJ4  CMQALQTPPTF    0.000056     0.223798  0.776202\n",
       "IGKV3-11 IGKJ4  CQQRSNWPLTF    0.000064     0.190890  0.809110\n",
       "IGKV4-1  IGKJ4  CQQYYSTPLTF    0.000036     0.184106  0.815894\n",
       "IGKV1-17 IGKJ1  CLQHNSYPRTF    0.000064     0.172615  0.827385\n",
       "IGKV1-39 IGKJ1  CQQSYSTPWTF    0.000046     0.143986  0.856014\n",
       "IGKV1-12 IGKJ3  CQQANSFPFTF    0.000062     0.140244  0.859756\n",
       "IGKV4-1  IGKJ1  CQQYYSTPQTF    0.000058     0.056961  0.943039"
      ]
     },
     "execution_count": 20,
     "metadata": {},
     "output_type": "execute_result"
    }
   ],
   "source": [
    "score = pd.DataFrame(np.power(F_L_high_expression_high_correlation.drop(['correlation',\"fined_correlation\"],axis=1)-F_Ht, 2).sum(axis=1), columns=['score'])\n",
    "cov_match = []\n",
    "for idx, row in F_L_high_expression_high_correlation.iterrows():\n",
    "    cov_match.append(row['fined_correlation'])\n",
    "score['correlation'] = cov_match\n",
    "score['distance'] = np.power(np.power(score['score'], 2) + np.power(score['correlation']-1,2), 1/2)\n",
    "score = score.sort_values('distance')\n",
    "score"
   ]
  },
  {
   "cell_type": "code",
   "execution_count": 18,
   "metadata": {},
   "outputs": [
    {
     "data": {
      "text/html": [
       "<div>\n",
       "<style scoped>\n",
       "    .dataframe tbody tr th:only-of-type {\n",
       "        vertical-align: middle;\n",
       "    }\n",
       "\n",
       "    .dataframe tbody tr th {\n",
       "        vertical-align: top;\n",
       "    }\n",
       "\n",
       "    .dataframe thead th {\n",
       "        text-align: right;\n",
       "    }\n",
       "</style>\n",
       "<table border=\"1\" class=\"dataframe\">\n",
       "  <thead>\n",
       "    <tr style=\"text-align: right;\">\n",
       "      <th></th>\n",
       "      <th>v_call</th>\n",
       "      <th>j_call</th>\n",
       "      <th>junction_aa</th>\n",
       "      <th>score</th>\n",
       "      <th>correlation</th>\n",
       "      <th>distance</th>\n",
       "    </tr>\n",
       "  </thead>\n",
       "  <tbody>\n",
       "    <tr>\n",
       "      <th>0</th>\n",
       "      <td>IGKV1-39</td>\n",
       "      <td>IGKJ1</td>\n",
       "      <td>CQQSYSTPRTF</td>\n",
       "      <td>0.000047</td>\n",
       "      <td>0.870098</td>\n",
       "      <td>0.129902</td>\n",
       "    </tr>\n",
       "    <tr>\n",
       "      <th>1</th>\n",
       "      <td>IGLV1-51</td>\n",
       "      <td>IGLJ2</td>\n",
       "      <td>CGTWDSSLSAVVF</td>\n",
       "      <td>0.000053</td>\n",
       "      <td>0.786158</td>\n",
       "      <td>0.213842</td>\n",
       "    </tr>\n",
       "    <tr>\n",
       "      <th>2</th>\n",
       "      <td>IGKV4-1</td>\n",
       "      <td>IGKJ2</td>\n",
       "      <td>CQQYYRTPYTF</td>\n",
       "      <td>0.000046</td>\n",
       "      <td>0.734620</td>\n",
       "      <td>0.265380</td>\n",
       "    </tr>\n",
       "    <tr>\n",
       "      <th>3</th>\n",
       "      <td>IGKV1-33</td>\n",
       "      <td>IGKJ2</td>\n",
       "      <td>CQQYDNLPYTF</td>\n",
       "      <td>0.000039</td>\n",
       "      <td>0.727116</td>\n",
       "      <td>0.272884</td>\n",
       "    </tr>\n",
       "    <tr>\n",
       "      <th>4</th>\n",
       "      <td>IGKV4-1</td>\n",
       "      <td>IGKJ4</td>\n",
       "      <td>CQQYYSSPLTF</td>\n",
       "      <td>0.000069</td>\n",
       "      <td>0.709476</td>\n",
       "      <td>0.290524</td>\n",
       "    </tr>\n",
       "    <tr>\n",
       "      <th>5</th>\n",
       "      <td>IGKV4-1</td>\n",
       "      <td>IGKJ2</td>\n",
       "      <td>CQQYYSTPYTF</td>\n",
       "      <td>0.000035</td>\n",
       "      <td>0.697579</td>\n",
       "      <td>0.302421</td>\n",
       "    </tr>\n",
       "    <tr>\n",
       "      <th>6</th>\n",
       "      <td>IGKV3-20</td>\n",
       "      <td>IGKJ1</td>\n",
       "      <td>CQQYGSSPRTF</td>\n",
       "      <td>0.000026</td>\n",
       "      <td>0.677960</td>\n",
       "      <td>0.322040</td>\n",
       "    </tr>\n",
       "    <tr>\n",
       "      <th>7</th>\n",
       "      <td>IGKV4-1</td>\n",
       "      <td>IGKJ2</td>\n",
       "      <td>CQQYYTTPYTF</td>\n",
       "      <td>0.000051</td>\n",
       "      <td>0.609936</td>\n",
       "      <td>0.390064</td>\n",
       "    </tr>\n",
       "    <tr>\n",
       "      <th>8</th>\n",
       "      <td>IGLV3-21</td>\n",
       "      <td>IGLJ2</td>\n",
       "      <td>CQVWDSSSDHVVF</td>\n",
       "      <td>0.000038</td>\n",
       "      <td>0.557559</td>\n",
       "      <td>0.442441</td>\n",
       "    </tr>\n",
       "    <tr>\n",
       "      <th>9</th>\n",
       "      <td>IGKV1-39</td>\n",
       "      <td>IGKJ4</td>\n",
       "      <td>CQQSYSTPLTF</td>\n",
       "      <td>0.000069</td>\n",
       "      <td>0.334727</td>\n",
       "      <td>0.665273</td>\n",
       "    </tr>\n",
       "    <tr>\n",
       "      <th>10</th>\n",
       "      <td>IGKV2-28</td>\n",
       "      <td>IGKJ2</td>\n",
       "      <td>CMQALQTPRTF</td>\n",
       "      <td>0.000065</td>\n",
       "      <td>0.322345</td>\n",
       "      <td>0.677655</td>\n",
       "    </tr>\n",
       "    <tr>\n",
       "      <th>11</th>\n",
       "      <td>IGLV2-14</td>\n",
       "      <td>IGLJ2</td>\n",
       "      <td>CSSYTSSSTVVF</td>\n",
       "      <td>0.000043</td>\n",
       "      <td>0.296084</td>\n",
       "      <td>0.703916</td>\n",
       "    </tr>\n",
       "    <tr>\n",
       "      <th>12</th>\n",
       "      <td>IGKV1-5</td>\n",
       "      <td>IGKJ1</td>\n",
       "      <td>CQQYNSYWTF</td>\n",
       "      <td>0.000072</td>\n",
       "      <td>0.270937</td>\n",
       "      <td>0.729063</td>\n",
       "    </tr>\n",
       "    <tr>\n",
       "      <th>13</th>\n",
       "      <td>IGKV2-28</td>\n",
       "      <td>IGKJ4</td>\n",
       "      <td>CMQALQTPPTF</td>\n",
       "      <td>0.000056</td>\n",
       "      <td>0.223798</td>\n",
       "      <td>0.776202</td>\n",
       "    </tr>\n",
       "    <tr>\n",
       "      <th>14</th>\n",
       "      <td>IGKV3-11</td>\n",
       "      <td>IGKJ4</td>\n",
       "      <td>CQQRSNWPLTF</td>\n",
       "      <td>0.000064</td>\n",
       "      <td>0.190890</td>\n",
       "      <td>0.809110</td>\n",
       "    </tr>\n",
       "    <tr>\n",
       "      <th>15</th>\n",
       "      <td>IGKV4-1</td>\n",
       "      <td>IGKJ4</td>\n",
       "      <td>CQQYYSTPLTF</td>\n",
       "      <td>0.000036</td>\n",
       "      <td>0.184106</td>\n",
       "      <td>0.815894</td>\n",
       "    </tr>\n",
       "    <tr>\n",
       "      <th>16</th>\n",
       "      <td>IGKV1-17</td>\n",
       "      <td>IGKJ1</td>\n",
       "      <td>CLQHNSYPRTF</td>\n",
       "      <td>0.000064</td>\n",
       "      <td>0.172615</td>\n",
       "      <td>0.827385</td>\n",
       "    </tr>\n",
       "    <tr>\n",
       "      <th>17</th>\n",
       "      <td>IGKV1-39</td>\n",
       "      <td>IGKJ1</td>\n",
       "      <td>CQQSYSTPWTF</td>\n",
       "      <td>0.000046</td>\n",
       "      <td>0.143986</td>\n",
       "      <td>0.856014</td>\n",
       "    </tr>\n",
       "    <tr>\n",
       "      <th>18</th>\n",
       "      <td>IGKV1-12</td>\n",
       "      <td>IGKJ3</td>\n",
       "      <td>CQQANSFPFTF</td>\n",
       "      <td>0.000062</td>\n",
       "      <td>0.140244</td>\n",
       "      <td>0.859756</td>\n",
       "    </tr>\n",
       "    <tr>\n",
       "      <th>19</th>\n",
       "      <td>IGKV4-1</td>\n",
       "      <td>IGKJ1</td>\n",
       "      <td>CQQYYSTPQTF</td>\n",
       "      <td>0.000058</td>\n",
       "      <td>0.056961</td>\n",
       "      <td>0.943039</td>\n",
       "    </tr>\n",
       "  </tbody>\n",
       "</table>\n",
       "</div>"
      ],
      "text/plain": [
       "      v_call j_call    junction_aa     score  correlation  distance\n",
       "0   IGKV1-39  IGKJ1    CQQSYSTPRTF  0.000047     0.870098  0.129902\n",
       "1   IGLV1-51  IGLJ2  CGTWDSSLSAVVF  0.000053     0.786158  0.213842\n",
       "2    IGKV4-1  IGKJ2    CQQYYRTPYTF  0.000046     0.734620  0.265380\n",
       "3   IGKV1-33  IGKJ2    CQQYDNLPYTF  0.000039     0.727116  0.272884\n",
       "4    IGKV4-1  IGKJ4    CQQYYSSPLTF  0.000069     0.709476  0.290524\n",
       "5    IGKV4-1  IGKJ2    CQQYYSTPYTF  0.000035     0.697579  0.302421\n",
       "6   IGKV3-20  IGKJ1    CQQYGSSPRTF  0.000026     0.677960  0.322040\n",
       "7    IGKV4-1  IGKJ2    CQQYYTTPYTF  0.000051     0.609936  0.390064\n",
       "8   IGLV3-21  IGLJ2  CQVWDSSSDHVVF  0.000038     0.557559  0.442441\n",
       "9   IGKV1-39  IGKJ4    CQQSYSTPLTF  0.000069     0.334727  0.665273\n",
       "10  IGKV2-28  IGKJ2    CMQALQTPRTF  0.000065     0.322345  0.677655\n",
       "11  IGLV2-14  IGLJ2   CSSYTSSSTVVF  0.000043     0.296084  0.703916\n",
       "12   IGKV1-5  IGKJ1     CQQYNSYWTF  0.000072     0.270937  0.729063\n",
       "13  IGKV2-28  IGKJ4    CMQALQTPPTF  0.000056     0.223798  0.776202\n",
       "14  IGKV3-11  IGKJ4    CQQRSNWPLTF  0.000064     0.190890  0.809110\n",
       "15   IGKV4-1  IGKJ4    CQQYYSTPLTF  0.000036     0.184106  0.815894\n",
       "16  IGKV1-17  IGKJ1    CLQHNSYPRTF  0.000064     0.172615  0.827385\n",
       "17  IGKV1-39  IGKJ1    CQQSYSTPWTF  0.000046     0.143986  0.856014\n",
       "18  IGKV1-12  IGKJ3    CQQANSFPFTF  0.000062     0.140244  0.859756\n",
       "19   IGKV4-1  IGKJ1    CQQYYSTPQTF  0.000058     0.056961  0.943039"
      ]
     },
     "execution_count": 18,
     "metadata": {},
     "output_type": "execute_result"
    }
   ],
   "source": [
    "score_viz = score.reset_index()\n",
    "score_viz"
   ]
  },
  {
   "cell_type": "code",
   "execution_count": 35,
   "metadata": {},
   "outputs": [
    {
     "name": "stdout",
     "output_type": "stream",
     "text": [
      "0.0023226592544644555 0.006292134831460674\n",
      "0.0007773724810141721 0.004469511546238161\n",
      "0.00019824880224681975 0.0009637006103437199\n",
      "0.00027077994294279775 0.00012806556957162068\n",
      "0.001215066828675577 0.0006035003017501509\n",
      "0.00010236514671484653 5.992688919518188e-05\n",
      "0.0002563554795983764 0.0013831258644536654\n",
      "0.00010532968190436065 0.0018450184501845018\n",
      "0.0007226902143228167 0.0002300966405890474\n",
      "0.0009856532690833424 0.0019230769230769232\n",
      "8.871605686699245e-05 0.0002875215641173088\n",
      "0.0005861664712778429 0.0016835016835016834\n",
      "0.000333667000333667 0.002779708130646282\n",
      "0.0 0.0004141644232760406\n",
      "0.0004883349000744711 9.972078181092939e-05\n",
      "0.0003803727653100038 0.0023228803716608595\n",
      "['blue', 'red', 'purple']\n"
     ]
    },
    {
     "data": {
      "application/vnd.plotly.v1+json": {
       "config": {
        "plotlyServerURL": "https://plot.ly"
       },
       "data": [
        {
         "marker": {
          "color": "blue"
         },
         "mode": "markers",
         "type": "scatter",
         "x": [
          0.001051714871726994
         ],
         "xaxis": "x2",
         "y": [
          0.000409553325667994
         ],
         "yaxis": "y2"
        },
        {
         "marker": {
          "color": "red"
         },
         "mode": "markers",
         "type": "scatter",
         "x": [
          0.004469511546238161
         ],
         "xaxis": "x2",
         "y": [
          0.0007773724810141721
         ],
         "yaxis": "y2"
        },
        {
         "marker": {
          "color": "purple"
         },
         "mode": "markers",
         "type": "scatter",
         "x": [
          0.006292134831460674
         ],
         "xaxis": "x2",
         "y": [
          0.0023226592544644555
         ],
         "yaxis": "y2"
        },
        {
         "marker": {
          "color": "blue"
         },
         "mode": "markers",
         "type": "scatter",
         "x": [
          0.0009637006103437199,
          0.00012806556957162068,
          0.0006035003017501509,
          0.00005992688919518188,
          0.0013831258644536654,
          0.0018450184501845018,
          0.0002300966405890474,
          0.0019230769230769232,
          0.0002875215641173088,
          0.0016835016835016834,
          0.002779708130646282,
          0.0004141644232760406,
          0.00009972078181092939,
          0.0023228803716608595
         ],
         "xaxis": "x",
         "y": [
          0.00019824880224681975,
          0.00027077994294279775,
          0.001215066828675577,
          0.00010236514671484653,
          0.0002563554795983764,
          0.00010532968190436065,
          0.0007226902143228167,
          0.0009856532690833424,
          0.00008871605686699245,
          0.0005861664712778429,
          0.000333667000333667,
          0,
          0.0004883349000744711,
          0.0003803727653100038
         ],
         "yaxis": "y"
        },
        {
         "marker": {
          "color": "red"
         },
         "mode": "markers",
         "type": "scatter",
         "x": [
          0.004469511546238161
         ],
         "xaxis": "x",
         "y": [
          0.0007773724810141721
         ],
         "yaxis": "y"
        },
        {
         "marker": {
          "color": "purple"
         },
         "mode": "markers",
         "type": "scatter",
         "x": [
          0.006292134831460674
         ],
         "xaxis": "x",
         "y": [
          0.0023226592544644555
         ],
         "yaxis": "y"
        }
       ],
       "layout": {
        "annotations": [
         {
          "font": {
           "size": 16
          },
          "showarrow": false,
          "text": "Original data - Cov: 0.683952049125728",
          "x": 0.225,
          "xanchor": "center",
          "xref": "paper",
          "y": 1,
          "yanchor": "bottom",
          "yref": "paper"
         },
         {
          "font": {
           "size": 16
          },
          "showarrow": false,
          "text": "Clean data - Cov: 0.8700977860889967",
          "x": 0.775,
          "xanchor": "center",
          "xref": "paper",
          "y": 1,
          "yanchor": "bottom",
          "yref": "paper"
         }
        ],
        "height": 1000,
        "showlegend": false,
        "template": {
         "data": {
          "bar": [
           {
            "error_x": {
             "color": "#2a3f5f"
            },
            "error_y": {
             "color": "#2a3f5f"
            },
            "marker": {
             "line": {
              "color": "#E5ECF6",
              "width": 0.5
             },
             "pattern": {
              "fillmode": "overlay",
              "size": 10,
              "solidity": 0.2
             }
            },
            "type": "bar"
           }
          ],
          "barpolar": [
           {
            "marker": {
             "line": {
              "color": "#E5ECF6",
              "width": 0.5
             },
             "pattern": {
              "fillmode": "overlay",
              "size": 10,
              "solidity": 0.2
             }
            },
            "type": "barpolar"
           }
          ],
          "carpet": [
           {
            "aaxis": {
             "endlinecolor": "#2a3f5f",
             "gridcolor": "white",
             "linecolor": "white",
             "minorgridcolor": "white",
             "startlinecolor": "#2a3f5f"
            },
            "baxis": {
             "endlinecolor": "#2a3f5f",
             "gridcolor": "white",
             "linecolor": "white",
             "minorgridcolor": "white",
             "startlinecolor": "#2a3f5f"
            },
            "type": "carpet"
           }
          ],
          "choropleth": [
           {
            "colorbar": {
             "outlinewidth": 0,
             "ticks": ""
            },
            "type": "choropleth"
           }
          ],
          "contour": [
           {
            "colorbar": {
             "outlinewidth": 0,
             "ticks": ""
            },
            "colorscale": [
             [
              0,
              "#0d0887"
             ],
             [
              0.1111111111111111,
              "#46039f"
             ],
             [
              0.2222222222222222,
              "#7201a8"
             ],
             [
              0.3333333333333333,
              "#9c179e"
             ],
             [
              0.4444444444444444,
              "#bd3786"
             ],
             [
              0.5555555555555556,
              "#d8576b"
             ],
             [
              0.6666666666666666,
              "#ed7953"
             ],
             [
              0.7777777777777778,
              "#fb9f3a"
             ],
             [
              0.8888888888888888,
              "#fdca26"
             ],
             [
              1,
              "#f0f921"
             ]
            ],
            "type": "contour"
           }
          ],
          "contourcarpet": [
           {
            "colorbar": {
             "outlinewidth": 0,
             "ticks": ""
            },
            "type": "contourcarpet"
           }
          ],
          "heatmap": [
           {
            "colorbar": {
             "outlinewidth": 0,
             "ticks": ""
            },
            "colorscale": [
             [
              0,
              "#0d0887"
             ],
             [
              0.1111111111111111,
              "#46039f"
             ],
             [
              0.2222222222222222,
              "#7201a8"
             ],
             [
              0.3333333333333333,
              "#9c179e"
             ],
             [
              0.4444444444444444,
              "#bd3786"
             ],
             [
              0.5555555555555556,
              "#d8576b"
             ],
             [
              0.6666666666666666,
              "#ed7953"
             ],
             [
              0.7777777777777778,
              "#fb9f3a"
             ],
             [
              0.8888888888888888,
              "#fdca26"
             ],
             [
              1,
              "#f0f921"
             ]
            ],
            "type": "heatmap"
           }
          ],
          "heatmapgl": [
           {
            "colorbar": {
             "outlinewidth": 0,
             "ticks": ""
            },
            "colorscale": [
             [
              0,
              "#0d0887"
             ],
             [
              0.1111111111111111,
              "#46039f"
             ],
             [
              0.2222222222222222,
              "#7201a8"
             ],
             [
              0.3333333333333333,
              "#9c179e"
             ],
             [
              0.4444444444444444,
              "#bd3786"
             ],
             [
              0.5555555555555556,
              "#d8576b"
             ],
             [
              0.6666666666666666,
              "#ed7953"
             ],
             [
              0.7777777777777778,
              "#fb9f3a"
             ],
             [
              0.8888888888888888,
              "#fdca26"
             ],
             [
              1,
              "#f0f921"
             ]
            ],
            "type": "heatmapgl"
           }
          ],
          "histogram": [
           {
            "marker": {
             "pattern": {
              "fillmode": "overlay",
              "size": 10,
              "solidity": 0.2
             }
            },
            "type": "histogram"
           }
          ],
          "histogram2d": [
           {
            "colorbar": {
             "outlinewidth": 0,
             "ticks": ""
            },
            "colorscale": [
             [
              0,
              "#0d0887"
             ],
             [
              0.1111111111111111,
              "#46039f"
             ],
             [
              0.2222222222222222,
              "#7201a8"
             ],
             [
              0.3333333333333333,
              "#9c179e"
             ],
             [
              0.4444444444444444,
              "#bd3786"
             ],
             [
              0.5555555555555556,
              "#d8576b"
             ],
             [
              0.6666666666666666,
              "#ed7953"
             ],
             [
              0.7777777777777778,
              "#fb9f3a"
             ],
             [
              0.8888888888888888,
              "#fdca26"
             ],
             [
              1,
              "#f0f921"
             ]
            ],
            "type": "histogram2d"
           }
          ],
          "histogram2dcontour": [
           {
            "colorbar": {
             "outlinewidth": 0,
             "ticks": ""
            },
            "colorscale": [
             [
              0,
              "#0d0887"
             ],
             [
              0.1111111111111111,
              "#46039f"
             ],
             [
              0.2222222222222222,
              "#7201a8"
             ],
             [
              0.3333333333333333,
              "#9c179e"
             ],
             [
              0.4444444444444444,
              "#bd3786"
             ],
             [
              0.5555555555555556,
              "#d8576b"
             ],
             [
              0.6666666666666666,
              "#ed7953"
             ],
             [
              0.7777777777777778,
              "#fb9f3a"
             ],
             [
              0.8888888888888888,
              "#fdca26"
             ],
             [
              1,
              "#f0f921"
             ]
            ],
            "type": "histogram2dcontour"
           }
          ],
          "mesh3d": [
           {
            "colorbar": {
             "outlinewidth": 0,
             "ticks": ""
            },
            "type": "mesh3d"
           }
          ],
          "parcoords": [
           {
            "line": {
             "colorbar": {
              "outlinewidth": 0,
              "ticks": ""
             }
            },
            "type": "parcoords"
           }
          ],
          "pie": [
           {
            "automargin": true,
            "type": "pie"
           }
          ],
          "scatter": [
           {
            "fillpattern": {
             "fillmode": "overlay",
             "size": 10,
             "solidity": 0.2
            },
            "type": "scatter"
           }
          ],
          "scatter3d": [
           {
            "line": {
             "colorbar": {
              "outlinewidth": 0,
              "ticks": ""
             }
            },
            "marker": {
             "colorbar": {
              "outlinewidth": 0,
              "ticks": ""
             }
            },
            "type": "scatter3d"
           }
          ],
          "scattercarpet": [
           {
            "marker": {
             "colorbar": {
              "outlinewidth": 0,
              "ticks": ""
             }
            },
            "type": "scattercarpet"
           }
          ],
          "scattergeo": [
           {
            "marker": {
             "colorbar": {
              "outlinewidth": 0,
              "ticks": ""
             }
            },
            "type": "scattergeo"
           }
          ],
          "scattergl": [
           {
            "marker": {
             "colorbar": {
              "outlinewidth": 0,
              "ticks": ""
             }
            },
            "type": "scattergl"
           }
          ],
          "scattermapbox": [
           {
            "marker": {
             "colorbar": {
              "outlinewidth": 0,
              "ticks": ""
             }
            },
            "type": "scattermapbox"
           }
          ],
          "scatterpolar": [
           {
            "marker": {
             "colorbar": {
              "outlinewidth": 0,
              "ticks": ""
             }
            },
            "type": "scatterpolar"
           }
          ],
          "scatterpolargl": [
           {
            "marker": {
             "colorbar": {
              "outlinewidth": 0,
              "ticks": ""
             }
            },
            "type": "scatterpolargl"
           }
          ],
          "scatterternary": [
           {
            "marker": {
             "colorbar": {
              "outlinewidth": 0,
              "ticks": ""
             }
            },
            "type": "scatterternary"
           }
          ],
          "surface": [
           {
            "colorbar": {
             "outlinewidth": 0,
             "ticks": ""
            },
            "colorscale": [
             [
              0,
              "#0d0887"
             ],
             [
              0.1111111111111111,
              "#46039f"
             ],
             [
              0.2222222222222222,
              "#7201a8"
             ],
             [
              0.3333333333333333,
              "#9c179e"
             ],
             [
              0.4444444444444444,
              "#bd3786"
             ],
             [
              0.5555555555555556,
              "#d8576b"
             ],
             [
              0.6666666666666666,
              "#ed7953"
             ],
             [
              0.7777777777777778,
              "#fb9f3a"
             ],
             [
              0.8888888888888888,
              "#fdca26"
             ],
             [
              1,
              "#f0f921"
             ]
            ],
            "type": "surface"
           }
          ],
          "table": [
           {
            "cells": {
             "fill": {
              "color": "#EBF0F8"
             },
             "line": {
              "color": "white"
             }
            },
            "header": {
             "fill": {
              "color": "#C8D4E3"
             },
             "line": {
              "color": "white"
             }
            },
            "type": "table"
           }
          ]
         },
         "layout": {
          "annotationdefaults": {
           "arrowcolor": "#2a3f5f",
           "arrowhead": 0,
           "arrowwidth": 1
          },
          "autotypenumbers": "strict",
          "coloraxis": {
           "colorbar": {
            "outlinewidth": 0,
            "ticks": ""
           }
          },
          "colorscale": {
           "diverging": [
            [
             0,
             "#8e0152"
            ],
            [
             0.1,
             "#c51b7d"
            ],
            [
             0.2,
             "#de77ae"
            ],
            [
             0.3,
             "#f1b6da"
            ],
            [
             0.4,
             "#fde0ef"
            ],
            [
             0.5,
             "#f7f7f7"
            ],
            [
             0.6,
             "#e6f5d0"
            ],
            [
             0.7,
             "#b8e186"
            ],
            [
             0.8,
             "#7fbc41"
            ],
            [
             0.9,
             "#4d9221"
            ],
            [
             1,
             "#276419"
            ]
           ],
           "sequential": [
            [
             0,
             "#0d0887"
            ],
            [
             0.1111111111111111,
             "#46039f"
            ],
            [
             0.2222222222222222,
             "#7201a8"
            ],
            [
             0.3333333333333333,
             "#9c179e"
            ],
            [
             0.4444444444444444,
             "#bd3786"
            ],
            [
             0.5555555555555556,
             "#d8576b"
            ],
            [
             0.6666666666666666,
             "#ed7953"
            ],
            [
             0.7777777777777778,
             "#fb9f3a"
            ],
            [
             0.8888888888888888,
             "#fdca26"
            ],
            [
             1,
             "#f0f921"
            ]
           ],
           "sequentialminus": [
            [
             0,
             "#0d0887"
            ],
            [
             0.1111111111111111,
             "#46039f"
            ],
            [
             0.2222222222222222,
             "#7201a8"
            ],
            [
             0.3333333333333333,
             "#9c179e"
            ],
            [
             0.4444444444444444,
             "#bd3786"
            ],
            [
             0.5555555555555556,
             "#d8576b"
            ],
            [
             0.6666666666666666,
             "#ed7953"
            ],
            [
             0.7777777777777778,
             "#fb9f3a"
            ],
            [
             0.8888888888888888,
             "#fdca26"
            ],
            [
             1,
             "#f0f921"
            ]
           ]
          },
          "colorway": [
           "#636efa",
           "#EF553B",
           "#00cc96",
           "#ab63fa",
           "#FFA15A",
           "#19d3f3",
           "#FF6692",
           "#B6E880",
           "#FF97FF",
           "#FECB52"
          ],
          "font": {
           "color": "#2a3f5f"
          },
          "geo": {
           "bgcolor": "white",
           "lakecolor": "white",
           "landcolor": "#E5ECF6",
           "showlakes": true,
           "showland": true,
           "subunitcolor": "white"
          },
          "hoverlabel": {
           "align": "left"
          },
          "hovermode": "closest",
          "mapbox": {
           "style": "light"
          },
          "paper_bgcolor": "white",
          "plot_bgcolor": "#E5ECF6",
          "polar": {
           "angularaxis": {
            "gridcolor": "white",
            "linecolor": "white",
            "ticks": ""
           },
           "bgcolor": "#E5ECF6",
           "radialaxis": {
            "gridcolor": "white",
            "linecolor": "white",
            "ticks": ""
           }
          },
          "scene": {
           "xaxis": {
            "backgroundcolor": "#E5ECF6",
            "gridcolor": "white",
            "gridwidth": 2,
            "linecolor": "white",
            "showbackground": true,
            "ticks": "",
            "zerolinecolor": "white"
           },
           "yaxis": {
            "backgroundcolor": "#E5ECF6",
            "gridcolor": "white",
            "gridwidth": 2,
            "linecolor": "white",
            "showbackground": true,
            "ticks": "",
            "zerolinecolor": "white"
           },
           "zaxis": {
            "backgroundcolor": "#E5ECF6",
            "gridcolor": "white",
            "gridwidth": 2,
            "linecolor": "white",
            "showbackground": true,
            "ticks": "",
            "zerolinecolor": "white"
           }
          },
          "shapedefaults": {
           "line": {
            "color": "#2a3f5f"
           }
          },
          "ternary": {
           "aaxis": {
            "gridcolor": "white",
            "linecolor": "white",
            "ticks": ""
           },
           "baxis": {
            "gridcolor": "white",
            "linecolor": "white",
            "ticks": ""
           },
           "bgcolor": "#E5ECF6",
           "caxis": {
            "gridcolor": "white",
            "linecolor": "white",
            "ticks": ""
           }
          },
          "title": {
           "x": 0.05
          },
          "xaxis": {
           "automargin": true,
           "gridcolor": "white",
           "linecolor": "white",
           "ticks": "",
           "title": {
            "standoff": 15
           },
           "zerolinecolor": "white",
           "zerolinewidth": 2
          },
          "yaxis": {
           "automargin": true,
           "gridcolor": "white",
           "linecolor": "white",
           "ticks": "",
           "title": {
            "standoff": 15
           },
           "zerolinecolor": "white",
           "zerolinewidth": 2
          }
         }
        },
        "title": {
         "text": "IGKV1-39_IGKJ1_CQQSYSTPRTF"
        },
        "width": 2000,
        "xaxis": {
         "anchor": "y",
         "domain": [
          0,
          0.45
         ],
         "range": [
          -0.0005,
          0.006792134831460675
         ]
        },
        "xaxis2": {
         "anchor": "y2",
         "domain": [
          0.55,
          1
         ],
         "range": [
          -0.0005,
          0.006792134831460675
         ]
        },
        "yaxis": {
         "anchor": "x",
         "domain": [
          0,
          1
         ],
         "range": [
          -0.0005,
          0.006792134831460675
         ]
        },
        "yaxis2": {
         "anchor": "x2",
         "domain": [
          0,
          1
         ],
         "range": [
          -0.0005,
          0.006792134831460675
         ]
        }
       }
      },
      "text/html": [
       "<div>                            <div id=\"8946617e-f1bf-4524-868c-da9184df8e41\" class=\"plotly-graph-div\" style=\"height:1000px; width:2000px;\"></div>            <script type=\"text/javascript\">                require([\"plotly\"], function(Plotly) {                    window.PLOTLYENV=window.PLOTLYENV || {};                                    if (document.getElementById(\"8946617e-f1bf-4524-868c-da9184df8e41\")) {                    Plotly.newPlot(                        \"8946617e-f1bf-4524-868c-da9184df8e41\",                        [{\"marker\":{\"color\":\"blue\"},\"mode\":\"markers\",\"x\":[0.001051714871726994],\"y\":[0.000409553325667994],\"type\":\"scatter\",\"xaxis\":\"x2\",\"yaxis\":\"y2\"},{\"marker\":{\"color\":\"red\"},\"mode\":\"markers\",\"x\":[0.004469511546238161],\"y\":[0.0007773724810141721],\"type\":\"scatter\",\"xaxis\":\"x2\",\"yaxis\":\"y2\"},{\"marker\":{\"color\":\"purple\"},\"mode\":\"markers\",\"x\":[0.006292134831460674],\"y\":[0.0023226592544644555],\"type\":\"scatter\",\"xaxis\":\"x2\",\"yaxis\":\"y2\"},{\"marker\":{\"color\":\"blue\"},\"mode\":\"markers\",\"x\":[0.0009637006103437199,0.00012806556957162068,0.0006035003017501509,5.992688919518188e-05,0.0013831258644536654,0.0018450184501845018,0.0002300966405890474,0.0019230769230769232,0.0002875215641173088,0.0016835016835016834,0.002779708130646282,0.0004141644232760406,9.972078181092939e-05,0.0023228803716608595],\"y\":[0.00019824880224681975,0.00027077994294279775,0.001215066828675577,0.00010236514671484653,0.0002563554795983764,0.00010532968190436065,0.0007226902143228167,0.0009856532690833424,8.871605686699245e-05,0.0005861664712778429,0.000333667000333667,0.0,0.0004883349000744711,0.0003803727653100038],\"type\":\"scatter\",\"xaxis\":\"x\",\"yaxis\":\"y\"},{\"marker\":{\"color\":\"red\"},\"mode\":\"markers\",\"x\":[0.004469511546238161],\"y\":[0.0007773724810141721],\"type\":\"scatter\",\"xaxis\":\"x\",\"yaxis\":\"y\"},{\"marker\":{\"color\":\"purple\"},\"mode\":\"markers\",\"x\":[0.006292134831460674],\"y\":[0.0023226592544644555],\"type\":\"scatter\",\"xaxis\":\"x\",\"yaxis\":\"y\"}],                        {\"template\":{\"data\":{\"histogram2dcontour\":[{\"type\":\"histogram2dcontour\",\"colorbar\":{\"outlinewidth\":0,\"ticks\":\"\"},\"colorscale\":[[0.0,\"#0d0887\"],[0.1111111111111111,\"#46039f\"],[0.2222222222222222,\"#7201a8\"],[0.3333333333333333,\"#9c179e\"],[0.4444444444444444,\"#bd3786\"],[0.5555555555555556,\"#d8576b\"],[0.6666666666666666,\"#ed7953\"],[0.7777777777777778,\"#fb9f3a\"],[0.8888888888888888,\"#fdca26\"],[1.0,\"#f0f921\"]]}],\"choropleth\":[{\"type\":\"choropleth\",\"colorbar\":{\"outlinewidth\":0,\"ticks\":\"\"}}],\"histogram2d\":[{\"type\":\"histogram2d\",\"colorbar\":{\"outlinewidth\":0,\"ticks\":\"\"},\"colorscale\":[[0.0,\"#0d0887\"],[0.1111111111111111,\"#46039f\"],[0.2222222222222222,\"#7201a8\"],[0.3333333333333333,\"#9c179e\"],[0.4444444444444444,\"#bd3786\"],[0.5555555555555556,\"#d8576b\"],[0.6666666666666666,\"#ed7953\"],[0.7777777777777778,\"#fb9f3a\"],[0.8888888888888888,\"#fdca26\"],[1.0,\"#f0f921\"]]}],\"heatmap\":[{\"type\":\"heatmap\",\"colorbar\":{\"outlinewidth\":0,\"ticks\":\"\"},\"colorscale\":[[0.0,\"#0d0887\"],[0.1111111111111111,\"#46039f\"],[0.2222222222222222,\"#7201a8\"],[0.3333333333333333,\"#9c179e\"],[0.4444444444444444,\"#bd3786\"],[0.5555555555555556,\"#d8576b\"],[0.6666666666666666,\"#ed7953\"],[0.7777777777777778,\"#fb9f3a\"],[0.8888888888888888,\"#fdca26\"],[1.0,\"#f0f921\"]]}],\"heatmapgl\":[{\"type\":\"heatmapgl\",\"colorbar\":{\"outlinewidth\":0,\"ticks\":\"\"},\"colorscale\":[[0.0,\"#0d0887\"],[0.1111111111111111,\"#46039f\"],[0.2222222222222222,\"#7201a8\"],[0.3333333333333333,\"#9c179e\"],[0.4444444444444444,\"#bd3786\"],[0.5555555555555556,\"#d8576b\"],[0.6666666666666666,\"#ed7953\"],[0.7777777777777778,\"#fb9f3a\"],[0.8888888888888888,\"#fdca26\"],[1.0,\"#f0f921\"]]}],\"contourcarpet\":[{\"type\":\"contourcarpet\",\"colorbar\":{\"outlinewidth\":0,\"ticks\":\"\"}}],\"contour\":[{\"type\":\"contour\",\"colorbar\":{\"outlinewidth\":0,\"ticks\":\"\"},\"colorscale\":[[0.0,\"#0d0887\"],[0.1111111111111111,\"#46039f\"],[0.2222222222222222,\"#7201a8\"],[0.3333333333333333,\"#9c179e\"],[0.4444444444444444,\"#bd3786\"],[0.5555555555555556,\"#d8576b\"],[0.6666666666666666,\"#ed7953\"],[0.7777777777777778,\"#fb9f3a\"],[0.8888888888888888,\"#fdca26\"],[1.0,\"#f0f921\"]]}],\"surface\":[{\"type\":\"surface\",\"colorbar\":{\"outlinewidth\":0,\"ticks\":\"\"},\"colorscale\":[[0.0,\"#0d0887\"],[0.1111111111111111,\"#46039f\"],[0.2222222222222222,\"#7201a8\"],[0.3333333333333333,\"#9c179e\"],[0.4444444444444444,\"#bd3786\"],[0.5555555555555556,\"#d8576b\"],[0.6666666666666666,\"#ed7953\"],[0.7777777777777778,\"#fb9f3a\"],[0.8888888888888888,\"#fdca26\"],[1.0,\"#f0f921\"]]}],\"mesh3d\":[{\"type\":\"mesh3d\",\"colorbar\":{\"outlinewidth\":0,\"ticks\":\"\"}}],\"scatter\":[{\"fillpattern\":{\"fillmode\":\"overlay\",\"size\":10,\"solidity\":0.2},\"type\":\"scatter\"}],\"parcoords\":[{\"type\":\"parcoords\",\"line\":{\"colorbar\":{\"outlinewidth\":0,\"ticks\":\"\"}}}],\"scatterpolargl\":[{\"type\":\"scatterpolargl\",\"marker\":{\"colorbar\":{\"outlinewidth\":0,\"ticks\":\"\"}}}],\"bar\":[{\"error_x\":{\"color\":\"#2a3f5f\"},\"error_y\":{\"color\":\"#2a3f5f\"},\"marker\":{\"line\":{\"color\":\"#E5ECF6\",\"width\":0.5},\"pattern\":{\"fillmode\":\"overlay\",\"size\":10,\"solidity\":0.2}},\"type\":\"bar\"}],\"scattergeo\":[{\"type\":\"scattergeo\",\"marker\":{\"colorbar\":{\"outlinewidth\":0,\"ticks\":\"\"}}}],\"scatterpolar\":[{\"type\":\"scatterpolar\",\"marker\":{\"colorbar\":{\"outlinewidth\":0,\"ticks\":\"\"}}}],\"histogram\":[{\"marker\":{\"pattern\":{\"fillmode\":\"overlay\",\"size\":10,\"solidity\":0.2}},\"type\":\"histogram\"}],\"scattergl\":[{\"type\":\"scattergl\",\"marker\":{\"colorbar\":{\"outlinewidth\":0,\"ticks\":\"\"}}}],\"scatter3d\":[{\"type\":\"scatter3d\",\"line\":{\"colorbar\":{\"outlinewidth\":0,\"ticks\":\"\"}},\"marker\":{\"colorbar\":{\"outlinewidth\":0,\"ticks\":\"\"}}}],\"scattermapbox\":[{\"type\":\"scattermapbox\",\"marker\":{\"colorbar\":{\"outlinewidth\":0,\"ticks\":\"\"}}}],\"scatterternary\":[{\"type\":\"scatterternary\",\"marker\":{\"colorbar\":{\"outlinewidth\":0,\"ticks\":\"\"}}}],\"scattercarpet\":[{\"type\":\"scattercarpet\",\"marker\":{\"colorbar\":{\"outlinewidth\":0,\"ticks\":\"\"}}}],\"carpet\":[{\"aaxis\":{\"endlinecolor\":\"#2a3f5f\",\"gridcolor\":\"white\",\"linecolor\":\"white\",\"minorgridcolor\":\"white\",\"startlinecolor\":\"#2a3f5f\"},\"baxis\":{\"endlinecolor\":\"#2a3f5f\",\"gridcolor\":\"white\",\"linecolor\":\"white\",\"minorgridcolor\":\"white\",\"startlinecolor\":\"#2a3f5f\"},\"type\":\"carpet\"}],\"table\":[{\"cells\":{\"fill\":{\"color\":\"#EBF0F8\"},\"line\":{\"color\":\"white\"}},\"header\":{\"fill\":{\"color\":\"#C8D4E3\"},\"line\":{\"color\":\"white\"}},\"type\":\"table\"}],\"barpolar\":[{\"marker\":{\"line\":{\"color\":\"#E5ECF6\",\"width\":0.5},\"pattern\":{\"fillmode\":\"overlay\",\"size\":10,\"solidity\":0.2}},\"type\":\"barpolar\"}],\"pie\":[{\"automargin\":true,\"type\":\"pie\"}]},\"layout\":{\"autotypenumbers\":\"strict\",\"colorway\":[\"#636efa\",\"#EF553B\",\"#00cc96\",\"#ab63fa\",\"#FFA15A\",\"#19d3f3\",\"#FF6692\",\"#B6E880\",\"#FF97FF\",\"#FECB52\"],\"font\":{\"color\":\"#2a3f5f\"},\"hovermode\":\"closest\",\"hoverlabel\":{\"align\":\"left\"},\"paper_bgcolor\":\"white\",\"plot_bgcolor\":\"#E5ECF6\",\"polar\":{\"bgcolor\":\"#E5ECF6\",\"angularaxis\":{\"gridcolor\":\"white\",\"linecolor\":\"white\",\"ticks\":\"\"},\"radialaxis\":{\"gridcolor\":\"white\",\"linecolor\":\"white\",\"ticks\":\"\"}},\"ternary\":{\"bgcolor\":\"#E5ECF6\",\"aaxis\":{\"gridcolor\":\"white\",\"linecolor\":\"white\",\"ticks\":\"\"},\"baxis\":{\"gridcolor\":\"white\",\"linecolor\":\"white\",\"ticks\":\"\"},\"caxis\":{\"gridcolor\":\"white\",\"linecolor\":\"white\",\"ticks\":\"\"}},\"coloraxis\":{\"colorbar\":{\"outlinewidth\":0,\"ticks\":\"\"}},\"colorscale\":{\"sequential\":[[0.0,\"#0d0887\"],[0.1111111111111111,\"#46039f\"],[0.2222222222222222,\"#7201a8\"],[0.3333333333333333,\"#9c179e\"],[0.4444444444444444,\"#bd3786\"],[0.5555555555555556,\"#d8576b\"],[0.6666666666666666,\"#ed7953\"],[0.7777777777777778,\"#fb9f3a\"],[0.8888888888888888,\"#fdca26\"],[1.0,\"#f0f921\"]],\"sequentialminus\":[[0.0,\"#0d0887\"],[0.1111111111111111,\"#46039f\"],[0.2222222222222222,\"#7201a8\"],[0.3333333333333333,\"#9c179e\"],[0.4444444444444444,\"#bd3786\"],[0.5555555555555556,\"#d8576b\"],[0.6666666666666666,\"#ed7953\"],[0.7777777777777778,\"#fb9f3a\"],[0.8888888888888888,\"#fdca26\"],[1.0,\"#f0f921\"]],\"diverging\":[[0,\"#8e0152\"],[0.1,\"#c51b7d\"],[0.2,\"#de77ae\"],[0.3,\"#f1b6da\"],[0.4,\"#fde0ef\"],[0.5,\"#f7f7f7\"],[0.6,\"#e6f5d0\"],[0.7,\"#b8e186\"],[0.8,\"#7fbc41\"],[0.9,\"#4d9221\"],[1,\"#276419\"]]},\"xaxis\":{\"gridcolor\":\"white\",\"linecolor\":\"white\",\"ticks\":\"\",\"title\":{\"standoff\":15},\"zerolinecolor\":\"white\",\"automargin\":true,\"zerolinewidth\":2},\"yaxis\":{\"gridcolor\":\"white\",\"linecolor\":\"white\",\"ticks\":\"\",\"title\":{\"standoff\":15},\"zerolinecolor\":\"white\",\"automargin\":true,\"zerolinewidth\":2},\"scene\":{\"xaxis\":{\"backgroundcolor\":\"#E5ECF6\",\"gridcolor\":\"white\",\"linecolor\":\"white\",\"showbackground\":true,\"ticks\":\"\",\"zerolinecolor\":\"white\",\"gridwidth\":2},\"yaxis\":{\"backgroundcolor\":\"#E5ECF6\",\"gridcolor\":\"white\",\"linecolor\":\"white\",\"showbackground\":true,\"ticks\":\"\",\"zerolinecolor\":\"white\",\"gridwidth\":2},\"zaxis\":{\"backgroundcolor\":\"#E5ECF6\",\"gridcolor\":\"white\",\"linecolor\":\"white\",\"showbackground\":true,\"ticks\":\"\",\"zerolinecolor\":\"white\",\"gridwidth\":2}},\"shapedefaults\":{\"line\":{\"color\":\"#2a3f5f\"}},\"annotationdefaults\":{\"arrowcolor\":\"#2a3f5f\",\"arrowhead\":0,\"arrowwidth\":1},\"geo\":{\"bgcolor\":\"white\",\"landcolor\":\"#E5ECF6\",\"subunitcolor\":\"white\",\"showland\":true,\"showlakes\":true,\"lakecolor\":\"white\"},\"title\":{\"x\":0.05},\"mapbox\":{\"style\":\"light\"}}},\"xaxis\":{\"anchor\":\"y\",\"domain\":[0.0,0.45],\"range\":[-0.0005,0.006792134831460675]},\"yaxis\":{\"anchor\":\"x\",\"domain\":[0.0,1.0],\"range\":[-0.0005,0.006792134831460675]},\"xaxis2\":{\"anchor\":\"y2\",\"domain\":[0.55,1.0],\"range\":[-0.0005,0.006792134831460675]},\"yaxis2\":{\"anchor\":\"x2\",\"domain\":[0.0,1.0],\"range\":[-0.0005,0.006792134831460675]},\"annotations\":[{\"font\":{\"size\":16},\"showarrow\":false,\"text\":\"Original data - Cov: 0.683952049125728\",\"x\":0.225,\"xanchor\":\"center\",\"xref\":\"paper\",\"y\":1.0,\"yanchor\":\"bottom\",\"yref\":\"paper\"},{\"font\":{\"size\":16},\"showarrow\":false,\"text\":\"Clean data - Cov: 0.8700977860889967\",\"x\":0.775,\"xanchor\":\"center\",\"xref\":\"paper\",\"y\":1.0,\"yanchor\":\"bottom\",\"yref\":\"paper\"}],\"title\":{\"text\":\"IGKV1-39_IGKJ1_CQQSYSTPRTF\"},\"height\":1000,\"width\":2000,\"showlegend\":false},                        {\"responsive\": true}                    ).then(function(){\n",
       "                            \n",
       "var gd = document.getElementById('8946617e-f1bf-4524-868c-da9184df8e41');\n",
       "var x = new MutationObserver(function (mutations, observer) {{\n",
       "        var display = window.getComputedStyle(gd).display;\n",
       "        if (!display || display === 'none') {{\n",
       "            console.log([gd, 'removed!']);\n",
       "            Plotly.purge(gd);\n",
       "            observer.disconnect();\n",
       "        }}\n",
       "}});\n",
       "\n",
       "// Listen for the removal of the full notebook cells\n",
       "var notebookContainer = gd.closest('#notebook-container');\n",
       "if (notebookContainer) {{\n",
       "    x.observe(notebookContainer, {childList: true});\n",
       "}}\n",
       "\n",
       "// Listen for the clearing of the current output cell\n",
       "var outputEl = gd.closest('.output');\n",
       "if (outputEl) {{\n",
       "    x.observe(outputEl, {childList: true});\n",
       "}}\n",
       "\n",
       "                        })                };                });            </script>        </div>"
      ]
     },
     "metadata": {},
     "output_type": "display_data"
    }
   ],
   "source": [
    "from sklearn.cluster import DBSCAN\n",
    "from plotly.subplots import make_subplots\n",
    "import plotly.graph_objects as go\n",
    "import random\n",
    "\n",
    "row = ('IGKV1-39','IGKJ1','CQQSYSTPRTF')\n",
    "\n",
    "ls1 = F_L_high_expression.loc[row].reset_index(drop=True)\n",
    "ls2 = pd.Series(F_Ht)\n",
    "[print(i,j) for i,j in zip(ls1, ls2)]\n",
    "\n",
    "fig = make_subplots(rows=1, cols=2, subplot_titles=(f\"Original data - Cov: {ls1.corr(ls2)}\", f\"Clean data - Cov: {customized_correlation(ls1, ls2)}\"))\n",
    "\n",
    "points = np.array([[x,y] for x,y in zip(ls2, ls1)])\n",
    "clustering = DBSCAN(eps=0.001, min_samples=1).fit(points)\n",
    "labels = clustering.labels_.astype(str)\n",
    "# [print(i,j) for i,j in zip(points, labels)]\n",
    "colors = random.sample(['black', 'blue', 'green', 'orange', 'purple', 'red'], len(set(labels)))\n",
    "\n",
    "ls1_new = []\n",
    "ls2_new = []\n",
    "for idx, g in enumerate(set(labels)):\n",
    "    indices = np.where(labels == g)\n",
    "    x, y = np.mean(points[indices], axis=0)\n",
    "    fig.add_trace(go.Scatter(x=[x], y=[y], mode=\"markers\", marker_color=f'{colors[idx]}'), row=1, col=2\n",
    "    )\n",
    "\n",
    "for idx, g in enumerate(set(labels)):\n",
    "    indices = np.where(labels == g)\n",
    "    fig.add_trace(\n",
    "        go.Scatter(x=ls2.iloc[indices], y=ls1.iloc[indices], mode=\"markers\", marker_color=f'{colors[idx]}'), row=1, col=1\n",
    "    )\n",
    "\n",
    "print(colors)\n",
    "# [print(i,j) for i,j in zip(ls1_new, ls2_new)]\n",
    "m = np.max(points)\n",
    "fig.update_yaxes(range=[-0.0005, m+0.0005])\n",
    "fig.update_xaxes(range=[-0.0005, m+0.0005])\n",
    "fig.update_layout(title_text=\"_\".join(row), height=1000, width=2000, showlegend=False)\n",
    "fig.show()"
   ]
  },
  {
   "cell_type": "code",
   "execution_count": 40,
   "metadata": {},
   "outputs": [
    {
     "data": {
      "application/vnd.plotly.v1+json": {
       "config": {
        "plotlyServerURL": "https://plot.ly"
       },
       "data": [
        {
         "customdata": [
          [
           [
            "IGKV1-39",
            "IGKJ1",
            "CQQSYSTPRTF"
           ]
          ],
          [
           [
            "IGLV1-51",
            "IGLJ2",
            "CGTWDSSLSAVVF"
           ]
          ],
          [
           [
            "IGKV4-1",
            "IGKJ2",
            "CQQYYRTPYTF"
           ]
          ],
          [
           [
            "IGKV1-33",
            "IGKJ2",
            "CQQYDNLPYTF"
           ]
          ],
          [
           [
            "IGKV4-1",
            "IGKJ4",
            "CQQYYSSPLTF"
           ]
          ],
          [
           [
            "IGKV4-1",
            "IGKJ2",
            "CQQYYSTPYTF"
           ]
          ],
          [
           [
            "IGKV3-20",
            "IGKJ1",
            "CQQYGSSPRTF"
           ]
          ],
          [
           [
            "IGKV4-1",
            "IGKJ2",
            "CQQYYTTPYTF"
           ]
          ],
          [
           [
            "IGLV3-21",
            "IGLJ2",
            "CQVWDSSSDHVVF"
           ]
          ],
          [
           [
            "IGKV1-39",
            "IGKJ4",
            "CQQSYSTPLTF"
           ]
          ],
          [
           [
            "IGKV2-28",
            "IGKJ2",
            "CMQALQTPRTF"
           ]
          ],
          [
           [
            "IGLV2-14",
            "IGLJ2",
            "CSSYTSSSTVVF"
           ]
          ],
          [
           [
            "IGKV1-5",
            "IGKJ1",
            "CQQYNSYWTF"
           ]
          ],
          [
           [
            "IGKV2-28",
            "IGKJ4",
            "CMQALQTPPTF"
           ]
          ],
          [
           [
            "IGKV3-11",
            "IGKJ4",
            "CQQRSNWPLTF"
           ]
          ],
          [
           [
            "IGKV4-1",
            "IGKJ4",
            "CQQYYSTPLTF"
           ]
          ],
          [
           [
            "IGKV1-17",
            "IGKJ1",
            "CLQHNSYPRTF"
           ]
          ],
          [
           [
            "IGKV1-39",
            "IGKJ1",
            "CQQSYSTPWTF"
           ]
          ],
          [
           [
            "IGKV1-12",
            "IGKJ3",
            "CQQANSFPFTF"
           ]
          ],
          [
           [
            "IGKV4-1",
            "IGKJ1",
            "CQQYYSTPQTF"
           ]
          ]
         ],
         "hovertemplate": "Light chain: %{customdata[0]}<br>Score: %{x}<br>Correlation: %{y}",
         "legendgroup": "",
         "marker": {
          "color": "#636efa",
          "symbol": "circle"
         },
         "mode": "markers",
         "name": "",
         "orientation": "v",
         "showlegend": false,
         "type": "scatter",
         "x": [
          0.00004711094007741516,
          0.00005328379303000243,
          0.00004556915695876073,
          0.000039270084561230775,
          0.0000687413216008054,
          0.000035086794229666344,
          0.000025900062403750044,
          0.000050643376914370194,
          0.00003784481468693261,
          0.00006933826186233534,
          0.00006535176241148409,
          0.000042774648613644064,
          0.00007184501635298562,
          0.00005621184899951955,
          0.00006378191605104744,
          0.00003610733696066951,
          0.0000635162736496491,
          0.00004572726985058349,
          0.00006201897997685746,
          0.00005846860108181709
         ],
         "xaxis": "x",
         "y": [
          0.8700977860889967,
          0.7861575843143407,
          0.7346197063735836,
          0.7271160812541907,
          0.709476105620797,
          0.6975789376914476,
          0.6779596992949541,
          0.6099359681050956,
          0.5575587288524652,
          0.33472696862096984,
          0.32234511338562444,
          0.29608397425999144,
          0.27093661648262696,
          0.22379848042334766,
          0.1908899534938139,
          0.18410617952364786,
          0.17261540122327237,
          0.1439857982544641,
          0.1402435624189789,
          0.056961017996397606
         ],
         "yaxis": "y"
        }
       ],
       "layout": {
        "height": 800,
        "legend": {
         "tracegroupgap": 0
        },
        "template": {
         "data": {
          "bar": [
           {
            "error_x": {
             "color": "#2a3f5f"
            },
            "error_y": {
             "color": "#2a3f5f"
            },
            "marker": {
             "line": {
              "color": "#E5ECF6",
              "width": 0.5
             },
             "pattern": {
              "fillmode": "overlay",
              "size": 10,
              "solidity": 0.2
             }
            },
            "type": "bar"
           }
          ],
          "barpolar": [
           {
            "marker": {
             "line": {
              "color": "#E5ECF6",
              "width": 0.5
             },
             "pattern": {
              "fillmode": "overlay",
              "size": 10,
              "solidity": 0.2
             }
            },
            "type": "barpolar"
           }
          ],
          "carpet": [
           {
            "aaxis": {
             "endlinecolor": "#2a3f5f",
             "gridcolor": "white",
             "linecolor": "white",
             "minorgridcolor": "white",
             "startlinecolor": "#2a3f5f"
            },
            "baxis": {
             "endlinecolor": "#2a3f5f",
             "gridcolor": "white",
             "linecolor": "white",
             "minorgridcolor": "white",
             "startlinecolor": "#2a3f5f"
            },
            "type": "carpet"
           }
          ],
          "choropleth": [
           {
            "colorbar": {
             "outlinewidth": 0,
             "ticks": ""
            },
            "type": "choropleth"
           }
          ],
          "contour": [
           {
            "colorbar": {
             "outlinewidth": 0,
             "ticks": ""
            },
            "colorscale": [
             [
              0,
              "#0d0887"
             ],
             [
              0.1111111111111111,
              "#46039f"
             ],
             [
              0.2222222222222222,
              "#7201a8"
             ],
             [
              0.3333333333333333,
              "#9c179e"
             ],
             [
              0.4444444444444444,
              "#bd3786"
             ],
             [
              0.5555555555555556,
              "#d8576b"
             ],
             [
              0.6666666666666666,
              "#ed7953"
             ],
             [
              0.7777777777777778,
              "#fb9f3a"
             ],
             [
              0.8888888888888888,
              "#fdca26"
             ],
             [
              1,
              "#f0f921"
             ]
            ],
            "type": "contour"
           }
          ],
          "contourcarpet": [
           {
            "colorbar": {
             "outlinewidth": 0,
             "ticks": ""
            },
            "type": "contourcarpet"
           }
          ],
          "heatmap": [
           {
            "colorbar": {
             "outlinewidth": 0,
             "ticks": ""
            },
            "colorscale": [
             [
              0,
              "#0d0887"
             ],
             [
              0.1111111111111111,
              "#46039f"
             ],
             [
              0.2222222222222222,
              "#7201a8"
             ],
             [
              0.3333333333333333,
              "#9c179e"
             ],
             [
              0.4444444444444444,
              "#bd3786"
             ],
             [
              0.5555555555555556,
              "#d8576b"
             ],
             [
              0.6666666666666666,
              "#ed7953"
             ],
             [
              0.7777777777777778,
              "#fb9f3a"
             ],
             [
              0.8888888888888888,
              "#fdca26"
             ],
             [
              1,
              "#f0f921"
             ]
            ],
            "type": "heatmap"
           }
          ],
          "heatmapgl": [
           {
            "colorbar": {
             "outlinewidth": 0,
             "ticks": ""
            },
            "colorscale": [
             [
              0,
              "#0d0887"
             ],
             [
              0.1111111111111111,
              "#46039f"
             ],
             [
              0.2222222222222222,
              "#7201a8"
             ],
             [
              0.3333333333333333,
              "#9c179e"
             ],
             [
              0.4444444444444444,
              "#bd3786"
             ],
             [
              0.5555555555555556,
              "#d8576b"
             ],
             [
              0.6666666666666666,
              "#ed7953"
             ],
             [
              0.7777777777777778,
              "#fb9f3a"
             ],
             [
              0.8888888888888888,
              "#fdca26"
             ],
             [
              1,
              "#f0f921"
             ]
            ],
            "type": "heatmapgl"
           }
          ],
          "histogram": [
           {
            "marker": {
             "pattern": {
              "fillmode": "overlay",
              "size": 10,
              "solidity": 0.2
             }
            },
            "type": "histogram"
           }
          ],
          "histogram2d": [
           {
            "colorbar": {
             "outlinewidth": 0,
             "ticks": ""
            },
            "colorscale": [
             [
              0,
              "#0d0887"
             ],
             [
              0.1111111111111111,
              "#46039f"
             ],
             [
              0.2222222222222222,
              "#7201a8"
             ],
             [
              0.3333333333333333,
              "#9c179e"
             ],
             [
              0.4444444444444444,
              "#bd3786"
             ],
             [
              0.5555555555555556,
              "#d8576b"
             ],
             [
              0.6666666666666666,
              "#ed7953"
             ],
             [
              0.7777777777777778,
              "#fb9f3a"
             ],
             [
              0.8888888888888888,
              "#fdca26"
             ],
             [
              1,
              "#f0f921"
             ]
            ],
            "type": "histogram2d"
           }
          ],
          "histogram2dcontour": [
           {
            "colorbar": {
             "outlinewidth": 0,
             "ticks": ""
            },
            "colorscale": [
             [
              0,
              "#0d0887"
             ],
             [
              0.1111111111111111,
              "#46039f"
             ],
             [
              0.2222222222222222,
              "#7201a8"
             ],
             [
              0.3333333333333333,
              "#9c179e"
             ],
             [
              0.4444444444444444,
              "#bd3786"
             ],
             [
              0.5555555555555556,
              "#d8576b"
             ],
             [
              0.6666666666666666,
              "#ed7953"
             ],
             [
              0.7777777777777778,
              "#fb9f3a"
             ],
             [
              0.8888888888888888,
              "#fdca26"
             ],
             [
              1,
              "#f0f921"
             ]
            ],
            "type": "histogram2dcontour"
           }
          ],
          "mesh3d": [
           {
            "colorbar": {
             "outlinewidth": 0,
             "ticks": ""
            },
            "type": "mesh3d"
           }
          ],
          "parcoords": [
           {
            "line": {
             "colorbar": {
              "outlinewidth": 0,
              "ticks": ""
             }
            },
            "type": "parcoords"
           }
          ],
          "pie": [
           {
            "automargin": true,
            "type": "pie"
           }
          ],
          "scatter": [
           {
            "fillpattern": {
             "fillmode": "overlay",
             "size": 10,
             "solidity": 0.2
            },
            "type": "scatter"
           }
          ],
          "scatter3d": [
           {
            "line": {
             "colorbar": {
              "outlinewidth": 0,
              "ticks": ""
             }
            },
            "marker": {
             "colorbar": {
              "outlinewidth": 0,
              "ticks": ""
             }
            },
            "type": "scatter3d"
           }
          ],
          "scattercarpet": [
           {
            "marker": {
             "colorbar": {
              "outlinewidth": 0,
              "ticks": ""
             }
            },
            "type": "scattercarpet"
           }
          ],
          "scattergeo": [
           {
            "marker": {
             "colorbar": {
              "outlinewidth": 0,
              "ticks": ""
             }
            },
            "type": "scattergeo"
           }
          ],
          "scattergl": [
           {
            "marker": {
             "colorbar": {
              "outlinewidth": 0,
              "ticks": ""
             }
            },
            "type": "scattergl"
           }
          ],
          "scattermapbox": [
           {
            "marker": {
             "colorbar": {
              "outlinewidth": 0,
              "ticks": ""
             }
            },
            "type": "scattermapbox"
           }
          ],
          "scatterpolar": [
           {
            "marker": {
             "colorbar": {
              "outlinewidth": 0,
              "ticks": ""
             }
            },
            "type": "scatterpolar"
           }
          ],
          "scatterpolargl": [
           {
            "marker": {
             "colorbar": {
              "outlinewidth": 0,
              "ticks": ""
             }
            },
            "type": "scatterpolargl"
           }
          ],
          "scatterternary": [
           {
            "marker": {
             "colorbar": {
              "outlinewidth": 0,
              "ticks": ""
             }
            },
            "type": "scatterternary"
           }
          ],
          "surface": [
           {
            "colorbar": {
             "outlinewidth": 0,
             "ticks": ""
            },
            "colorscale": [
             [
              0,
              "#0d0887"
             ],
             [
              0.1111111111111111,
              "#46039f"
             ],
             [
              0.2222222222222222,
              "#7201a8"
             ],
             [
              0.3333333333333333,
              "#9c179e"
             ],
             [
              0.4444444444444444,
              "#bd3786"
             ],
             [
              0.5555555555555556,
              "#d8576b"
             ],
             [
              0.6666666666666666,
              "#ed7953"
             ],
             [
              0.7777777777777778,
              "#fb9f3a"
             ],
             [
              0.8888888888888888,
              "#fdca26"
             ],
             [
              1,
              "#f0f921"
             ]
            ],
            "type": "surface"
           }
          ],
          "table": [
           {
            "cells": {
             "fill": {
              "color": "#EBF0F8"
             },
             "line": {
              "color": "white"
             }
            },
            "header": {
             "fill": {
              "color": "#C8D4E3"
             },
             "line": {
              "color": "white"
             }
            },
            "type": "table"
           }
          ]
         },
         "layout": {
          "annotationdefaults": {
           "arrowcolor": "#2a3f5f",
           "arrowhead": 0,
           "arrowwidth": 1
          },
          "autotypenumbers": "strict",
          "coloraxis": {
           "colorbar": {
            "outlinewidth": 0,
            "ticks": ""
           }
          },
          "colorscale": {
           "diverging": [
            [
             0,
             "#8e0152"
            ],
            [
             0.1,
             "#c51b7d"
            ],
            [
             0.2,
             "#de77ae"
            ],
            [
             0.3,
             "#f1b6da"
            ],
            [
             0.4,
             "#fde0ef"
            ],
            [
             0.5,
             "#f7f7f7"
            ],
            [
             0.6,
             "#e6f5d0"
            ],
            [
             0.7,
             "#b8e186"
            ],
            [
             0.8,
             "#7fbc41"
            ],
            [
             0.9,
             "#4d9221"
            ],
            [
             1,
             "#276419"
            ]
           ],
           "sequential": [
            [
             0,
             "#0d0887"
            ],
            [
             0.1111111111111111,
             "#46039f"
            ],
            [
             0.2222222222222222,
             "#7201a8"
            ],
            [
             0.3333333333333333,
             "#9c179e"
            ],
            [
             0.4444444444444444,
             "#bd3786"
            ],
            [
             0.5555555555555556,
             "#d8576b"
            ],
            [
             0.6666666666666666,
             "#ed7953"
            ],
            [
             0.7777777777777778,
             "#fb9f3a"
            ],
            [
             0.8888888888888888,
             "#fdca26"
            ],
            [
             1,
             "#f0f921"
            ]
           ],
           "sequentialminus": [
            [
             0,
             "#0d0887"
            ],
            [
             0.1111111111111111,
             "#46039f"
            ],
            [
             0.2222222222222222,
             "#7201a8"
            ],
            [
             0.3333333333333333,
             "#9c179e"
            ],
            [
             0.4444444444444444,
             "#bd3786"
            ],
            [
             0.5555555555555556,
             "#d8576b"
            ],
            [
             0.6666666666666666,
             "#ed7953"
            ],
            [
             0.7777777777777778,
             "#fb9f3a"
            ],
            [
             0.8888888888888888,
             "#fdca26"
            ],
            [
             1,
             "#f0f921"
            ]
           ]
          },
          "colorway": [
           "#636efa",
           "#EF553B",
           "#00cc96",
           "#ab63fa",
           "#FFA15A",
           "#19d3f3",
           "#FF6692",
           "#B6E880",
           "#FF97FF",
           "#FECB52"
          ],
          "font": {
           "color": "#2a3f5f"
          },
          "geo": {
           "bgcolor": "white",
           "lakecolor": "white",
           "landcolor": "#E5ECF6",
           "showlakes": true,
           "showland": true,
           "subunitcolor": "white"
          },
          "hoverlabel": {
           "align": "left"
          },
          "hovermode": "closest",
          "mapbox": {
           "style": "light"
          },
          "paper_bgcolor": "white",
          "plot_bgcolor": "#E5ECF6",
          "polar": {
           "angularaxis": {
            "gridcolor": "white",
            "linecolor": "white",
            "ticks": ""
           },
           "bgcolor": "#E5ECF6",
           "radialaxis": {
            "gridcolor": "white",
            "linecolor": "white",
            "ticks": ""
           }
          },
          "scene": {
           "xaxis": {
            "backgroundcolor": "#E5ECF6",
            "gridcolor": "white",
            "gridwidth": 2,
            "linecolor": "white",
            "showbackground": true,
            "ticks": "",
            "zerolinecolor": "white"
           },
           "yaxis": {
            "backgroundcolor": "#E5ECF6",
            "gridcolor": "white",
            "gridwidth": 2,
            "linecolor": "white",
            "showbackground": true,
            "ticks": "",
            "zerolinecolor": "white"
           },
           "zaxis": {
            "backgroundcolor": "#E5ECF6",
            "gridcolor": "white",
            "gridwidth": 2,
            "linecolor": "white",
            "showbackground": true,
            "ticks": "",
            "zerolinecolor": "white"
           }
          },
          "shapedefaults": {
           "line": {
            "color": "#2a3f5f"
           }
          },
          "ternary": {
           "aaxis": {
            "gridcolor": "white",
            "linecolor": "white",
            "ticks": ""
           },
           "baxis": {
            "gridcolor": "white",
            "linecolor": "white",
            "ticks": ""
           },
           "bgcolor": "#E5ECF6",
           "caxis": {
            "gridcolor": "white",
            "linecolor": "white",
            "ticks": ""
           }
          },
          "title": {
           "x": 0.05
          },
          "xaxis": {
           "automargin": true,
           "gridcolor": "white",
           "linecolor": "white",
           "ticks": "",
           "title": {
            "standoff": 15
           },
           "zerolinecolor": "white",
           "zerolinewidth": 2
          },
          "yaxis": {
           "automargin": true,
           "gridcolor": "white",
           "linecolor": "white",
           "ticks": "",
           "title": {
            "standoff": 15
           },
           "zerolinecolor": "white",
           "zerolinewidth": 2
          }
         }
        },
        "title": {
         "text": "LUAD - Heavy chain: IGHV3-30_IGHJ6_CARDSYGMDVW"
        },
        "width": 800,
        "xaxis": {
         "anchor": "y",
         "domain": [
          0,
          1
         ],
         "title": {
          "text": "score"
         }
        },
        "yaxis": {
         "anchor": "x",
         "domain": [
          0,
          1
         ],
         "range": [
          -0.01,
          1.01
         ],
         "title": {
          "text": "correlation"
         }
        }
       }
      },
      "text/html": [
       "<div>                            <div id=\"3e37bda5-98bb-423b-8a94-40a967eecdc3\" class=\"plotly-graph-div\" style=\"height:800px; width:800px;\"></div>            <script type=\"text/javascript\">                require([\"plotly\"], function(Plotly) {                    window.PLOTLYENV=window.PLOTLYENV || {};                                    if (document.getElementById(\"3e37bda5-98bb-423b-8a94-40a967eecdc3\")) {                    Plotly.newPlot(                        \"3e37bda5-98bb-423b-8a94-40a967eecdc3\",                        [{\"customdata\":[[[\"IGKV1-39\",\"IGKJ1\",\"CQQSYSTPRTF\"]],[[\"IGLV1-51\",\"IGLJ2\",\"CGTWDSSLSAVVF\"]],[[\"IGKV4-1\",\"IGKJ2\",\"CQQYYRTPYTF\"]],[[\"IGKV1-33\",\"IGKJ2\",\"CQQYDNLPYTF\"]],[[\"IGKV4-1\",\"IGKJ4\",\"CQQYYSSPLTF\"]],[[\"IGKV4-1\",\"IGKJ2\",\"CQQYYSTPYTF\"]],[[\"IGKV3-20\",\"IGKJ1\",\"CQQYGSSPRTF\"]],[[\"IGKV4-1\",\"IGKJ2\",\"CQQYYTTPYTF\"]],[[\"IGLV3-21\",\"IGLJ2\",\"CQVWDSSSDHVVF\"]],[[\"IGKV1-39\",\"IGKJ4\",\"CQQSYSTPLTF\"]],[[\"IGKV2-28\",\"IGKJ2\",\"CMQALQTPRTF\"]],[[\"IGLV2-14\",\"IGLJ2\",\"CSSYTSSSTVVF\"]],[[\"IGKV1-5\",\"IGKJ1\",\"CQQYNSYWTF\"]],[[\"IGKV2-28\",\"IGKJ4\",\"CMQALQTPPTF\"]],[[\"IGKV3-11\",\"IGKJ4\",\"CQQRSNWPLTF\"]],[[\"IGKV4-1\",\"IGKJ4\",\"CQQYYSTPLTF\"]],[[\"IGKV1-17\",\"IGKJ1\",\"CLQHNSYPRTF\"]],[[\"IGKV1-39\",\"IGKJ1\",\"CQQSYSTPWTF\"]],[[\"IGKV1-12\",\"IGKJ3\",\"CQQANSFPFTF\"]],[[\"IGKV4-1\",\"IGKJ1\",\"CQQYYSTPQTF\"]]],\"hovertemplate\":\"Light chain: %{customdata[0]}<br>Score: %{x}<br>Correlation: %{y}\",\"legendgroup\":\"\",\"marker\":{\"color\":\"#636efa\",\"symbol\":\"circle\"},\"mode\":\"markers\",\"name\":\"\",\"orientation\":\"v\",\"showlegend\":false,\"x\":[4.711094007741516e-05,5.328379303000243e-05,4.556915695876073e-05,3.9270084561230775e-05,6.87413216008054e-05,3.5086794229666344e-05,2.5900062403750044e-05,5.0643376914370194e-05,3.784481468693261e-05,6.933826186233534e-05,6.535176241148409e-05,4.2774648613644064e-05,7.184501635298562e-05,5.621184899951955e-05,6.378191605104744e-05,3.610733696066951e-05,6.35162736496491e-05,4.572726985058349e-05,6.201897997685746e-05,5.846860108181709e-05],\"xaxis\":\"x\",\"y\":[0.8700977860889967,0.7861575843143407,0.7346197063735836,0.7271160812541907,0.709476105620797,0.6975789376914476,0.6779596992949541,0.6099359681050956,0.5575587288524652,0.33472696862096984,0.32234511338562444,0.29608397425999144,0.27093661648262696,0.22379848042334766,0.1908899534938139,0.18410617952364786,0.17261540122327237,0.1439857982544641,0.1402435624189789,0.056961017996397606],\"yaxis\":\"y\",\"type\":\"scatter\"}],                        {\"template\":{\"data\":{\"histogram2dcontour\":[{\"type\":\"histogram2dcontour\",\"colorbar\":{\"outlinewidth\":0,\"ticks\":\"\"},\"colorscale\":[[0.0,\"#0d0887\"],[0.1111111111111111,\"#46039f\"],[0.2222222222222222,\"#7201a8\"],[0.3333333333333333,\"#9c179e\"],[0.4444444444444444,\"#bd3786\"],[0.5555555555555556,\"#d8576b\"],[0.6666666666666666,\"#ed7953\"],[0.7777777777777778,\"#fb9f3a\"],[0.8888888888888888,\"#fdca26\"],[1.0,\"#f0f921\"]]}],\"choropleth\":[{\"type\":\"choropleth\",\"colorbar\":{\"outlinewidth\":0,\"ticks\":\"\"}}],\"histogram2d\":[{\"type\":\"histogram2d\",\"colorbar\":{\"outlinewidth\":0,\"ticks\":\"\"},\"colorscale\":[[0.0,\"#0d0887\"],[0.1111111111111111,\"#46039f\"],[0.2222222222222222,\"#7201a8\"],[0.3333333333333333,\"#9c179e\"],[0.4444444444444444,\"#bd3786\"],[0.5555555555555556,\"#d8576b\"],[0.6666666666666666,\"#ed7953\"],[0.7777777777777778,\"#fb9f3a\"],[0.8888888888888888,\"#fdca26\"],[1.0,\"#f0f921\"]]}],\"heatmap\":[{\"type\":\"heatmap\",\"colorbar\":{\"outlinewidth\":0,\"ticks\":\"\"},\"colorscale\":[[0.0,\"#0d0887\"],[0.1111111111111111,\"#46039f\"],[0.2222222222222222,\"#7201a8\"],[0.3333333333333333,\"#9c179e\"],[0.4444444444444444,\"#bd3786\"],[0.5555555555555556,\"#d8576b\"],[0.6666666666666666,\"#ed7953\"],[0.7777777777777778,\"#fb9f3a\"],[0.8888888888888888,\"#fdca26\"],[1.0,\"#f0f921\"]]}],\"heatmapgl\":[{\"type\":\"heatmapgl\",\"colorbar\":{\"outlinewidth\":0,\"ticks\":\"\"},\"colorscale\":[[0.0,\"#0d0887\"],[0.1111111111111111,\"#46039f\"],[0.2222222222222222,\"#7201a8\"],[0.3333333333333333,\"#9c179e\"],[0.4444444444444444,\"#bd3786\"],[0.5555555555555556,\"#d8576b\"],[0.6666666666666666,\"#ed7953\"],[0.7777777777777778,\"#fb9f3a\"],[0.8888888888888888,\"#fdca26\"],[1.0,\"#f0f921\"]]}],\"contourcarpet\":[{\"type\":\"contourcarpet\",\"colorbar\":{\"outlinewidth\":0,\"ticks\":\"\"}}],\"contour\":[{\"type\":\"contour\",\"colorbar\":{\"outlinewidth\":0,\"ticks\":\"\"},\"colorscale\":[[0.0,\"#0d0887\"],[0.1111111111111111,\"#46039f\"],[0.2222222222222222,\"#7201a8\"],[0.3333333333333333,\"#9c179e\"],[0.4444444444444444,\"#bd3786\"],[0.5555555555555556,\"#d8576b\"],[0.6666666666666666,\"#ed7953\"],[0.7777777777777778,\"#fb9f3a\"],[0.8888888888888888,\"#fdca26\"],[1.0,\"#f0f921\"]]}],\"surface\":[{\"type\":\"surface\",\"colorbar\":{\"outlinewidth\":0,\"ticks\":\"\"},\"colorscale\":[[0.0,\"#0d0887\"],[0.1111111111111111,\"#46039f\"],[0.2222222222222222,\"#7201a8\"],[0.3333333333333333,\"#9c179e\"],[0.4444444444444444,\"#bd3786\"],[0.5555555555555556,\"#d8576b\"],[0.6666666666666666,\"#ed7953\"],[0.7777777777777778,\"#fb9f3a\"],[0.8888888888888888,\"#fdca26\"],[1.0,\"#f0f921\"]]}],\"mesh3d\":[{\"type\":\"mesh3d\",\"colorbar\":{\"outlinewidth\":0,\"ticks\":\"\"}}],\"scatter\":[{\"fillpattern\":{\"fillmode\":\"overlay\",\"size\":10,\"solidity\":0.2},\"type\":\"scatter\"}],\"parcoords\":[{\"type\":\"parcoords\",\"line\":{\"colorbar\":{\"outlinewidth\":0,\"ticks\":\"\"}}}],\"scatterpolargl\":[{\"type\":\"scatterpolargl\",\"marker\":{\"colorbar\":{\"outlinewidth\":0,\"ticks\":\"\"}}}],\"bar\":[{\"error_x\":{\"color\":\"#2a3f5f\"},\"error_y\":{\"color\":\"#2a3f5f\"},\"marker\":{\"line\":{\"color\":\"#E5ECF6\",\"width\":0.5},\"pattern\":{\"fillmode\":\"overlay\",\"size\":10,\"solidity\":0.2}},\"type\":\"bar\"}],\"scattergeo\":[{\"type\":\"scattergeo\",\"marker\":{\"colorbar\":{\"outlinewidth\":0,\"ticks\":\"\"}}}],\"scatterpolar\":[{\"type\":\"scatterpolar\",\"marker\":{\"colorbar\":{\"outlinewidth\":0,\"ticks\":\"\"}}}],\"histogram\":[{\"marker\":{\"pattern\":{\"fillmode\":\"overlay\",\"size\":10,\"solidity\":0.2}},\"type\":\"histogram\"}],\"scattergl\":[{\"type\":\"scattergl\",\"marker\":{\"colorbar\":{\"outlinewidth\":0,\"ticks\":\"\"}}}],\"scatter3d\":[{\"type\":\"scatter3d\",\"line\":{\"colorbar\":{\"outlinewidth\":0,\"ticks\":\"\"}},\"marker\":{\"colorbar\":{\"outlinewidth\":0,\"ticks\":\"\"}}}],\"scattermapbox\":[{\"type\":\"scattermapbox\",\"marker\":{\"colorbar\":{\"outlinewidth\":0,\"ticks\":\"\"}}}],\"scatterternary\":[{\"type\":\"scatterternary\",\"marker\":{\"colorbar\":{\"outlinewidth\":0,\"ticks\":\"\"}}}],\"scattercarpet\":[{\"type\":\"scattercarpet\",\"marker\":{\"colorbar\":{\"outlinewidth\":0,\"ticks\":\"\"}}}],\"carpet\":[{\"aaxis\":{\"endlinecolor\":\"#2a3f5f\",\"gridcolor\":\"white\",\"linecolor\":\"white\",\"minorgridcolor\":\"white\",\"startlinecolor\":\"#2a3f5f\"},\"baxis\":{\"endlinecolor\":\"#2a3f5f\",\"gridcolor\":\"white\",\"linecolor\":\"white\",\"minorgridcolor\":\"white\",\"startlinecolor\":\"#2a3f5f\"},\"type\":\"carpet\"}],\"table\":[{\"cells\":{\"fill\":{\"color\":\"#EBF0F8\"},\"line\":{\"color\":\"white\"}},\"header\":{\"fill\":{\"color\":\"#C8D4E3\"},\"line\":{\"color\":\"white\"}},\"type\":\"table\"}],\"barpolar\":[{\"marker\":{\"line\":{\"color\":\"#E5ECF6\",\"width\":0.5},\"pattern\":{\"fillmode\":\"overlay\",\"size\":10,\"solidity\":0.2}},\"type\":\"barpolar\"}],\"pie\":[{\"automargin\":true,\"type\":\"pie\"}]},\"layout\":{\"autotypenumbers\":\"strict\",\"colorway\":[\"#636efa\",\"#EF553B\",\"#00cc96\",\"#ab63fa\",\"#FFA15A\",\"#19d3f3\",\"#FF6692\",\"#B6E880\",\"#FF97FF\",\"#FECB52\"],\"font\":{\"color\":\"#2a3f5f\"},\"hovermode\":\"closest\",\"hoverlabel\":{\"align\":\"left\"},\"paper_bgcolor\":\"white\",\"plot_bgcolor\":\"#E5ECF6\",\"polar\":{\"bgcolor\":\"#E5ECF6\",\"angularaxis\":{\"gridcolor\":\"white\",\"linecolor\":\"white\",\"ticks\":\"\"},\"radialaxis\":{\"gridcolor\":\"white\",\"linecolor\":\"white\",\"ticks\":\"\"}},\"ternary\":{\"bgcolor\":\"#E5ECF6\",\"aaxis\":{\"gridcolor\":\"white\",\"linecolor\":\"white\",\"ticks\":\"\"},\"baxis\":{\"gridcolor\":\"white\",\"linecolor\":\"white\",\"ticks\":\"\"},\"caxis\":{\"gridcolor\":\"white\",\"linecolor\":\"white\",\"ticks\":\"\"}},\"coloraxis\":{\"colorbar\":{\"outlinewidth\":0,\"ticks\":\"\"}},\"colorscale\":{\"sequential\":[[0.0,\"#0d0887\"],[0.1111111111111111,\"#46039f\"],[0.2222222222222222,\"#7201a8\"],[0.3333333333333333,\"#9c179e\"],[0.4444444444444444,\"#bd3786\"],[0.5555555555555556,\"#d8576b\"],[0.6666666666666666,\"#ed7953\"],[0.7777777777777778,\"#fb9f3a\"],[0.8888888888888888,\"#fdca26\"],[1.0,\"#f0f921\"]],\"sequentialminus\":[[0.0,\"#0d0887\"],[0.1111111111111111,\"#46039f\"],[0.2222222222222222,\"#7201a8\"],[0.3333333333333333,\"#9c179e\"],[0.4444444444444444,\"#bd3786\"],[0.5555555555555556,\"#d8576b\"],[0.6666666666666666,\"#ed7953\"],[0.7777777777777778,\"#fb9f3a\"],[0.8888888888888888,\"#fdca26\"],[1.0,\"#f0f921\"]],\"diverging\":[[0,\"#8e0152\"],[0.1,\"#c51b7d\"],[0.2,\"#de77ae\"],[0.3,\"#f1b6da\"],[0.4,\"#fde0ef\"],[0.5,\"#f7f7f7\"],[0.6,\"#e6f5d0\"],[0.7,\"#b8e186\"],[0.8,\"#7fbc41\"],[0.9,\"#4d9221\"],[1,\"#276419\"]]},\"xaxis\":{\"gridcolor\":\"white\",\"linecolor\":\"white\",\"ticks\":\"\",\"title\":{\"standoff\":15},\"zerolinecolor\":\"white\",\"automargin\":true,\"zerolinewidth\":2},\"yaxis\":{\"gridcolor\":\"white\",\"linecolor\":\"white\",\"ticks\":\"\",\"title\":{\"standoff\":15},\"zerolinecolor\":\"white\",\"automargin\":true,\"zerolinewidth\":2},\"scene\":{\"xaxis\":{\"backgroundcolor\":\"#E5ECF6\",\"gridcolor\":\"white\",\"linecolor\":\"white\",\"showbackground\":true,\"ticks\":\"\",\"zerolinecolor\":\"white\",\"gridwidth\":2},\"yaxis\":{\"backgroundcolor\":\"#E5ECF6\",\"gridcolor\":\"white\",\"linecolor\":\"white\",\"showbackground\":true,\"ticks\":\"\",\"zerolinecolor\":\"white\",\"gridwidth\":2},\"zaxis\":{\"backgroundcolor\":\"#E5ECF6\",\"gridcolor\":\"white\",\"linecolor\":\"white\",\"showbackground\":true,\"ticks\":\"\",\"zerolinecolor\":\"white\",\"gridwidth\":2}},\"shapedefaults\":{\"line\":{\"color\":\"#2a3f5f\"}},\"annotationdefaults\":{\"arrowcolor\":\"#2a3f5f\",\"arrowhead\":0,\"arrowwidth\":1},\"geo\":{\"bgcolor\":\"white\",\"landcolor\":\"#E5ECF6\",\"subunitcolor\":\"white\",\"showland\":true,\"showlakes\":true,\"lakecolor\":\"white\"},\"title\":{\"x\":0.05},\"mapbox\":{\"style\":\"light\"}}},\"xaxis\":{\"anchor\":\"y\",\"domain\":[0.0,1.0],\"title\":{\"text\":\"score\"}},\"yaxis\":{\"anchor\":\"x\",\"domain\":[0.0,1.0],\"title\":{\"text\":\"correlation\"},\"range\":[-0.01,1.01]},\"legend\":{\"tracegroupgap\":0},\"title\":{\"text\":\"LUAD - Heavy chain: IGHV3-30_IGHJ6_CARDSYGMDVW\"},\"height\":800,\"width\":800},                        {\"responsive\": true}                    ).then(function(){\n",
       "                            \n",
       "var gd = document.getElementById('3e37bda5-98bb-423b-8a94-40a967eecdc3');\n",
       "var x = new MutationObserver(function (mutations, observer) {{\n",
       "        var display = window.getComputedStyle(gd).display;\n",
       "        if (!display || display === 'none') {{\n",
       "            console.log([gd, 'removed!']);\n",
       "            Plotly.purge(gd);\n",
       "            observer.disconnect();\n",
       "        }}\n",
       "}});\n",
       "\n",
       "// Listen for the removal of the full notebook cells\n",
       "var notebookContainer = gd.closest('#notebook-container');\n",
       "if (notebookContainer) {{\n",
       "    x.observe(notebookContainer, {childList: true});\n",
       "}}\n",
       "\n",
       "// Listen for the clearing of the current output cell\n",
       "var outputEl = gd.closest('.output');\n",
       "if (outputEl) {{\n",
       "    x.observe(outputEl, {childList: true});\n",
       "}}\n",
       "\n",
       "                        })                };                });            </script>        </div>"
      ]
     },
     "metadata": {},
     "output_type": "display_data"
    }
   ],
   "source": [
    "fig = px.scatter(score, x=\"score\", y=\"correlation\", width=800, height=800, hover_data=[score.index.values], title=\"LUAD - Heavy chain: IGHV3-30_IGHJ6_CARDSYGMDVW\")\n",
    "fig.update_yaxes(range = [-0.01,1.01])\n",
    "fig.update_traces(hovertemplate = 'Light chain: %{customdata[0]}<br>Score: %{x}<br>Correlation: %{y}')\n",
    "# fig.update_yaxes(range=[-0.05, 1.05])\n",
    "# fig.update_xaxes(range=[-0.05, 1.05])\n",
    "fig.show()\n",
    "# fig.write_html(\"testing.html\")"
   ]
  },
  {
   "cell_type": "code",
   "execution_count": null,
   "metadata": {},
   "outputs": [],
   "source": [
    "light_path = Path(f\"/rsrch4/scratch/mol_cgenesis/nkdang/CDR3/results/portal/{cancer}/light/clustering_group\")\n",
    "for f in light_path.glob(\"**/*.tsv\"):\n",
    "    if int(f.parent.name)<10:\n",
    "        continue\n",
    "    # heavy = pd.read_csv(str(f).replace(\"light\",\"heavy\"), sep='\\t', usecols=['v_call','j_call','junction_aa'])\n",
    "    temp = pd.read_csv(f)\n",
    "    print(f.stem)\n",
    "    print(temp)\n",
    "    break"
   ]
  },
  {
   "cell_type": "code",
   "execution_count": 58,
   "metadata": {},
   "outputs": [
    {
     "data": {
      "text/html": [
       "<div>\n",
       "<style scoped>\n",
       "    .dataframe tbody tr th:only-of-type {\n",
       "        vertical-align: middle;\n",
       "    }\n",
       "\n",
       "    .dataframe tbody tr th {\n",
       "        vertical-align: top;\n",
       "    }\n",
       "\n",
       "    .dataframe thead th {\n",
       "        text-align: right;\n",
       "    }\n",
       "</style>\n",
       "<table border=\"1\" class=\"dataframe\">\n",
       "  <thead>\n",
       "    <tr style=\"text-align: right;\">\n",
       "      <th></th>\n",
       "      <th>cancer</th>\n",
       "      <th>heavy</th>\n",
       "      <th>lights</th>\n",
       "      <th>score</th>\n",
       "    </tr>\n",
       "  </thead>\n",
       "  <tbody>\n",
       "    <tr>\n",
       "      <th>0</th>\n",
       "      <td>UCEC</td>\n",
       "      <td>IGHV1-18_IGHJ5_CARVVSVGASNWFDPW</td>\n",
       "      <td>IGKV1-39_IGKJ1_CQQSYTTPWTF</td>\n",
       "      <td>0.006430</td>\n",
       "    </tr>\n",
       "    <tr>\n",
       "      <th>1</th>\n",
       "      <td>UCEC</td>\n",
       "      <td>IGHV1-18_IGHJ5_CARVVSVGASNWFDPW</td>\n",
       "      <td>IGLV3-10_IGLJ3_CYSTDSSGNHWVF</td>\n",
       "      <td>0.010014</td>\n",
       "    </tr>\n",
       "    <tr>\n",
       "      <th>2</th>\n",
       "      <td>STAD</td>\n",
       "      <td>IGHV1-24_IGHJ4_CATDYDYW</td>\n",
       "      <td>IGKV1-16_IGKJ4_CQQYNSYPLTF</td>\n",
       "      <td>0.000001</td>\n",
       "    </tr>\n",
       "    <tr>\n",
       "      <th>3</th>\n",
       "      <td>STAD</td>\n",
       "      <td>IGHV1-24_IGHJ4_CATDYDYW</td>\n",
       "      <td>IGKV3-15_IGKJ1_CQQYNTWPRTF</td>\n",
       "      <td>0.000002</td>\n",
       "    </tr>\n",
       "    <tr>\n",
       "      <th>4</th>\n",
       "      <td>STAD</td>\n",
       "      <td>IGHV1-24_IGHJ4_CATDYDYW</td>\n",
       "      <td>IGKV1-39_IGKJ2_CQQSYSTPRTF</td>\n",
       "      <td>0.000002</td>\n",
       "    </tr>\n",
       "    <tr>\n",
       "      <th>...</th>\n",
       "      <td>...</td>\n",
       "      <td>...</td>\n",
       "      <td>...</td>\n",
       "      <td>...</td>\n",
       "    </tr>\n",
       "    <tr>\n",
       "      <th>1015</th>\n",
       "      <td>KIRC</td>\n",
       "      <td>IGHV1-69-2_IGHJ4_CAVPDHYHVLTGYYAPPRYW</td>\n",
       "      <td>IGKV2-28_IGKJ2_CMQTLQAAWTF</td>\n",
       "      <td>0.001289</td>\n",
       "    </tr>\n",
       "    <tr>\n",
       "      <th>1016</th>\n",
       "      <td>KIRC</td>\n",
       "      <td>IGHV1-69-2_IGHJ4_CAVPDHYHVLTGYYAPPRYW</td>\n",
       "      <td>IGKV2-28_IGKJ2_CMQALQAAWTF</td>\n",
       "      <td>0.001786</td>\n",
       "    </tr>\n",
       "    <tr>\n",
       "      <th>1017</th>\n",
       "      <td>KIRC</td>\n",
       "      <td>IGHV1-69-2_IGHJ4_CAVPDHYHVLTGYYAPPRYW</td>\n",
       "      <td>IGKV2-28_IGKJ2_CMQALQPAWTF</td>\n",
       "      <td>0.001616</td>\n",
       "    </tr>\n",
       "    <tr>\n",
       "      <th>1018</th>\n",
       "      <td>KIRC</td>\n",
       "      <td>IGHV1-69-2_IGHJ4_CAVPDHYHVLTGYYAPPRYW</td>\n",
       "      <td>IGKV3-20_IGKJ4_CQQFSISPPTF</td>\n",
       "      <td>0.001909</td>\n",
       "    </tr>\n",
       "    <tr>\n",
       "      <th>1019</th>\n",
       "      <td>KIRC</td>\n",
       "      <td>IGHV1-69-2_IGHJ4_CAVPDHYHVLTGYYAPPRYW</td>\n",
       "      <td>IGKV2-28_IGKJ2_CMQALQTPWTF</td>\n",
       "      <td>0.001723</td>\n",
       "    </tr>\n",
       "  </tbody>\n",
       "</table>\n",
       "<p>1020 rows × 4 columns</p>\n",
       "</div>"
      ],
      "text/plain": [
       "     cancer                                  heavy  \\\n",
       "0      UCEC        IGHV1-18_IGHJ5_CARVVSVGASNWFDPW   \n",
       "1      UCEC        IGHV1-18_IGHJ5_CARVVSVGASNWFDPW   \n",
       "2      STAD                IGHV1-24_IGHJ4_CATDYDYW   \n",
       "3      STAD                IGHV1-24_IGHJ4_CATDYDYW   \n",
       "4      STAD                IGHV1-24_IGHJ4_CATDYDYW   \n",
       "...     ...                                    ...   \n",
       "1015   KIRC  IGHV1-69-2_IGHJ4_CAVPDHYHVLTGYYAPPRYW   \n",
       "1016   KIRC  IGHV1-69-2_IGHJ4_CAVPDHYHVLTGYYAPPRYW   \n",
       "1017   KIRC  IGHV1-69-2_IGHJ4_CAVPDHYHVLTGYYAPPRYW   \n",
       "1018   KIRC  IGHV1-69-2_IGHJ4_CAVPDHYHVLTGYYAPPRYW   \n",
       "1019   KIRC  IGHV1-69-2_IGHJ4_CAVPDHYHVLTGYYAPPRYW   \n",
       "\n",
       "                            lights     score  \n",
       "0       IGKV1-39_IGKJ1_CQQSYTTPWTF  0.006430  \n",
       "1     IGLV3-10_IGLJ3_CYSTDSSGNHWVF  0.010014  \n",
       "2       IGKV1-16_IGKJ4_CQQYNSYPLTF  0.000001  \n",
       "3       IGKV3-15_IGKJ1_CQQYNTWPRTF  0.000002  \n",
       "4       IGKV1-39_IGKJ2_CQQSYSTPRTF  0.000002  \n",
       "...                            ...       ...  \n",
       "1015    IGKV2-28_IGKJ2_CMQTLQAAWTF  0.001289  \n",
       "1016    IGKV2-28_IGKJ2_CMQALQAAWTF  0.001786  \n",
       "1017    IGKV2-28_IGKJ2_CMQALQPAWTF  0.001616  \n",
       "1018    IGKV3-20_IGKJ4_CQQFSISPPTF  0.001909  \n",
       "1019    IGKV2-28_IGKJ2_CMQALQTPWTF  0.001723  \n",
       "\n",
       "[1020 rows x 4 columns]"
      ]
     },
     "execution_count": 58,
     "metadata": {},
     "output_type": "execute_result"
    }
   ],
   "source": [
    "cancers, heavys, lights, scores = [],[],[], []\n",
    "for folder in Path(\"/rsrch4/scratch/mol_cgenesis/nkdang/CDR3/results/portal\").glob(\"*\"):\n",
    "    cancer = folder.name\n",
    "    for lightchain in folder.joinpath(\"light\").joinpath(\"clustering_group\").glob(\"**/*.tsv\"):\n",
    "        temp = pd.read_csv(lightchain)\n",
    "        for _, row in temp.iterrows():\n",
    "            cancers.append(cancer)\n",
    "            heavys.append(lightchain.stem)\n",
    "            lights.append(row['v_call']+\"_\"+row['j_call']+\"_\"+row['junction_aa'])\n",
    "            scores.append(row['score'])\n",
    "potential_ig = pd.DataFrame({\"cancer\":cancers,\"heavy\":heavys,\"lights\":lights,\"score\":scores})\n",
    "potential_ig"
   ]
  },
  {
   "cell_type": "code",
   "execution_count": 59,
   "metadata": {},
   "outputs": [
    {
     "data": {
      "text/plain": [
       "STAD    461\n",
       "LUSC    432\n",
       "LUAD    110\n",
       "KIRC      6\n",
       "BRCA      5\n",
       "TGCT      4\n",
       "UCEC      2\n",
       "Name: cancer, dtype: int64"
      ]
     },
     "execution_count": 59,
     "metadata": {},
     "output_type": "execute_result"
    }
   ],
   "source": [
    "potential_ig['cancer'].value_counts()"
   ]
  },
  {
   "cell_type": "code",
   "execution_count": 72,
   "metadata": {},
   "outputs": [
    {
     "data": {
      "text/plain": [
       "LUSC    295\n",
       "STAD    225\n",
       "LUAD    190\n",
       "BRCA    150\n",
       "KIRC     75\n",
       "TGCT     50\n",
       "HNSC     45\n",
       "UCEC     30\n",
       "COAD     30\n",
       "THCA     30\n",
       "OV       25\n",
       "ESCA     20\n",
       "CESC     15\n",
       "SKCM     10\n",
       "PAAD     10\n",
       "LIHC      5\n",
       "LAML      5\n",
       "READ      5\n",
       "Name: cancer, dtype: int64"
      ]
     },
     "execution_count": 72,
     "metadata": {},
     "output_type": "execute_result"
    }
   ],
   "source": [
    "cancers, heavys, lights, scores, patients = [],[],[],[], []\n",
    "for folder in Path(\"/rsrch4/scratch/mol_cgenesis/nkdang/CDR3/results/portal\").glob(\"*\"):\n",
    "    cancer = folder.name\n",
    "    for lightchain in folder.joinpath(\"light\").joinpath(\"clustering_group\").glob(\"**/*.tsv\"):\n",
    "        temp_light = pd.read_csv(lightchain)\n",
    "        patient = pd.read_csv(str(lightchain).replace(\"light\",\"heavy\"), sep='\\t')['patient_id'].nunique()\n",
    "        for _, row in temp.iterrows():\n",
    "            cancers.append(cancer)\n",
    "            patients.append(patient)\n",
    "            heavys.append(lightchain.stem)\n",
    "            lights.append(row['v_call']+\"_\"+row['j_call']+\"_\"+row['junction_aa'])\n",
    "            scores.append(row['score'])\n",
    "potential_ig_5 = pd.DataFrame({\"cancer\":cancers,\"heavy\":heavys,\"lights\":lights,\"score\":scores,\"patient\":patients})\n",
    "potential_ig_5['cancer'].value_counts()"
   ]
  },
  {
   "cell_type": "code",
   "execution_count": 73,
   "metadata": {},
   "outputs": [
    {
     "data": {
      "text/html": [
       "<div>\n",
       "<style scoped>\n",
       "    .dataframe tbody tr th:only-of-type {\n",
       "        vertical-align: middle;\n",
       "    }\n",
       "\n",
       "    .dataframe tbody tr th {\n",
       "        vertical-align: top;\n",
       "    }\n",
       "\n",
       "    .dataframe thead th {\n",
       "        text-align: right;\n",
       "    }\n",
       "</style>\n",
       "<table border=\"1\" class=\"dataframe\">\n",
       "  <thead>\n",
       "    <tr style=\"text-align: right;\">\n",
       "      <th></th>\n",
       "      <th>cancer</th>\n",
       "      <th>heavy</th>\n",
       "      <th>lights</th>\n",
       "      <th>score</th>\n",
       "      <th>patient</th>\n",
       "    </tr>\n",
       "  </thead>\n",
       "  <tbody>\n",
       "    <tr>\n",
       "      <th>0</th>\n",
       "      <td>UCEC</td>\n",
       "      <td>IGHV3-30_IGHJ6_CARDSYGMDVW</td>\n",
       "      <td>IGKV1-33_IGKJ2_CQQYDNLPYTF</td>\n",
       "      <td>0.000293</td>\n",
       "      <td>7</td>\n",
       "    </tr>\n",
       "    <tr>\n",
       "      <th>1</th>\n",
       "      <td>UCEC</td>\n",
       "      <td>IGHV3-30_IGHJ6_CARDSYGMDVW</td>\n",
       "      <td>IGLV2-18_IGLJ3_CSSYTSSSTWVF</td>\n",
       "      <td>0.000396</td>\n",
       "      <td>7</td>\n",
       "    </tr>\n",
       "    <tr>\n",
       "      <th>2</th>\n",
       "      <td>UCEC</td>\n",
       "      <td>IGHV3-30_IGHJ6_CARDSYGMDVW</td>\n",
       "      <td>IGKV1-5_IGKJ1_CQQYNSYPWTF</td>\n",
       "      <td>0.000262</td>\n",
       "      <td>7</td>\n",
       "    </tr>\n",
       "    <tr>\n",
       "      <th>3</th>\n",
       "      <td>UCEC</td>\n",
       "      <td>IGHV3-30_IGHJ6_CARDSYGMDVW</td>\n",
       "      <td>IGLV3-1_IGLJ2_CQAWDSSTVIF</td>\n",
       "      <td>0.000197</td>\n",
       "      <td>7</td>\n",
       "    </tr>\n",
       "    <tr>\n",
       "      <th>4</th>\n",
       "      <td>UCEC</td>\n",
       "      <td>IGHV3-30_IGHJ6_CARDSYGMDVW</td>\n",
       "      <td>IGKV4-1_IGKJ2_CQQYYSTPYTF</td>\n",
       "      <td>0.000296</td>\n",
       "      <td>7</td>\n",
       "    </tr>\n",
       "    <tr>\n",
       "      <th>5</th>\n",
       "      <td>UCEC</td>\n",
       "      <td>IGHV4-39_IGHJ5_CARHHGSGFSWFDPW</td>\n",
       "      <td>IGKV1-33_IGKJ2_CQQYDNLPYTF</td>\n",
       "      <td>0.000293</td>\n",
       "      <td>7</td>\n",
       "    </tr>\n",
       "    <tr>\n",
       "      <th>6</th>\n",
       "      <td>UCEC</td>\n",
       "      <td>IGHV4-39_IGHJ5_CARHHGSGFSWFDPW</td>\n",
       "      <td>IGLV2-18_IGLJ3_CSSYTSSSTWVF</td>\n",
       "      <td>0.000396</td>\n",
       "      <td>7</td>\n",
       "    </tr>\n",
       "    <tr>\n",
       "      <th>7</th>\n",
       "      <td>UCEC</td>\n",
       "      <td>IGHV4-39_IGHJ5_CARHHGSGFSWFDPW</td>\n",
       "      <td>IGKV1-5_IGKJ1_CQQYNSYPWTF</td>\n",
       "      <td>0.000262</td>\n",
       "      <td>7</td>\n",
       "    </tr>\n",
       "    <tr>\n",
       "      <th>8</th>\n",
       "      <td>UCEC</td>\n",
       "      <td>IGHV4-39_IGHJ5_CARHHGSGFSWFDPW</td>\n",
       "      <td>IGLV3-1_IGLJ2_CQAWDSSTVIF</td>\n",
       "      <td>0.000197</td>\n",
       "      <td>7</td>\n",
       "    </tr>\n",
       "    <tr>\n",
       "      <th>9</th>\n",
       "      <td>UCEC</td>\n",
       "      <td>IGHV4-39_IGHJ5_CARHHGSGFSWFDPW</td>\n",
       "      <td>IGKV4-1_IGKJ2_CQQYYSTPYTF</td>\n",
       "      <td>0.000296</td>\n",
       "      <td>7</td>\n",
       "    </tr>\n",
       "    <tr>\n",
       "      <th>10</th>\n",
       "      <td>UCEC</td>\n",
       "      <td>IGHV3-15_IGHJ4_CTTDPRYW</td>\n",
       "      <td>IGKV1-33_IGKJ2_CQQYDNLPYTF</td>\n",
       "      <td>0.000293</td>\n",
       "      <td>7</td>\n",
       "    </tr>\n",
       "    <tr>\n",
       "      <th>11</th>\n",
       "      <td>UCEC</td>\n",
       "      <td>IGHV3-15_IGHJ4_CTTDPRYW</td>\n",
       "      <td>IGLV2-18_IGLJ3_CSSYTSSSTWVF</td>\n",
       "      <td>0.000396</td>\n",
       "      <td>7</td>\n",
       "    </tr>\n",
       "    <tr>\n",
       "      <th>12</th>\n",
       "      <td>UCEC</td>\n",
       "      <td>IGHV3-15_IGHJ4_CTTDPRYW</td>\n",
       "      <td>IGKV1-5_IGKJ1_CQQYNSYPWTF</td>\n",
       "      <td>0.000262</td>\n",
       "      <td>7</td>\n",
       "    </tr>\n",
       "    <tr>\n",
       "      <th>13</th>\n",
       "      <td>UCEC</td>\n",
       "      <td>IGHV3-15_IGHJ4_CTTDPRYW</td>\n",
       "      <td>IGLV3-1_IGLJ2_CQAWDSSTVIF</td>\n",
       "      <td>0.000197</td>\n",
       "      <td>7</td>\n",
       "    </tr>\n",
       "    <tr>\n",
       "      <th>14</th>\n",
       "      <td>UCEC</td>\n",
       "      <td>IGHV3-15_IGHJ4_CTTDPRYW</td>\n",
       "      <td>IGKV4-1_IGKJ2_CQQYYSTPYTF</td>\n",
       "      <td>0.000296</td>\n",
       "      <td>7</td>\n",
       "    </tr>\n",
       "    <tr>\n",
       "      <th>15</th>\n",
       "      <td>UCEC</td>\n",
       "      <td>IGHV4-30-4_IGHJ4_CARASFYGDYEDYW</td>\n",
       "      <td>IGKV1-33_IGKJ2_CQQYDNLPYTF</td>\n",
       "      <td>0.000293</td>\n",
       "      <td>5</td>\n",
       "    </tr>\n",
       "    <tr>\n",
       "      <th>16</th>\n",
       "      <td>UCEC</td>\n",
       "      <td>IGHV4-30-4_IGHJ4_CARASFYGDYEDYW</td>\n",
       "      <td>IGLV2-18_IGLJ3_CSSYTSSSTWVF</td>\n",
       "      <td>0.000396</td>\n",
       "      <td>5</td>\n",
       "    </tr>\n",
       "    <tr>\n",
       "      <th>17</th>\n",
       "      <td>UCEC</td>\n",
       "      <td>IGHV4-30-4_IGHJ4_CARASFYGDYEDYW</td>\n",
       "      <td>IGKV1-5_IGKJ1_CQQYNSYPWTF</td>\n",
       "      <td>0.000262</td>\n",
       "      <td>5</td>\n",
       "    </tr>\n",
       "    <tr>\n",
       "      <th>18</th>\n",
       "      <td>UCEC</td>\n",
       "      <td>IGHV4-30-4_IGHJ4_CARASFYGDYEDYW</td>\n",
       "      <td>IGLV3-1_IGLJ2_CQAWDSSTVIF</td>\n",
       "      <td>0.000197</td>\n",
       "      <td>5</td>\n",
       "    </tr>\n",
       "    <tr>\n",
       "      <th>19</th>\n",
       "      <td>UCEC</td>\n",
       "      <td>IGHV4-30-4_IGHJ4_CARASFYGDYEDYW</td>\n",
       "      <td>IGKV4-1_IGKJ2_CQQYYSTPYTF</td>\n",
       "      <td>0.000296</td>\n",
       "      <td>5</td>\n",
       "    </tr>\n",
       "    <tr>\n",
       "      <th>20</th>\n",
       "      <td>UCEC</td>\n",
       "      <td>IGHV3-23_IGHJ4_CAKGLMVRGVNNPYFDYW</td>\n",
       "      <td>IGKV1-33_IGKJ2_CQQYDNLPYTF</td>\n",
       "      <td>0.000293</td>\n",
       "      <td>5</td>\n",
       "    </tr>\n",
       "    <tr>\n",
       "      <th>21</th>\n",
       "      <td>UCEC</td>\n",
       "      <td>IGHV3-23_IGHJ4_CAKGLMVRGVNNPYFDYW</td>\n",
       "      <td>IGLV2-18_IGLJ3_CSSYTSSSTWVF</td>\n",
       "      <td>0.000396</td>\n",
       "      <td>5</td>\n",
       "    </tr>\n",
       "    <tr>\n",
       "      <th>22</th>\n",
       "      <td>UCEC</td>\n",
       "      <td>IGHV3-23_IGHJ4_CAKGLMVRGVNNPYFDYW</td>\n",
       "      <td>IGKV1-5_IGKJ1_CQQYNSYPWTF</td>\n",
       "      <td>0.000262</td>\n",
       "      <td>5</td>\n",
       "    </tr>\n",
       "    <tr>\n",
       "      <th>23</th>\n",
       "      <td>UCEC</td>\n",
       "      <td>IGHV3-23_IGHJ4_CAKGLMVRGVNNPYFDYW</td>\n",
       "      <td>IGLV3-1_IGLJ2_CQAWDSSTVIF</td>\n",
       "      <td>0.000197</td>\n",
       "      <td>5</td>\n",
       "    </tr>\n",
       "    <tr>\n",
       "      <th>24</th>\n",
       "      <td>UCEC</td>\n",
       "      <td>IGHV3-23_IGHJ4_CAKGLMVRGVNNPYFDYW</td>\n",
       "      <td>IGKV4-1_IGKJ2_CQQYYSTPYTF</td>\n",
       "      <td>0.000296</td>\n",
       "      <td>5</td>\n",
       "    </tr>\n",
       "    <tr>\n",
       "      <th>25</th>\n",
       "      <td>UCEC</td>\n",
       "      <td>IGHV1-18_IGHJ5_CARVVSVGASNWFDPW</td>\n",
       "      <td>IGKV1-33_IGKJ2_CQQYDNLPYTF</td>\n",
       "      <td>0.000293</td>\n",
       "      <td>13</td>\n",
       "    </tr>\n",
       "    <tr>\n",
       "      <th>26</th>\n",
       "      <td>UCEC</td>\n",
       "      <td>IGHV1-18_IGHJ5_CARVVSVGASNWFDPW</td>\n",
       "      <td>IGLV2-18_IGLJ3_CSSYTSSSTWVF</td>\n",
       "      <td>0.000396</td>\n",
       "      <td>13</td>\n",
       "    </tr>\n",
       "    <tr>\n",
       "      <th>27</th>\n",
       "      <td>UCEC</td>\n",
       "      <td>IGHV1-18_IGHJ5_CARVVSVGASNWFDPW</td>\n",
       "      <td>IGKV1-5_IGKJ1_CQQYNSYPWTF</td>\n",
       "      <td>0.000262</td>\n",
       "      <td>13</td>\n",
       "    </tr>\n",
       "    <tr>\n",
       "      <th>28</th>\n",
       "      <td>UCEC</td>\n",
       "      <td>IGHV1-18_IGHJ5_CARVVSVGASNWFDPW</td>\n",
       "      <td>IGLV3-1_IGLJ2_CQAWDSSTVIF</td>\n",
       "      <td>0.000197</td>\n",
       "      <td>13</td>\n",
       "    </tr>\n",
       "    <tr>\n",
       "      <th>29</th>\n",
       "      <td>UCEC</td>\n",
       "      <td>IGHV1-18_IGHJ5_CARVVSVGASNWFDPW</td>\n",
       "      <td>IGKV4-1_IGKJ2_CQQYYSTPYTF</td>\n",
       "      <td>0.000296</td>\n",
       "      <td>13</td>\n",
       "    </tr>\n",
       "  </tbody>\n",
       "</table>\n",
       "</div>"
      ],
      "text/plain": [
       "   cancer                              heavy                       lights  \\\n",
       "0    UCEC         IGHV3-30_IGHJ6_CARDSYGMDVW   IGKV1-33_IGKJ2_CQQYDNLPYTF   \n",
       "1    UCEC         IGHV3-30_IGHJ6_CARDSYGMDVW  IGLV2-18_IGLJ3_CSSYTSSSTWVF   \n",
       "2    UCEC         IGHV3-30_IGHJ6_CARDSYGMDVW    IGKV1-5_IGKJ1_CQQYNSYPWTF   \n",
       "3    UCEC         IGHV3-30_IGHJ6_CARDSYGMDVW    IGLV3-1_IGLJ2_CQAWDSSTVIF   \n",
       "4    UCEC         IGHV3-30_IGHJ6_CARDSYGMDVW    IGKV4-1_IGKJ2_CQQYYSTPYTF   \n",
       "5    UCEC     IGHV4-39_IGHJ5_CARHHGSGFSWFDPW   IGKV1-33_IGKJ2_CQQYDNLPYTF   \n",
       "6    UCEC     IGHV4-39_IGHJ5_CARHHGSGFSWFDPW  IGLV2-18_IGLJ3_CSSYTSSSTWVF   \n",
       "7    UCEC     IGHV4-39_IGHJ5_CARHHGSGFSWFDPW    IGKV1-5_IGKJ1_CQQYNSYPWTF   \n",
       "8    UCEC     IGHV4-39_IGHJ5_CARHHGSGFSWFDPW    IGLV3-1_IGLJ2_CQAWDSSTVIF   \n",
       "9    UCEC     IGHV4-39_IGHJ5_CARHHGSGFSWFDPW    IGKV4-1_IGKJ2_CQQYYSTPYTF   \n",
       "10   UCEC            IGHV3-15_IGHJ4_CTTDPRYW   IGKV1-33_IGKJ2_CQQYDNLPYTF   \n",
       "11   UCEC            IGHV3-15_IGHJ4_CTTDPRYW  IGLV2-18_IGLJ3_CSSYTSSSTWVF   \n",
       "12   UCEC            IGHV3-15_IGHJ4_CTTDPRYW    IGKV1-5_IGKJ1_CQQYNSYPWTF   \n",
       "13   UCEC            IGHV3-15_IGHJ4_CTTDPRYW    IGLV3-1_IGLJ2_CQAWDSSTVIF   \n",
       "14   UCEC            IGHV3-15_IGHJ4_CTTDPRYW    IGKV4-1_IGKJ2_CQQYYSTPYTF   \n",
       "15   UCEC    IGHV4-30-4_IGHJ4_CARASFYGDYEDYW   IGKV1-33_IGKJ2_CQQYDNLPYTF   \n",
       "16   UCEC    IGHV4-30-4_IGHJ4_CARASFYGDYEDYW  IGLV2-18_IGLJ3_CSSYTSSSTWVF   \n",
       "17   UCEC    IGHV4-30-4_IGHJ4_CARASFYGDYEDYW    IGKV1-5_IGKJ1_CQQYNSYPWTF   \n",
       "18   UCEC    IGHV4-30-4_IGHJ4_CARASFYGDYEDYW    IGLV3-1_IGLJ2_CQAWDSSTVIF   \n",
       "19   UCEC    IGHV4-30-4_IGHJ4_CARASFYGDYEDYW    IGKV4-1_IGKJ2_CQQYYSTPYTF   \n",
       "20   UCEC  IGHV3-23_IGHJ4_CAKGLMVRGVNNPYFDYW   IGKV1-33_IGKJ2_CQQYDNLPYTF   \n",
       "21   UCEC  IGHV3-23_IGHJ4_CAKGLMVRGVNNPYFDYW  IGLV2-18_IGLJ3_CSSYTSSSTWVF   \n",
       "22   UCEC  IGHV3-23_IGHJ4_CAKGLMVRGVNNPYFDYW    IGKV1-5_IGKJ1_CQQYNSYPWTF   \n",
       "23   UCEC  IGHV3-23_IGHJ4_CAKGLMVRGVNNPYFDYW    IGLV3-1_IGLJ2_CQAWDSSTVIF   \n",
       "24   UCEC  IGHV3-23_IGHJ4_CAKGLMVRGVNNPYFDYW    IGKV4-1_IGKJ2_CQQYYSTPYTF   \n",
       "25   UCEC    IGHV1-18_IGHJ5_CARVVSVGASNWFDPW   IGKV1-33_IGKJ2_CQQYDNLPYTF   \n",
       "26   UCEC    IGHV1-18_IGHJ5_CARVVSVGASNWFDPW  IGLV2-18_IGLJ3_CSSYTSSSTWVF   \n",
       "27   UCEC    IGHV1-18_IGHJ5_CARVVSVGASNWFDPW    IGKV1-5_IGKJ1_CQQYNSYPWTF   \n",
       "28   UCEC    IGHV1-18_IGHJ5_CARVVSVGASNWFDPW    IGLV3-1_IGLJ2_CQAWDSSTVIF   \n",
       "29   UCEC    IGHV1-18_IGHJ5_CARVVSVGASNWFDPW    IGKV4-1_IGKJ2_CQQYYSTPYTF   \n",
       "\n",
       "       score  patient  \n",
       "0   0.000293        7  \n",
       "1   0.000396        7  \n",
       "2   0.000262        7  \n",
       "3   0.000197        7  \n",
       "4   0.000296        7  \n",
       "5   0.000293        7  \n",
       "6   0.000396        7  \n",
       "7   0.000262        7  \n",
       "8   0.000197        7  \n",
       "9   0.000296        7  \n",
       "10  0.000293        7  \n",
       "11  0.000396        7  \n",
       "12  0.000262        7  \n",
       "13  0.000197        7  \n",
       "14  0.000296        7  \n",
       "15  0.000293        5  \n",
       "16  0.000396        5  \n",
       "17  0.000262        5  \n",
       "18  0.000197        5  \n",
       "19  0.000296        5  \n",
       "20  0.000293        5  \n",
       "21  0.000396        5  \n",
       "22  0.000262        5  \n",
       "23  0.000197        5  \n",
       "24  0.000296        5  \n",
       "25  0.000293       13  \n",
       "26  0.000396       13  \n",
       "27  0.000262       13  \n",
       "28  0.000197       13  \n",
       "29  0.000296       13  "
      ]
     },
     "execution_count": 73,
     "metadata": {},
     "output_type": "execute_result"
    }
   ],
   "source": [
    "potential_ig_5[potential_ig_5['cancer']=='UCEC']"
   ]
  },
  {
   "cell_type": "code",
   "execution_count": null,
   "metadata": {},
   "outputs": [],
   "source": []
  }
 ],
 "metadata": {
  "kernelspec": {
   "display_name": "Python 3.10.6 ('cdr3')",
   "language": "python",
   "name": "python3"
  },
  "language_info": {
   "codemirror_mode": {
    "name": "ipython",
    "version": 3
   },
   "file_extension": ".py",
   "mimetype": "text/x-python",
   "name": "python",
   "nbconvert_exporter": "python",
   "pygments_lexer": "ipython3",
   "version": "3.10.6"
  },
  "orig_nbformat": 4,
  "vscode": {
   "interpreter": {
    "hash": "da8c4c64fe05bdfb48ef624f0a5e2bd5495d0b6fce7fe20f8a46c3ed1fd61e3f"
   }
  }
 },
 "nbformat": 4,
 "nbformat_minor": 2
}
